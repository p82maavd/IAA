{
  "nbformat": 4,
  "nbformat_minor": 0,
  "metadata": {
    "colab": {
      "provenance": []
    },
    "kernelspec": {
      "name": "python3",
      "display_name": "Python 3"
    },
    "language_info": {
      "name": "python"
    }
  },
  "cells": [
    {
      "cell_type": "markdown",
      "source": [
        "# CLASIFICACIÓN\n"
      ],
      "metadata": {
        "id": "MDAjC7_ozzpI"
      }
    },
    {
      "cell_type": "code",
      "execution_count": null,
      "metadata": {
        "id": "fGhq_1sazwf_"
      },
      "outputs": [],
      "source": [
        "!pip install turicreate"
      ]
    },
    {
      "cell_type": "code",
      "source": [
        "import pandas as pd\n",
        "from sklearn import linear_model,datasets\n",
        "from sklearn.utils import Bunch\n",
        "import csv\n",
        "import time\n",
        "import math\n",
        "import numpy as np\n",
        "import random as rd\n",
        "import turicreate as tc\n",
        "import matplotlib.pyplot as plt\n",
        "\n",
        "# Connect to GDrive\n",
        "from google.colab import drive\n",
        "drive.mount('/content/gdrive')"
      ],
      "metadata": {
        "colab": {
          "base_uri": "https://localhost:8080/"
        },
        "id": "trGdjAch30yk",
        "outputId": "5e962934-295c-41c9-de28-7f950f91c3e3"
      },
      "execution_count": null,
      "outputs": [
        {
          "output_type": "stream",
          "name": "stdout",
          "text": [
            "Mounted at /content/gdrive\n"
          ]
        }
      ]
    },
    {
      "cell_type": "code",
      "source": [
        "## Timers\n",
        "### De momento no hacen falta pero por si hubiera que comparar con las \n",
        "  ### implementacione de alguna libreria\n",
        "\n",
        "class TimerError(Exception):\n",
        "    \"\"\"A custom exception used to report errors in use of Timer class\"\"\"\n",
        "\n",
        "class Timer:\n",
        "    def __init__(self):\n",
        "        self._start_time = None\n",
        "\n",
        "    def start(self):\n",
        "        \"\"\"Start a new timer\"\"\"\n",
        "        if self._start_time is not None:\n",
        "            raise TimerError(f\"Timer is running. Use .stop() to stop it\")\n",
        "\n",
        "        self._start_time = time.perf_counter()\n",
        "\n",
        "    def stop(self):\n",
        "        if self._start_time is None:\n",
        "            raise TimerError(f\"Timer is not running. Use .start() to start it\")\n",
        "        elapsed_time = time.perf_counter() - self._start_time\n",
        "        self._start_time = None\n",
        "        print(\"Tiempo en ejecutarse:\",f\"{elapsed_time:0.6f}\")\n",
        "        return elapsed_time\n"
      ],
      "metadata": {
        "id": "WvkUTXA332tG"
      },
      "execution_count": null,
      "outputs": []
    },
    {
      "cell_type": "code",
      "source": [
        "#path = '/content/gdrive/MyDrive/Colab Notebooks/IAA/perceptronData.csv'\n",
        "path = '/content/gdrive/MyDrive/Uni/IAA/perceptronData.csv'\n",
        "\n",
        "df = pd.read_csv(path)\n",
        "\n",
        "x = df.iloc[:,:-1].values\n",
        "y = df.iloc[:,-1].values\n",
        "\n",
        "df.head()"
      ],
      "metadata": {
        "colab": {
          "base_uri": "https://localhost:8080/",
          "height": 206
        },
        "id": "z5tuL6t235x9",
        "outputId": "0c9067eb-2585-4368-d769-af2409167fd9"
      },
      "execution_count": null,
      "outputs": [
        {
          "output_type": "execute_result",
          "data": {
            "text/plain": [
              "   x1  x2  y\n",
              "0   1   0  0\n",
              "1   0   2  0\n",
              "2   1   1  0\n",
              "3   1   2  0\n",
              "4   1   3  1"
            ],
            "text/html": [
              "\n",
              "  <div id=\"df-c3d7a8af-fcb2-4853-8bc6-5d568369c3c2\">\n",
              "    <div class=\"colab-df-container\">\n",
              "      <div>\n",
              "<style scoped>\n",
              "    .dataframe tbody tr th:only-of-type {\n",
              "        vertical-align: middle;\n",
              "    }\n",
              "\n",
              "    .dataframe tbody tr th {\n",
              "        vertical-align: top;\n",
              "    }\n",
              "\n",
              "    .dataframe thead th {\n",
              "        text-align: right;\n",
              "    }\n",
              "</style>\n",
              "<table border=\"1\" class=\"dataframe\">\n",
              "  <thead>\n",
              "    <tr style=\"text-align: right;\">\n",
              "      <th></th>\n",
              "      <th>x1</th>\n",
              "      <th>x2</th>\n",
              "      <th>y</th>\n",
              "    </tr>\n",
              "  </thead>\n",
              "  <tbody>\n",
              "    <tr>\n",
              "      <th>0</th>\n",
              "      <td>1</td>\n",
              "      <td>0</td>\n",
              "      <td>0</td>\n",
              "    </tr>\n",
              "    <tr>\n",
              "      <th>1</th>\n",
              "      <td>0</td>\n",
              "      <td>2</td>\n",
              "      <td>0</td>\n",
              "    </tr>\n",
              "    <tr>\n",
              "      <th>2</th>\n",
              "      <td>1</td>\n",
              "      <td>1</td>\n",
              "      <td>0</td>\n",
              "    </tr>\n",
              "    <tr>\n",
              "      <th>3</th>\n",
              "      <td>1</td>\n",
              "      <td>2</td>\n",
              "      <td>0</td>\n",
              "    </tr>\n",
              "    <tr>\n",
              "      <th>4</th>\n",
              "      <td>1</td>\n",
              "      <td>3</td>\n",
              "      <td>1</td>\n",
              "    </tr>\n",
              "  </tbody>\n",
              "</table>\n",
              "</div>\n",
              "      <button class=\"colab-df-convert\" onclick=\"convertToInteractive('df-c3d7a8af-fcb2-4853-8bc6-5d568369c3c2')\"\n",
              "              title=\"Convert this dataframe to an interactive table.\"\n",
              "              style=\"display:none;\">\n",
              "        \n",
              "  <svg xmlns=\"http://www.w3.org/2000/svg\" height=\"24px\"viewBox=\"0 0 24 24\"\n",
              "       width=\"24px\">\n",
              "    <path d=\"M0 0h24v24H0V0z\" fill=\"none\"/>\n",
              "    <path d=\"M18.56 5.44l.94 2.06.94-2.06 2.06-.94-2.06-.94-.94-2.06-.94 2.06-2.06.94zm-11 1L8.5 8.5l.94-2.06 2.06-.94-2.06-.94L8.5 2.5l-.94 2.06-2.06.94zm10 10l.94 2.06.94-2.06 2.06-.94-2.06-.94-.94-2.06-.94 2.06-2.06.94z\"/><path d=\"M17.41 7.96l-1.37-1.37c-.4-.4-.92-.59-1.43-.59-.52 0-1.04.2-1.43.59L10.3 9.45l-7.72 7.72c-.78.78-.78 2.05 0 2.83L4 21.41c.39.39.9.59 1.41.59.51 0 1.02-.2 1.41-.59l7.78-7.78 2.81-2.81c.8-.78.8-2.07 0-2.86zM5.41 20L4 18.59l7.72-7.72 1.47 1.35L5.41 20z\"/>\n",
              "  </svg>\n",
              "      </button>\n",
              "      \n",
              "  <style>\n",
              "    .colab-df-container {\n",
              "      display:flex;\n",
              "      flex-wrap:wrap;\n",
              "      gap: 12px;\n",
              "    }\n",
              "\n",
              "    .colab-df-convert {\n",
              "      background-color: #E8F0FE;\n",
              "      border: none;\n",
              "      border-radius: 50%;\n",
              "      cursor: pointer;\n",
              "      display: none;\n",
              "      fill: #1967D2;\n",
              "      height: 32px;\n",
              "      padding: 0 0 0 0;\n",
              "      width: 32px;\n",
              "    }\n",
              "\n",
              "    .colab-df-convert:hover {\n",
              "      background-color: #E2EBFA;\n",
              "      box-shadow: 0px 1px 2px rgba(60, 64, 67, 0.3), 0px 1px 3px 1px rgba(60, 64, 67, 0.15);\n",
              "      fill: #174EA6;\n",
              "    }\n",
              "\n",
              "    [theme=dark] .colab-df-convert {\n",
              "      background-color: #3B4455;\n",
              "      fill: #D2E3FC;\n",
              "    }\n",
              "\n",
              "    [theme=dark] .colab-df-convert:hover {\n",
              "      background-color: #434B5C;\n",
              "      box-shadow: 0px 1px 3px 1px rgba(0, 0, 0, 0.15);\n",
              "      filter: drop-shadow(0px 1px 2px rgba(0, 0, 0, 0.3));\n",
              "      fill: #FFFFFF;\n",
              "    }\n",
              "  </style>\n",
              "\n",
              "      <script>\n",
              "        const buttonEl =\n",
              "          document.querySelector('#df-c3d7a8af-fcb2-4853-8bc6-5d568369c3c2 button.colab-df-convert');\n",
              "        buttonEl.style.display =\n",
              "          google.colab.kernel.accessAllowed ? 'block' : 'none';\n",
              "\n",
              "        async function convertToInteractive(key) {\n",
              "          const element = document.querySelector('#df-c3d7a8af-fcb2-4853-8bc6-5d568369c3c2');\n",
              "          const dataTable =\n",
              "            await google.colab.kernel.invokeFunction('convertToInteractive',\n",
              "                                                     [key], {});\n",
              "          if (!dataTable) return;\n",
              "\n",
              "          const docLinkHtml = 'Like what you see? Visit the ' +\n",
              "            '<a target=\"_blank\" href=https://colab.research.google.com/notebooks/data_table.ipynb>data table notebook</a>'\n",
              "            + ' to learn more about interactive tables.';\n",
              "          element.innerHTML = '';\n",
              "          dataTable['output_type'] = 'display_data';\n",
              "          await google.colab.output.renderOutput(dataTable, element);\n",
              "          const docLink = document.createElement('div');\n",
              "          docLink.innerHTML = docLinkHtml;\n",
              "          element.appendChild(docLink);\n",
              "        }\n",
              "      </script>\n",
              "    </div>\n",
              "  </div>\n",
              "  "
            ]
          },
          "metadata": {},
          "execution_count": 4
        }
      ]
    },
    {
      "cell_type": "markdown",
      "source": [
        "### Perceptron"
      ],
      "metadata": {
        "id": "Sn6vyP693_gA"
      }
    },
    {
      "cell_type": "markdown",
      "source": [
        "1- Codifica una función que aplique el algoritmo de aprendizaje del perceptrón,\n",
        "siguiendo las directrices que se explicaron en clase."
      ],
      "metadata": {
        "id": "A1hEvYRjwDxT"
      }
    },
    {
      "cell_type": "markdown",
      "source": [
        "2- Desarrolla un programa principal que haga uso de estas dos funciones, y que las\n",
        "aplique sobre el siguiente conjunto de datos:"
      ],
      "metadata": {
        "id": "EGol_IZTwK15"
      }
    },
    {
      "cell_type": "code",
      "source": [
        "def step(x):\n",
        "  if x > 0:\n",
        "    return 1\n",
        "  else:\n",
        "    return 0\n",
        "  \n",
        "def perceptron(x, y, weights, bias, lr, epochs):\n",
        "  listaError = []\n",
        "\n",
        "  for n in range(epochs):\n",
        "      i = rd.randint(0,len(x)-1)\n",
        "      point = x[i]\n",
        "      pointR = y[i]\n",
        "\n",
        "      expression = point.dot(weights) + bias\n",
        "      yEst = step(expression)\n",
        "      loss = pointR - yEst\n",
        "      weights = weights + lr * loss * point\n",
        "      bias = bias + lr * loss\n",
        "\n",
        "  return weights, bias\n",
        "\n",
        "if __name__ == \"__main__\":\n",
        "    ## Fija el learning rate\n",
        "    lr = 0.05\n",
        "    ## Fija las epocas\n",
        "    epochs = 20000\n",
        "\n",
        "    weights = np.zeros(x.shape[1])\n",
        "    for n in weights:\n",
        "      n = rd.randint(0,100)/100\n",
        "    bias = rd.randint(0,100)/100\n",
        "\n",
        "    weights,bias = perceptron(x,y,weights,bias,lr,epochs)\n",
        "    print(\"Pesos modelo\",weights,\"Sesgo\",bias)   \n"
      ],
      "metadata": {
        "colab": {
          "base_uri": "https://localhost:8080/"
        },
        "id": "34xYrpX53_Lc",
        "outputId": "487ec374-e2c9-45f9-c508-95939d864ff1"
      },
      "execution_count": null,
      "outputs": [
        {
          "output_type": "stream",
          "name": "stdout",
          "text": [
            "Pesos modelo [0.05 0.05] Sesgo -0.17\n"
          ]
        }
      ]
    },
    {
      "cell_type": "markdown",
      "source": [
        "### Clasificador logístico"
      ],
      "metadata": {
        "id": "yEVKZOnfB3lY"
      }
    },
    {
      "cell_type": "markdown",
      "source": [
        "3- Codifica ahora una función que aplique el algoritmo de clasificación de regresión\n",
        "logística, siguiendo también las directrices vistas en clase, y aplícalo al mismo conjunto\n",
        "de datos (umbral 0.5 para clasificación)."
      ],
      "metadata": {
        "id": "fRFOFLvxwNFL"
      }
    },
    {
      "cell_type": "code",
      "source": [
        "def sigmoide(x):\n",
        "  return 1 / (1 + math.exp(-x))\n",
        "  \n",
        "def logLoss(y,yEst):\n",
        "  return -y * np.log(yEst) - (1-y) * np.log(1-yEst)\n",
        "\n",
        "def clasificadorLog(x, y, weights, bias, lr, epochs,maxError):\n",
        "  logloss = 100\n",
        "  listaError = []\n",
        "\n",
        "  for n in range(epochs):\n",
        "      i = rd.randint(0,len(x)-1)\n",
        "      point = x[i]\n",
        "      pointR = y[i]\n",
        "\n",
        "      expression = point.dot(weights) + bias\n",
        "      yEst = sigmoide(expression)\n",
        "      loss = pointR - yEst\n",
        "      weights = weights + lr * loss * point\n",
        "      bias = bias + lr * loss\n",
        "\n",
        "      yEst = sigmoide( point.dot(weights) + bias)\n",
        "      logloss = logLoss(pointR,yEst) \n",
        "    \n",
        "      listaError.append(logloss)\n",
        "\n",
        "      if logloss < maxError:\n",
        "        break\n",
        "  return weights, bias, listaError\n",
        "\n",
        "if __name__ == \"__main__\":\n",
        "    ## Fija el learning rate\n",
        "    lr = 0.05\n",
        "    ## Fija las epocas\n",
        "    epochs = 20000\n",
        "    ## Umbral de error permitido\n",
        "    maxError = 0.01\n",
        "    logloss = 10\n",
        "\n",
        "    weights = np.zeros(x.shape[1])\n",
        "    for n in weights:\n",
        "      n = rd.randint(0,100)/100\n",
        "    bias = rd.randint(0,100)/100\n",
        "\n",
        "    weights,bias,listaError = clasificadorLog(x,y,weights,bias,lr,epochs,maxError)\n",
        "    logloss = listaError[-1]\n",
        "    print(\"Pesos modelo\",weights,\"Sesgo\",bias,\"logLoss\", logloss)   \n",
        "    plt.plot(listaError,linewidth=0.2)\n"
      ],
      "metadata": {
        "colab": {
          "base_uri": "https://localhost:8080/",
          "height": 282
        },
        "id": "cVoonsntB7r2",
        "outputId": "4483c6a6-e530-4a7a-bf1d-f65c4a1b43e6"
      },
      "execution_count": null,
      "outputs": [
        {
          "output_type": "stream",
          "name": "stdout",
          "text": [
            "Pesos modelo [2.26953638 1.69797469] Sesgo -5.53710839767247 logLoss 0.009352328492477266\n"
          ]
        },
        {
          "output_type": "display_data",
          "data": {
            "text/plain": [
              "<Figure size 432x288 with 1 Axes>"
            ],
            "image/png": "[encoded data removed]"
          },
          "metadata": {
            "needs_background": "light"
          }
        }
      ]
    },
    {
      "cell_type": "markdown",
      "source": [
        "### Matriz de confusión y funciones derivadas"
      ],
      "metadata": {
        "id": "TEm4hwlzKpfD"
      }
    },
    {
      "cell_type": "markdown",
      "source": [
        "4- Construye un conjunto de funciones que reciban dos vectores (y, ^y) y que construyan\n",
        "la matriz de confusión para este conjunto de resultados. Construye ahora un conjunto\n",
        "de funciones que reciben esta matriz de confusión (en el formato que hayas definido) y calculen las métricas de calidad que hemos estudiado en clase: exactitud, recall,\n",
        "precisión, F1 y Fb, selectividad y especificidad."
      ],
      "metadata": {
        "id": "ovjHll-VwSX-"
      }
    },
    {
      "cell_type": "code",
      "source": [
        "def matConfusion(y,yEst):\n",
        "  matrizConfusion = np.array([[0,0],[0,0]])\n",
        "  for n in range(len(y)):\n",
        "    if y[n] == 0:\n",
        "      if yEst[n] == 0:\n",
        "        matrizConfusion[1][1] += 1 #True negative\n",
        "      else:\n",
        "        matrizConfusion[1][0] += 1 #False positive\n",
        "    else:\n",
        "      if yEst[n] == 0:\n",
        "        matrizConfusion[0][1] += 1 #False negative\n",
        "      else:\n",
        "        matrizConfusion[0][0] += 1 #True positive\n",
        "  return matrizConfusion\n",
        "\n",
        "\n",
        "def exactitud(matConf):\n",
        "  tn = matConf[1][1]\n",
        "  tp = matConf[0][0]\n",
        "  total = np.sum(matConf)\n",
        "  return ((tp + tn) / total)\n",
        "\n",
        "def recall(matConf):\n",
        "  tp = matConf[0][0]\n",
        "  fn = matConf[0][1]\n",
        "  return tp / (tp + fn)\n",
        "\n",
        "def precision(matConf):\n",
        "  tp = matConf[0][0]\n",
        "  fp = matConf[1][0]\n",
        "  return tp / (tp + fp)\n",
        "\n",
        "def fMedida(matConf):\n",
        "  p = precision(matConf)\n",
        "  r = recall(matConf)\n",
        "  return (2 * p * r) / (p + r)\n",
        "\n",
        "def fBeta(matConf,beta):\n",
        "  p = precision(matConf)\n",
        "  r = recall(matConf)\n",
        "  return ((1 + (beta**2)) * p * r) / ((beta**2) * p + r )\n",
        "\n",
        "def sensibilidad(matConf):\n",
        "  tp = matConf[0][0]\n",
        "  fn = matConf[0][1]\n",
        "  return tp / (tp + fn)\n",
        "\n",
        "def especificidad(matConf):\n",
        "  tn = matConf[1][1]\n",
        "  fp = matConf[1][0]\n",
        "  return tn / (tn + fp)\n",
        "\n",
        "def predictPercep(weights, bias, x):\n",
        "  yEst = []\n",
        "  for n in x:\n",
        "    yEst.append(step(n.dot(weights) + bias))\n",
        "  return yEst\n",
        "\n",
        "def predictLog(weights, bias, x):\n",
        "  yEst = []\n",
        "  for n in x:\n",
        "    x = sigmoide(n.dot(weights) + bias)\n",
        "    if x > 0.5:\n",
        "      yEst.append(1)\n",
        "    else:\n",
        "      yEst.append(0)\n",
        "  return yEst\n"
      ],
      "metadata": {
        "id": "V3lozhgYKz7i"
      },
      "execution_count": null,
      "outputs": []
    },
    {
      "cell_type": "markdown",
      "source": [
        "### Resultados de calidad del modelo (Perceptrón)"
      ],
      "metadata": {
        "id": "yqPbjcBdkmQN"
      }
    },
    {
      "cell_type": "markdown",
      "source": [
        "5- Con las funciones desarrolladas en el apartado 4, obtén los resultados de calidad de los clasificadores desarrollados (perceptrón y logística). "
      ],
      "metadata": {
        "id": "FsCpgOZzwah5"
      }
    },
    {
      "cell_type": "code",
      "source": [
        "if __name__ == \"__main__\":\n",
        "    ## Fija el learning rate\n",
        "    lr = 0.05\n",
        "    ## Fija las epocas\n",
        "    epochs = 20000\n",
        "    ## Beta para fBeta\n",
        "    beta = 1\n",
        "\n",
        "    weights = np.zeros(x.shape[1])\n",
        "    for n in weights:\n",
        "      n = rd.randint(0,100)/100\n",
        "    bias = rd.randint(0,100)/100\n",
        "\n",
        "    weights,bias = perceptron(x,y,weights,bias,lr,epochs)\n",
        "    yEst = predictPercep(weights,bias,x)\n",
        "    matConf = matConfusion(y,yEst)\n",
        "    acc = exactitud(matConf)\n",
        "    prec = precision(matConf)\n",
        "    rec = recall(matConf)\n",
        "    f1 = fMedida(matConf)\n",
        "    fbeta = fBeta(matConf,beta)\n",
        "    sens = sensibilidad(matConf)\n",
        "    esp = especificidad(matConf)\n",
        "\n",
        "    print(\"----------------------------------\")\n",
        "    print(\"Datos con clasificador Logistico\")\n",
        "    print(\"----------------------------------\")\n",
        "    print(matConf)\n",
        "    print(\"Exactitud:\", acc)\n",
        "    print(\"Precision:\", prec)\n",
        "    print(\"Recall:\", rec)\n",
        "    print(\"F medida:\", f1)\n",
        "    print(\"F beta con beta\",beta,\":\", fbeta)\n",
        "    print(\"Sensibilidad:\", sens)\n",
        "    print(\"Especificidad:\", esp)"
      ],
      "metadata": {
        "colab": {
          "base_uri": "https://localhost:8080/"
        },
        "id": "10lSgj0Hkl2K",
        "outputId": "4c7a549e-3a1d-470b-e72e-32d9a4f1a408"
      },
      "execution_count": null,
      "outputs": [
        {
          "output_type": "stream",
          "name": "stdout",
          "text": [
            "----------------------------------\n",
            "Datos con clasificador Logistico\n",
            "----------------------------------\n",
            "[[4 0]\n",
            " [0 4]]\n",
            "Exactitud: 1.0\n",
            "Precision: 1.0\n",
            "Recall: 1.0\n",
            "F medida: 1.0\n",
            "F beta con beta 1 : 1.0\n",
            "Sensibilidad: 1.0\n",
            "Especificidad: 1.0\n"
          ]
        }
      ]
    },
    {
      "cell_type": "markdown",
      "source": [
        "### Resultados de calidad del modelo (Clasificador logístico)"
      ],
      "metadata": {
        "id": "XeO8l7x2ke-e"
      }
    },
    {
      "cell_type": "code",
      "source": [
        "if __name__ == \"__main__\":\n",
        "    ## Fija el learning rate\n",
        "    lr = 0.05\n",
        "    ## Fija las epocas\n",
        "    epochs = 20000\n",
        "    ## Umbral de error permitido\n",
        "    maxError = 0.01\n",
        "    logloss = 10\n",
        "    ## Beta para fBeta\n",
        "    beta = 1\n",
        "\n",
        "    weights = np.zeros(x.shape[1])\n",
        "    for n in weights:\n",
        "      n = rd.randint(0,100)/100\n",
        "    bias = rd.randint(0,100)/100\n",
        "\n",
        "    weights,bias,listaError = clasificadorLog(x,y,weights,bias,lr,epochs,maxError)\n",
        "    yEst = predictLog(weights,bias,x)\n",
        "    matConf = matConfusion(y,yEst)\n",
        "    acc = exactitud(matConf)\n",
        "    prec = precision(matConf)\n",
        "    rec = recall(matConf)\n",
        "    f1 = fMedida(matConf)\n",
        "    fbeta = fBeta(matConf,beta)\n",
        "    sens = sensibilidad(matConf)\n",
        "    esp = especificidad(matConf)\n",
        "\n",
        "    print(\"----------------------------------\")\n",
        "    print(\"Datos con clasificador Logistico\")\n",
        "    print(\"----------------------------------\")\n",
        "    print(matConf)\n",
        "    print(\"Exactitud:\", acc)\n",
        "    print(\"Precision:\", prec)\n",
        "    print(\"Recall:\", rec)\n",
        "    print(\"F medida:\", f1)\n",
        "    print(\"F beta con beta\",beta,\":\", fbeta)\n",
        "    print(\"Sensibilidad:\", sens)\n",
        "    print(\"Especificidad:\", esp)\n"
      ],
      "metadata": {
        "colab": {
          "base_uri": "https://localhost:8080/"
        },
        "id": "-tnHSp9gfQ1m",
        "outputId": "2a920cf7-12dd-4162-f05b-118803454012"
      },
      "execution_count": null,
      "outputs": [
        {
          "output_type": "stream",
          "name": "stdout",
          "text": [
            "----------------------------------\n",
            "Datos con clasificador Logistico\n",
            "----------------------------------\n",
            "[[4 0]\n",
            " [1 3]]\n",
            "Exactitud: 0.875\n",
            "Precision: 0.8\n",
            "Recall: 1.0\n",
            "F medida: 0.888888888888889\n",
            "F beta con beta 1 : 0.888888888888889\n",
            "Sensibilidad: 1.0\n",
            "Especificidad: 0.75\n"
          ]
        }
      ]
    },
    {
      "cell_type": "markdown",
      "source": [
        "# TuriCreate"
      ],
      "metadata": {
        "id": "fmxKt2P6oV6y"
      }
    },
    {
      "cell_type": "markdown",
      "source": [
        "6- A continuación, vamos a trabajar con un ejemplo de análisis de sentimientos real. Se trata de determinar si la evaluación que se hace de una película es positiva o negativa.\n",
        "Los datos se tomarán de un conjunto de 50.000 revisiones, tomadas de la base de datos IMDB3. Para construir el clasificador, no utilizarás tu propia implementación, sino que utilizarás la que está disponible en Turi Create.\n",
        "\n",
        "CONSEJOS\n",
        "a) En primer lugar, crearás un SFrame que contendrá el fichero completo\n",
        "\n",
        "b) Posteriormente, tendrás que conocer la frecuencia de cada una de las palabras que aparecen en las críticas. El módulo text_analytics de Turi Create proporciona funcionalidad para hacer este cálculo (específicamente, la función count_words). Consulta la documentación para ver cómo obtener esta cuenta y cómo añadir el resultado a tu SFrame.\n",
        "\n",
        "c) Una vez dispongas de los datos de entrada y salida, construirás el clasificador utilizando la función logistic_classifier. Consulta la documentación para conocer su funcionamiento.\n",
        "\n"
      ],
      "metadata": {
        "id": "8bqqJ2ofwfE1"
      }
    },
    {
      "cell_type": "code",
      "source": [
        "#path2 = '/content/gdrive/MyDrive/Colab Notebooks/IAA/IMDB_Dataset.csv'\n",
        "path2 = '/content/gdrive/MyDrive/Uni/IAA/IMDB_Dataset.csv'\n",
        "sf = tc.SFrame(data=path2)"
      ],
      "metadata": {
        "colab": {
          "base_uri": "https://localhost:8080/",
          "height": 225
        },
        "id": "JUo9e9cVoare",
        "outputId": "7f9023f5-14b7-4348-e559-7b3f19d44b0c"
      },
      "execution_count": null,
      "outputs": [
        {
          "output_type": "display_data",
          "data": {
            "text/plain": [
              "Read 100 lines. Lines per second: 75.1682"
            ],
            "text/html": [
              "<pre>Read 100 lines. Lines per second: 75.1682</pre>"
            ]
          },
          "metadata": {}
        },
        {
          "output_type": "display_data",
          "data": {
            "text/plain": [
              "Finished parsing file /content/gdrive/MyDrive/Uni/IAA/IMDB_Dataset.csv"
            ],
            "text/html": [
              "<pre>Finished parsing file /content/gdrive/MyDrive/Uni/IAA/IMDB_Dataset.csv</pre>"
            ]
          },
          "metadata": {}
        },
        {
          "output_type": "display_data",
          "data": {
            "text/plain": [
              "Parsing completed. Parsed 100 lines in 1.34029 secs."
            ],
            "text/html": [
              "<pre>Parsing completed. Parsed 100 lines in 1.34029 secs.</pre>"
            ]
          },
          "metadata": {}
        },
        {
          "output_type": "stream",
          "name": "stdout",
          "text": [
            "------------------------------------------------------\n",
            "Inferred types from first 100 line(s) of file as \n",
            "column_type_hints=[str,str]\n",
            "If parsing fails due to incorrect types, you can correct\n",
            "the inferred type list above and pass it to read_csv in\n",
            "the column_type_hints argument\n",
            "------------------------------------------------------\n"
          ]
        },
        {
          "output_type": "display_data",
          "data": {
            "text/plain": [
              "Finished parsing file /content/gdrive/MyDrive/Uni/IAA/IMDB_Dataset.csv"
            ],
            "text/html": [
              "<pre>Finished parsing file /content/gdrive/MyDrive/Uni/IAA/IMDB_Dataset.csv</pre>"
            ]
          },
          "metadata": {}
        },
        {
          "output_type": "display_data",
          "data": {
            "text/plain": [
              "Parsing completed. Parsed 50000 lines in 1.33112 secs."
            ],
            "text/html": [
              "<pre>Parsing completed. Parsed 50000 lines in 1.33112 secs.</pre>"
            ]
          },
          "metadata": {}
        }
      ]
    },
    {
      "cell_type": "code",
      "source": [
        "sf['word_count'] = tc.text_analytics.count_words(sf['review'])\n",
        "print(sf)"
      ],
      "metadata": {
        "id": "wr2lUS5pqbUi",
        "colab": {
          "base_uri": "https://localhost:8080/"
        },
        "outputId": "da39068d-6762-4261-d8de-a72c876513d7"
      },
      "execution_count": null,
      "outputs": [
        {
          "output_type": "stream",
          "name": "stdout",
          "text": [
            "+-------------------------------+-----------+-------------------------------+\n",
            "|             review            | sentiment |           word_count          |\n",
            "+-------------------------------+-----------+-------------------------------+\n",
            "| One of the other reviewers... |  positive | {'darker': 1.0, 'touch': 1... |\n",
            "| A wonderful little product... |  positive | {'done': 1.0, 'surface': 1... |\n",
            "| I thought this was a wonde... |  positive | {'go': 1.0, 'superman': 1.... |\n",
            "| Basically there's a family... |  negative | {'them': 1.0, 'ignore': 1.... |\n",
            "| Petter Mattei's \"Love in t... |  positive | {'work': 1.0, 'for': 1.0, ... |\n",
            "| Probably my all-time favor... |  positive | {'for': 1.0, 'dozen': 1.0,... |\n",
            "| I sure would like to see a... |  positive | {'do': 1.0, 'go': 1.0, 'mu... |\n",
            "| This show was an amazing, ... |  negative | {'awful': 1.0, 'just': 1.0... |\n",
            "| Encouraged by the positive... |  negative | {'effort': 1.0, 'an': 1.0,... |\n",
            "| If you like original gut w... |  positive | {'camp': 1.0, 'great': 1.0... |\n",
            "+-------------------------------+-----------+-------------------------------+\n",
            "[50000 rows x 3 columns]\n",
            "Note: Only the head of the SFrame is printed.\n",
            "You can use print_rows(num_rows=m, num_columns=n) to print more rows and columns.\n"
          ]
        }
      ]
    },
    {
      "cell_type": "code",
      "source": [
        "from collections import defaultdict\n",
        "diccionario = defaultdict(int)\n",
        "for x in sf[\"word_count\"]:\n",
        "  for y in x:\n",
        "    diccionario[y]+=1"
      ],
      "metadata": {
        "id": "G2kJhpw3BpCC"
      },
      "execution_count": null,
      "outputs": []
    },
    {
      "cell_type": "code",
      "source": [
        "frequencies=[]\n",
        "for x in sf[\"word_count\"]:\n",
        "  y=x\n",
        "  for t in y:\n",
        "    y[t]=y[t]/diccionario[t]\n",
        "  frequencies.append(y)\n",
        "sf[\"frequencies\"]=frequencies\n",
        "\n",
        "print(sf)"
      ],
      "metadata": {
        "id": "C0OUPqLcCkgU",
        "colab": {
          "base_uri": "https://localhost:8080/"
        },
        "outputId": "5660f132-4742-4255-e77a-717d7304d276"
      },
      "execution_count": null,
      "outputs": [
        {
          "output_type": "stream",
          "name": "stdout",
          "text": [
            "+-------------------------------+-----------+-------------------------------+\n",
            "|             review            | sentiment |           word_count          |\n",
            "+-------------------------------+-----------+-------------------------------+\n",
            "| One of the other reviewers... |  positive | {'darker': 1.0, 'touch': 1... |\n",
            "| A wonderful little product... |  positive | {'done': 1.0, 'surface': 1... |\n",
            "| I thought this was a wonde... |  positive | {'go': 1.0, 'superman': 1.... |\n",
            "| Basically there's a family... |  negative | {'them': 1.0, 'ignore': 1.... |\n",
            "| Petter Mattei's \"Love in t... |  positive | {'work': 1.0, 'for': 1.0, ... |\n",
            "| Probably my all-time favor... |  positive | {'for': 1.0, 'dozen': 1.0,... |\n",
            "| I sure would like to see a... |  positive | {'do': 1.0, 'go': 1.0, 'mu... |\n",
            "| This show was an amazing, ... |  negative | {'awful': 1.0, 'just': 1.0... |\n",
            "| Encouraged by the positive... |  negative | {'effort': 1.0, 'an': 1.0,... |\n",
            "| If you like original gut w... |  positive | {'camp': 1.0, 'great': 1.0... |\n",
            "+-------------------------------+-----------+-------------------------------+\n",
            "+-------------------------------+\n",
            "|          frequencies          |\n",
            "+-------------------------------+\n",
            "| {'darker': 0.0049261083743... |\n",
            "| {'done': 0.000189573459715... |\n",
            "| {'go': 0.00012280486307257... |\n",
            "| {'them': 8.87784090909091e... |\n",
            "| {'work': 0.000145475705557... |\n",
            "| {'for': 2.8098569782798055... |\n",
            "| {'do': 7.546030787805614e-... |\n",
            "| {'awful': 0.00034698126301... |\n",
            "| {'effort': 0.0006963788300... |\n",
            "| {'camp': 0.001461988304093... |\n",
            "+-------------------------------+\n",
            "[50000 rows x 4 columns]\n",
            "Note: Only the head of the SFrame is printed.\n",
            "You can use print_rows(num_rows=m, num_columns=n) to print more rows and columns.\n"
          ]
        }
      ]
    },
    {
      "cell_type": "markdown",
      "source": [
        "### Evaluacion modelo"
      ],
      "metadata": {
        "id": "t-7qECJCxISz"
      }
    },
    {
      "cell_type": "markdown",
      "source": [
        "7- A continuación, evaluarás el modelo que has obtenido en el apartado 6. Puedes\n",
        "consultar la documentación de la función model para ver cómo hacerlo con Turi Create, aunque puedes desarrollar tu propio código aplicando el modelo que has obtenido en 6 sobre el conjunto de datos. Una vez obtenidas todas las predicciones, puedes obtener la matriz de confusión y las métricas que has desarrollado en el apartado 4."
      ],
      "metadata": {
        "id": "7_GuPsPdxLFd"
      }
    },
    {
      "cell_type": "markdown",
      "source": [
        "Con funciones de Turi Create"
      ],
      "metadata": {
        "id": "hPFb49NoxYJT"
      }
    },
    {
      "cell_type": "code",
      "source": [
        "train_data,test_data = sf.random_split(.8,seed=0)\n",
        "model = tc.logistic_classifier.create(train_data, target='sentiment', features=['frequencies'], validation_set=test_data)\n",
        "results = model.evaluate(test_data)\n",
        "print(results)"
      ],
      "metadata": {
        "id": "byJHrXVN8qPv",
        "colab": {
          "base_uri": "https://localhost:8080/",
          "height": 1000
        },
        "outputId": "9083352f-d3ef-436a-df65-4bc054aed63c"
      },
      "execution_count": null,
      "outputs": [
        {
          "output_type": "display_data",
          "data": {
            "text/plain": [
              "Logistic regression:"
            ],
            "text/html": [
              "<pre>Logistic regression:</pre>"
            ]
          },
          "metadata": {}
        },
        {
          "output_type": "display_data",
          "data": {
            "text/plain": [
              "--------------------------------------------------------"
            ],
            "text/html": [
              "<pre>--------------------------------------------------------</pre>"
            ]
          },
          "metadata": {}
        },
        {
          "output_type": "display_data",
          "data": {
            "text/plain": [
              "Number of examples          : 40032"
            ],
            "text/html": [
              "<pre>Number of examples          : 40032</pre>"
            ]
          },
          "metadata": {}
        },
        {
          "output_type": "display_data",
          "data": {
            "text/plain": [
              "Number of classes           : 2"
            ],
            "text/html": [
              "<pre>Number of classes           : 2</pre>"
            ]
          },
          "metadata": {}
        },
        {
          "output_type": "display_data",
          "data": {
            "text/plain": [
              "Number of feature columns   : 1"
            ],
            "text/html": [
              "<pre>Number of feature columns   : 1</pre>"
            ]
          },
          "metadata": {}
        },
        {
          "output_type": "display_data",
          "data": {
            "text/plain": [
              "Number of unpacked features : 94562"
            ],
            "text/html": [
              "<pre>Number of unpacked features : 94562</pre>"
            ]
          },
          "metadata": {}
        },
        {
          "output_type": "display_data",
          "data": {
            "text/plain": [
              "Number of coefficients      : 94563"
            ],
            "text/html": [
              "<pre>Number of coefficients      : 94563</pre>"
            ]
          },
          "metadata": {}
        },
        {
          "output_type": "display_data",
          "data": {
            "text/plain": [
              "Starting L-BFGS"
            ],
            "text/html": [
              "<pre>Starting L-BFGS</pre>"
            ]
          },
          "metadata": {}
        },
        {
          "output_type": "display_data",
          "data": {
            "text/plain": [
              "--------------------------------------------------------"
            ],
            "text/html": [
              "<pre>--------------------------------------------------------</pre>"
            ]
          },
          "metadata": {}
        },
        {
          "output_type": "display_data",
          "data": {
            "text/plain": [
              "+-----------+----------+-----------+--------------+-------------------+---------------------+"
            ],
            "text/html": [
              "<pre>+-----------+----------+-----------+--------------+-------------------+---------------------+</pre>"
            ]
          },
          "metadata": {}
        },
        {
          "output_type": "display_data",
          "data": {
            "text/plain": [
              "| Iteration | Passes   | Step size | Elapsed Time | Training Accuracy | Validation Accuracy |"
            ],
            "text/html": [
              "<pre>| Iteration | Passes   | Step size | Elapsed Time | Training Accuracy | Validation Accuracy |</pre>"
            ]
          },
          "metadata": {}
        },
        {
          "output_type": "display_data",
          "data": {
            "text/plain": [
              "+-----------+----------+-----------+--------------+-------------------+---------------------+"
            ],
            "text/html": [
              "<pre>+-----------+----------+-----------+--------------+-------------------+---------------------+</pre>"
            ]
          },
          "metadata": {}
        },
        {
          "output_type": "display_data",
          "data": {
            "text/plain": [
              "| 0         | 2        | 1.000000  | 0.702194     | 0.923062          | 0.855939            |"
            ],
            "text/html": [
              "<pre>| 0         | 2        | 1.000000  | 0.702194     | 0.923062          | 0.855939            |</pre>"
            ]
          },
          "metadata": {}
        },
        {
          "output_type": "display_data",
          "data": {
            "text/plain": [
              "| 1         | 4        | 1.000000  | 1.715645     | 0.970549          | 0.877508            |"
            ],
            "text/html": [
              "<pre>| 1         | 4        | 1.000000  | 1.715645     | 0.970549          | 0.877508            |</pre>"
            ]
          },
          "metadata": {}
        },
        {
          "output_type": "display_data",
          "data": {
            "text/plain": [
              "| 2         | 5        | 1.000000  | 2.413924     | 0.976719          | 0.884932            |"
            ],
            "text/html": [
              "<pre>| 2         | 5        | 1.000000  | 2.413924     | 0.976719          | 0.884932            |</pre>"
            ]
          },
          "metadata": {}
        },
        {
          "output_type": "display_data",
          "data": {
            "text/plain": [
              "| 3         | 7        | 0.815093  | 3.414616     | 0.984787          | 0.894462            |"
            ],
            "text/html": [
              "<pre>| 3         | 7        | 0.815093  | 3.414616     | 0.984787          | 0.894462            |</pre>"
            ]
          },
          "metadata": {}
        },
        {
          "output_type": "display_data",
          "data": {
            "text/plain": [
              "| 4         | 9        | 0.815093  | 4.418364     | 0.990558          | 0.895967            |"
            ],
            "text/html": [
              "<pre>| 4         | 9        | 0.815093  | 4.418364     | 0.990558          | 0.895967            |</pre>"
            ]
          },
          "metadata": {}
        },
        {
          "output_type": "display_data",
          "data": {
            "text/plain": [
              "| 9         | 14       | 1.000000  | 7.839494     | 0.999375          | 0.870787            |"
            ],
            "text/html": [
              "<pre>| 9         | 14       | 1.000000  | 7.839494     | 0.999375          | 0.870787            |</pre>"
            ]
          },
          "metadata": {}
        },
        {
          "output_type": "display_data",
          "data": {
            "text/plain": [
              "+-----------+----------+-----------+--------------+-------------------+---------------------+"
            ],
            "text/html": [
              "<pre>+-----------+----------+-----------+--------------+-------------------+---------------------+</pre>"
            ]
          },
          "metadata": {}
        },
        {
          "output_type": "stream",
          "name": "stdout",
          "text": [
            "{'accuracy': 0.8707865168539326, 'auc': 0.9264920109376552, 'confusion_matrix': Columns:\n",
            "\ttarget_label\tstr\n",
            "\tpredicted_label\tstr\n",
            "\tcount\tint\n",
            "\n",
            "Rows: 4\n",
            "\n",
            "Data:\n",
            "+--------------+-----------------+-------+\n",
            "| target_label | predicted_label | count |\n",
            "+--------------+-----------------+-------+\n",
            "|   negative   |     positive    |  620  |\n",
            "|   positive   |     positive    |  4280 |\n",
            "|   positive   |     negative    |  668  |\n",
            "|   negative   |     negative    |  4400 |\n",
            "+--------------+-----------------+-------+\n",
            "[4 rows x 3 columns]\n",
            ", 'f1_score': 0.8692120227457352, 'log_loss': 0.5595865604131787, 'precision': 0.8734693877551021, 'recall': 0.8649959579628133, 'roc_curve': Columns:\n",
            "\tthreshold\tfloat\n",
            "\tfpr\tfloat\n",
            "\ttpr\tfloat\n",
            "\tp\tint\n",
            "\tn\tint\n",
            "\n",
            "Rows: 1001\n",
            "\n",
            "Data:\n",
            "+-----------+---------------------+--------------------+------+------+\n",
            "| threshold |         fpr         |        tpr         |  p   |  n   |\n",
            "+-----------+---------------------+--------------------+------+------+\n",
            "|    0.0    |         1.0         |        1.0         | 4948 | 5020 |\n",
            "|   0.001   |  0.499800796812749  | 0.9759498787388844 | 4948 | 5020 |\n",
            "|   0.002   |  0.4591633466135458 | 0.9708973322554567 | 4948 | 5020 |\n",
            "|   0.003   | 0.43247011952191233 | 0.9672594987873888 | 4948 | 5020 |\n",
            "|   0.004   |  0.4127490039840637 | 0.9648342764753436 | 4948 | 5020 |\n",
            "|   0.005   | 0.39800796812749006 | 0.9630153597413096 | 4948 | 5020 |\n",
            "|   0.006   | 0.38685258964143426 | 0.9620048504446241 | 4948 | 5020 |\n",
            "|   0.007   |  0.3780876494023904 | 0.9601859337105901 | 4948 | 5020 |\n",
            "|   0.008   |  0.3715139442231076 | 0.9581649151172191 | 4948 | 5020 |\n",
            "|   0.009   | 0.36254980079681276 | 0.957962813257882  | 4948 | 5020 |\n",
            "+-----------+---------------------+--------------------+------+------+\n",
            "[1001 rows x 5 columns]\n",
            "Note: Only the head of the SFrame is printed.\n",
            "You can use print_rows(num_rows=m, num_columns=n) to print more rows and columns.}\n"
          ]
        }
      ]
    },
    {
      "cell_type": "markdown",
      "source": [
        "Métricas utilizando funciones propias\n"
      ],
      "metadata": {
        "id": "fY40S9L2p5Uz"
      }
    },
    {
      "cell_type": "code",
      "source": [
        "#print(test_data)\n",
        "ys = test_data['sentiment']\n",
        "yEsts = model.predict(test_data)\n",
        "\n",
        "y = []\n",
        "yEst = []\n",
        "\n",
        "for x in ys:\n",
        "  if x == 'positive':\n",
        "    y.append(1)\n",
        "  else:\n",
        "    y.append(0)\n",
        "\n",
        "for x in yEsts:\n",
        "  if x == 'positive':\n",
        "    yEst.append(1)\n",
        "  else:\n",
        "    yEst.append(0)\n",
        "\n",
        "\n",
        "#print(y)\n",
        "#print(yEst)\n",
        "#print(len(y))\n",
        "#print(len(yEst))\n",
        "\n",
        "matConf = matConfusion(y,yEst)\n",
        "acc = exactitud(matConf)\n",
        "prec = precision(matConf)\n",
        "rec = recall(matConf)\n",
        "f1 = fMedida(matConf)\n",
        "fbeta = fBeta(matConf,beta)\n",
        "sens = sensibilidad(matConf)\n",
        "esp = especificidad(matConf)\n",
        "\n",
        "\n",
        "print(\"----------------------------------\")\n",
        "print(\"Datos con clasificador Logistico\")\n",
        "print(\"----------------------------------\")\n",
        "print(matConf)\n",
        "print(\"Exactitud:\", acc)\n",
        "print(\"Precision:\", prec)\n",
        "print(\"Recall:\", rec)\n",
        "print(\"F medida:\", f1)\n",
        "print(\"F beta con beta\",beta,\":\", fbeta)\n",
        "print(\"Sensibilidad:\", sens)\n",
        "print(\"Especificidad:\", esp)"
      ],
      "metadata": {
        "colab": {
          "base_uri": "https://localhost:8080/"
        },
        "id": "5s9XBWZPp-x2",
        "outputId": "fd068737-e74f-4f89-92be-d3ed09a8401e"
      },
      "execution_count": null,
      "outputs": [
        {
          "output_type": "stream",
          "name": "stdout",
          "text": [
            "----------------------------------\n",
            "Datos con clasificador Logistico\n",
            "----------------------------------\n",
            "[[4280  668]\n",
            " [ 620 4400]]\n",
            "Exactitud: 0.8707865168539326\n",
            "Precision: 0.8734693877551021\n",
            "Recall: 0.8649959579628133\n",
            "F medida: 0.8692120227457352\n",
            "F beta con beta 1 : 0.8692120227457352\n",
            "Sensibilidad: 0.8649959579628133\n",
            "Especificidad: 0.8764940239043825\n"
          ]
        }
      ]
    },
    {
      "cell_type": "markdown",
      "source": [
        "### Curva ROC"
      ],
      "metadata": {
        "id": "5rYycm7twxq5"
      }
    },
    {
      "cell_type": "markdown",
      "source": [
        "8- Ahora vas a obtener la curva ROC para el modelo desarrollado en el apartado 6. Recuerda que has de ir modificando el umbral de clasificación y, en cada caso, obtener las predicciones, la matriz de confusión, la especificidad y la sensibilidad. Dibuja la gráfica con la curva. "
      ],
      "metadata": {
        "id": "Iahw-EYawxUx"
      }
    },
    {
      "cell_type": "code",
      "source": [
        "print(results['roc_curve'])\n",
        "tc.show(results['roc_curve']['fpr'], results['roc_curve']['tpr'])\n",
        "#results['roc_curve'].print_rows(num_rows=1000, num_columns=5)"
      ],
      "metadata": {
        "colab": {
          "base_uri": "https://localhost:8080/",
          "height": 1000
        },
        "id": "om71uyHRzNbv",
        "outputId": "8ddfe177-895a-49de-ae22-832aa30aa110"
      },
      "execution_count": null,
      "outputs": [
        {
          "output_type": "stream",
          "name": "stdout",
          "text": [
            "+-----------+---------------------+--------------------+------+------+\n",
            "| threshold |         fpr         |        tpr         |  p   |  n   |\n",
            "+-----------+---------------------+--------------------+------+------+\n",
            "|    0.0    |         1.0         |        1.0         | 4948 | 5020 |\n",
            "|   0.001   |  0.499800796812749  | 0.9759498787388844 | 4948 | 5020 |\n",
            "|   0.002   |  0.4591633466135458 | 0.9708973322554567 | 4948 | 5020 |\n",
            "|   0.003   | 0.43247011952191233 | 0.9672594987873888 | 4948 | 5020 |\n",
            "|   0.004   |  0.4127490039840637 | 0.9648342764753436 | 4948 | 5020 |\n",
            "|   0.005   | 0.39800796812749006 | 0.9630153597413096 | 4948 | 5020 |\n",
            "|   0.006   | 0.38685258964143426 | 0.9620048504446241 | 4948 | 5020 |\n",
            "|   0.007   |  0.3780876494023904 | 0.9601859337105901 | 4948 | 5020 |\n",
            "|   0.008   |  0.3715139442231076 | 0.9581649151172191 | 4948 | 5020 |\n",
            "|   0.009   | 0.36254980079681276 | 0.957962813257882  | 4948 | 5020 |\n",
            "+-----------+---------------------+--------------------+------+------+\n",
            "[1001 rows x 5 columns]\n",
            "Note: Only the head of the SFrame is printed.\n",
            "You can use print_rows(num_rows=m, num_columns=n) to print more rows and columns.\n"
          ]
        },
        {
          "output_type": "display_data",
          "data": {
            "text/plain": [
              "Materializing X axis SArray"
            ],
            "text/html": [
              "<pre>Materializing X axis SArray</pre>"
            ]
          },
          "metadata": {}
        },
        {
          "output_type": "display_data",
          "data": {
            "text/plain": [
              "Materializing Y axis SArray"
            ],
            "text/html": [
              "<pre>Materializing Y axis SArray</pre>"
            ]
          },
          "metadata": {}
        },
        {
          "output_type": "display_data",
          "data": {
            "text/plain": [
              "<IPython.core.display.HTML object>"
            ],
            "text/html": [
              "<html>                 <body>                     <iframe style=\"border:0;margin:0\" width=\"920\" height=\"770\" srcdoc='<html lang=\"en\">                         <head>                             <script src=\"https://cdnjs.cloudflare.com/ajax/libs/vega/5.4.0/vega.js\"></script>                             <script src=\"https://cdnjs.cloudflare.com/ajax/libs/vega-embed/4.0.0/vega-embed.js\"></script>                             <script src=\"https://cdnjs.cloudflare.com/ajax/libs/vega-tooltip/0.5.1/vega-tooltip.min.js\"></script>                             <link rel=\"stylesheet\" type=\"text/css\" href=\"https://cdnjs.cloudflare.com/ajax/libs/vega-tooltip/0.5.1/vega-tooltip.min.css\">                             <style>                             .vega-actions > a{                                 color:white;                                 text-decoration: none;                                 font-family: \"Arial\";                                 cursor:pointer;                                 padding:5px;                                 background:#AAAAAA;                                 border-radius:4px;                                 padding-left:10px;                                 padding-right:10px;                                 margin-right:5px;                             }                             .vega-actions{                                 margin-top:20px;                                 text-align:center                             }                            .vega-actions > a{                                 background:#999999;                            }                             </style>                         </head>                         <body>                             <div id=\"vis\">                             </div>                             <script>                                 var vega_json = \"{\\\"$schema\\\": \\\"https://vega.github.io/schema/vega/v4.json\\\", \\\"autosize\\\": {\\\"type\\\": \\\"fit\\\", \\\"resize\\\": false, \\\"contains\\\": \\\"padding\\\"}, \\\"padding\\\": 8, \\\"width\\\": 720, \\\"height\\\": 550, \\\"style\\\": \\\"cell\\\", \\\"title\\\": \\\"X vs. Y\\\", \\\"data\\\": [{\\\"name\\\": \\\"source_2\\\", \\\"values\\\": [{\\\"x\\\": 1.0, \\\"y\\\": 1.0}, {\\\"x\\\": 0.499801, \\\"y\\\": 0.97595}, {\\\"x\\\": 0.459163, \\\"y\\\": 0.970897}, {\\\"x\\\": 0.43247, \\\"y\\\": 0.967259}, {\\\"x\\\": 0.412749, \\\"y\\\": 0.964834}, {\\\"x\\\": 0.398008, \\\"y\\\": 0.963015}, {\\\"x\\\": 0.386853, \\\"y\\\": 0.962005}, {\\\"x\\\": 0.378088, \\\"y\\\": 0.960186}, {\\\"x\\\": 0.371514, \\\"y\\\": 0.958165}, {\\\"x\\\": 0.36255, \\\"y\\\": 0.957963}, {\\\"x\\\": 0.355976, \\\"y\\\": 0.956952}, {\\\"x\\\": 0.350797, \\\"y\\\": 0.95675}, {\\\"x\\\": 0.345219, \\\"y\\\": 0.956346}, {\\\"x\\\": 0.339641, \\\"y\\\": 0.95574}, {\\\"x\\\": 0.334861, \\\"y\\\": 0.954527}, {\\\"x\\\": 0.331873, \\\"y\\\": 0.953719}, {\\\"x\\\": 0.328486, \\\"y\\\": 0.953719}, {\\\"x\\\": 0.323904, \\\"y\\\": 0.95291}, {\\\"x\\\": 0.319124, \\\"y\\\": 0.952102}, {\\\"x\\\": 0.316534, \\\"y\\\": 0.951496}, {\\\"x\\\": 0.313347, \\\"y\\\": 0.951293}, {\\\"x\\\": 0.309761, \\\"y\\\": 0.950687}, {\\\"x\\\": 0.307171, \\\"y\\\": 0.950283}, {\\\"x\\\": 0.304781, \\\"y\\\": 0.949677}, {\\\"x\\\": 0.302789, \\\"y\\\": 0.949272}, {\\\"x\\\": 0.300199, \\\"y\\\": 0.948666}, {\\\"x\\\": 0.29741, \\\"y\\\": 0.948262}, {\\\"x\\\": 0.295219, \\\"y\\\": 0.947454}, {\\\"x\\\": 0.293028, \\\"y\\\": 0.946645}, {\\\"x\\\": 0.29004, \\\"y\\\": 0.946241}, {\\\"x\\\": 0.285657, \\\"y\\\": 0.944624}, {\\\"x\\\": 0.284064, \\\"y\\\": 0.944422}, {\\\"x\\\": 0.281076, \\\"y\\\": 0.943614}, {\\\"x\\\": 0.279084, \\\"y\\\": 0.943209}, {\\\"x\\\": 0.277092, \\\"y\\\": 0.943007}, {\\\"x\\\": 0.2751, \\\"y\\\": 0.942805}, {\\\"x\\\": 0.273705, \\\"y\\\": 0.942603}, {\\\"x\\\": 0.271912, \\\"y\\\": 0.942199}, {\\\"x\\\": 0.269522, \\\"y\\\": 0.941997}, {\\\"x\\\": 0.268327, \\\"y\\\": 0.941795}, {\\\"x\\\": 0.266335, \\\"y\\\": 0.941593}, {\\\"x\\\": 0.26494, \\\"y\\\": 0.940986}, {\\\"x\\\": 0.263944, \\\"y\\\": 0.939976}, {\\\"x\\\": 0.262151, \\\"y\\\": 0.939572}, {\\\"x\\\": 0.261355, \\\"y\\\": 0.939167}, {\\\"x\\\": 0.260359, \\\"y\\\": 0.938965}, {\\\"x\\\": 0.258566, \\\"y\\\": 0.938763}, {\\\"x\\\": 0.257968, \\\"y\\\": 0.938359}, {\\\"x\\\": 0.256574, \\\"y\\\": 0.937955}, {\\\"x\\\": 0.255179, \\\"y\\\": 0.937753}, {\\\"x\\\": 0.254582, \\\"y\\\": 0.937348}, {\\\"x\\\": 0.25259, \\\"y\\\": 0.937348}, {\\\"x\\\": 0.251594, \\\"y\\\": 0.936742}, {\\\"x\\\": 0.250398, \\\"y\\\": 0.936338}, {\\\"x\\\": 0.249602, \\\"y\\\": 0.935732}, {\\\"x\\\": 0.248805, \\\"y\\\": 0.93553}, {\\\"x\\\": 0.24741, \\\"y\\\": 0.935327}, {\\\"x\\\": 0.246614, \\\"y\\\": 0.935125}, {\\\"x\\\": 0.245418, \\\"y\\\": 0.934721}, {\\\"x\\\": 0.243825, \\\"y\\\": 0.934519}, {\\\"x\\\": 0.243028, \\\"y\\\": 0.934317}, {\\\"x\\\": 0.242032, \\\"y\\\": 0.933913}, {\\\"x\\\": 0.241434, \\\"y\\\": 0.933508}, {\\\"x\\\": 0.240239, \\\"y\\\": 0.933104}, {\\\"x\\\": 0.238645, \\\"y\\\": 0.9327}, {\\\"x\\\": 0.238247, \\\"y\\\": 0.932498}, {\\\"x\\\": 0.238247, \\\"y\\\": 0.932498}, {\\\"x\\\": 0.236653, \\\"y\\\": 0.932498}, {\\\"x\\\": 0.236056, \\\"y\\\": 0.931892}, {\\\"x\\\": 0.235458, \\\"y\\\": 0.931487}, {\\\"x\\\": 0.234661, \\\"y\\\": 0.931285}, {\\\"x\\\": 0.234263, \\\"y\\\": 0.931083}, {\\\"x\\\": 0.233466, \\\"y\\\": 0.930881}, {\\\"x\\\": 0.233068, \\\"y\\\": 0.930881}, {\\\"x\\\": 0.23247, \\\"y\\\": 0.930275}, {\\\"x\\\": 0.230677, \\\"y\\\": 0.930073}, {\\\"x\\\": 0.230279, \\\"y\\\": 0.929669}, {\\\"x\\\": 0.229482, \\\"y\\\": 0.929669}, {\\\"x\\\": 0.229084, \\\"y\\\": 0.929466}, {\\\"x\\\": 0.227888, \\\"y\\\": 0.929264}, {\\\"x\\\": 0.227689, \\\"y\\\": 0.92886}, {\\\"x\\\": 0.226892, \\\"y\\\": 0.928658}, {\\\"x\\\": 0.226494, \\\"y\\\": 0.928456}, {\\\"x\\\": 0.225299, \\\"y\\\": 0.928052}, {\\\"x\\\": 0.2249, \\\"y\\\": 0.928052}, {\\\"x\\\": 0.224502, \\\"y\\\": 0.927445}, {\\\"x\\\": 0.224104, \\\"y\\\": 0.927445}, {\\\"x\\\": 0.223904, \\\"y\\\": 0.927445}, {\\\"x\\\": 0.223108, \\\"y\\\": 0.926839}, {\\\"x\\\": 0.22251, \\\"y\\\": 0.926839}, {\\\"x\\\": 0.221912, \\\"y\\\": 0.926435}, {\\\"x\\\": 0.221514, \\\"y\\\": 0.926233}, {\\\"x\\\": 0.220916, \\\"y\\\": 0.926233}, {\\\"x\\\": 0.220518, \\\"y\\\": 0.926233}, {\\\"x\\\": 0.21992, \\\"y\\\": 0.926233}, {\\\"x\\\": 0.219323, \\\"y\\\": 0.925222}, {\\\"x\\\": 0.219124, \\\"y\\\": 0.92502}, {\\\"x\\\": 0.218327, \\\"y\\\": 0.924818}, {\\\"x\\\": 0.217928, \\\"y\\\": 0.924616}, {\\\"x\\\": 0.217331, \\\"y\\\": 0.924212}, {\\\"x\\\": 0.217131, \\\"y\\\": 0.923808}, {\\\"x\\\": 0.216932, \\\"y\\\": 0.923403}, {\\\"x\\\": 0.216534, \\\"y\\\": 0.922999}, {\\\"x\\\": 0.216335, \\\"y\\\": 0.922797}, {\\\"x\\\": 0.21494, \\\"y\\\": 0.922797}, {\\\"x\\\": 0.213546, \\\"y\\\": 0.922797}, {\\\"x\\\": 0.212749, \\\"y\\\": 0.922797}, {\\\"x\\\": 0.212749, \\\"y\\\": 0.922595}, {\\\"x\\\": 0.211952, \\\"y\\\": 0.922595}, {\\\"x\\\": 0.211155, \\\"y\\\": 0.922393}, {\\\"x\\\": 0.210359, \\\"y\\\": 0.922393}, {\\\"x\\\": 0.208964, \\\"y\\\": 0.921787}, {\\\"x\\\": 0.208765, \\\"y\\\": 0.921787}, {\\\"x\\\": 0.208367, \\\"y\\\": 0.921787}, {\\\"x\\\": 0.20757, \\\"y\\\": 0.921787}, {\\\"x\\\": 0.207371, \\\"y\\\": 0.921584}, {\\\"x\\\": 0.207171, \\\"y\\\": 0.920978}, {\\\"x\\\": 0.206773, \\\"y\\\": 0.920776}, {\\\"x\\\": 0.205777, \\\"y\\\": 0.920574}, {\\\"x\\\": 0.205179, \\\"y\\\": 0.920372}, {\\\"x\\\": 0.204781, \\\"y\\\": 0.920372}, {\\\"x\\\": 0.204382, \\\"y\\\": 0.920372}, {\\\"x\\\": 0.203785, \\\"y\\\": 0.920372}, {\\\"x\\\": 0.203586, \\\"y\\\": 0.919968}, {\\\"x\\\": 0.202988, \\\"y\\\": 0.919766}, {\\\"x\\\": 0.20239, \\\"y\\\": 0.919563}, {\\\"x\\\": 0.201594, \\\"y\\\": 0.919361}, {\\\"x\\\": 0.200598, \\\"y\\\": 0.919159}, {\\\"x\\\": 0.200398, \\\"y\\\": 0.918957}, {\\\"x\\\": 0.2, \\\"y\\\": 0.918755}, {\\\"x\\\": 0.199801, \\\"y\\\": 0.918553}, {\\\"x\\\": 0.199402, \\\"y\\\": 0.918149}, {\\\"x\\\": 0.199402, \\\"y\\\": 0.918149}, {\\\"x\\\": 0.198805, \\\"y\\\": 0.918149}, {\\\"x\\\": 0.198406, \\\"y\\\": 0.917947}, {\\\"x\\\": 0.198406, \\\"y\\\": 0.917542}, {\\\"x\\\": 0.198406, \\\"y\\\": 0.917542}, {\\\"x\\\": 0.198008, \\\"y\\\": 0.917542}, {\\\"x\\\": 0.19761, \\\"y\\\": 0.917542}, {\\\"x\\\": 0.197211, \\\"y\\\": 0.917542}, {\\\"x\\\": 0.196813, \\\"y\\\": 0.91734}, {\\\"x\\\": 0.196614, \\\"y\\\": 0.916734}, {\\\"x\\\": 0.196414, \\\"y\\\": 0.916734}, {\\\"x\\\": 0.196414, \\\"y\\\": 0.916734}, {\\\"x\\\": 0.195817, \\\"y\\\": 0.91633}, {\\\"x\\\": 0.195418, \\\"y\\\": 0.915724}, {\\\"x\\\": 0.19502, \\\"y\\\": 0.915319}, {\\\"x\\\": 0.194821, \\\"y\\\": 0.915117}, {\\\"x\\\": 0.194622, \\\"y\\\": 0.915117}, {\\\"x\\\": 0.194422, \\\"y\\\": 0.915117}, {\\\"x\\\": 0.194024, \\\"y\\\": 0.915117}, {\\\"x\\\": 0.193227, \\\"y\\\": 0.915117}, {\\\"x\\\": 0.193028, \\\"y\\\": 0.914713}, {\\\"x\\\": 0.192629, \\\"y\\\": 0.914511}, {\\\"x\\\": 0.191833, \\\"y\\\": 0.914107}, {\\\"x\\\": 0.191633, \\\"y\\\": 0.914107}, {\\\"x\\\": 0.191036, \\\"y\\\": 0.914107}, {\\\"x\\\": 0.190637, \\\"y\\\": 0.913905}, {\\\"x\\\": 0.190239, \\\"y\\\": 0.9135}, {\\\"x\\\": 0.189841, \\\"y\\\": 0.913298}, {\\\"x\\\": 0.189243, \\\"y\\\": 0.913298}, {\\\"x\\\": 0.189044, \\\"y\\\": 0.913298}, {\\\"x\\\": 0.188247, \\\"y\\\": 0.913096}, {\\\"x\\\": 0.187849, \\\"y\\\": 0.913096}, {\\\"x\\\": 0.18745, \\\"y\\\": 0.913096}, {\\\"x\\\": 0.18745, \\\"y\\\": 0.912692}, {\\\"x\\\": 0.187251, \\\"y\\\": 0.91249}, {\\\"x\\\": 0.186853, \\\"y\\\": 0.912288}, {\\\"x\\\": 0.186454, \\\"y\\\": 0.912288}, {\\\"x\\\": 0.186454, \\\"y\\\": 0.912086}, {\\\"x\\\": 0.185857, \\\"y\\\": 0.911884}, {\\\"x\\\": 0.185657, \\\"y\\\": 0.911681}, {\\\"x\\\": 0.185657, \\\"y\\\": 0.911681}, {\\\"x\\\": 0.184661, \\\"y\\\": 0.911681}, {\\\"x\\\": 0.184263, \\\"y\\\": 0.911277}, {\\\"x\\\": 0.184263, \\\"y\\\": 0.910873}, {\\\"x\\\": 0.184064, \\\"y\\\": 0.910873}, {\\\"x\\\": 0.184064, \\\"y\\\": 0.910469}, {\\\"x\\\": 0.183466, \\\"y\\\": 0.910065}, {\\\"x\\\": 0.182669, \\\"y\\\": 0.910065}, {\\\"x\\\": 0.182271, \\\"y\\\": 0.910065}, {\\\"x\\\": 0.182271, \\\"y\\\": 0.910065}, {\\\"x\\\": 0.182271, \\\"y\\\": 0.90966}, {\\\"x\\\": 0.182271, \\\"y\\\": 0.909256}, {\\\"x\\\": 0.182072, \\\"y\\\": 0.909256}, {\\\"x\\\": 0.182072, \\\"y\\\": 0.909256}, {\\\"x\\\": 0.181673, \\\"y\\\": 0.909256}, {\\\"x\\\": 0.181275, \\\"y\\\": 0.909256}, {\\\"x\\\": 0.181076, \\\"y\\\": 0.909054}, {\\\"x\\\": 0.180876, \\\"y\\\": 0.909054}, {\\\"x\\\": 0.180677, \\\"y\\\": 0.909054}, {\\\"x\\\": 0.180279, \\\"y\\\": 0.90865}, {\\\"x\\\": 0.18008, \\\"y\\\": 0.907639}, {\\\"x\\\": 0.179681, \\\"y\\\": 0.907437}, {\\\"x\\\": 0.178884, \\\"y\\\": 0.907437}, {\\\"x\\\": 0.178685, \\\"y\\\": 0.907235}, {\\\"x\\\": 0.178287, \\\"y\\\": 0.906831}, {\\\"x\\\": 0.177888, \\\"y\\\": 0.906831}, {\\\"x\\\": 0.177888, \\\"y\\\": 0.906629}, {\\\"x\\\": 0.177888, \\\"y\\\": 0.906225}, {\\\"x\\\": 0.177888, \\\"y\\\": 0.906225}, {\\\"x\\\": 0.177689, \\\"y\\\": 0.906023}, {\\\"x\\\": 0.177291, \\\"y\\\": 0.905618}, {\\\"x\\\": 0.176693, \\\"y\\\": 0.905618}, {\\\"x\\\": 0.176295, \\\"y\\\": 0.905618}, {\\\"x\\\": 0.176096, \\\"y\\\": 0.905416}, {\\\"x\\\": 0.175896, \\\"y\\\": 0.905214}, {\\\"x\\\": 0.175498, \\\"y\\\": 0.905012}, {\\\"x\\\": 0.175498, \\\"y\\\": 0.90481}, {\\\"x\\\": 0.175498, \\\"y\\\": 0.90481}, {\\\"x\\\": 0.175299, \\\"y\\\": 0.904608}, {\\\"x\\\": 0.1751, \\\"y\\\": 0.904204}, {\\\"x\\\": 0.1751, \\\"y\\\": 0.904204}, {\\\"x\\\": 0.1749, \\\"y\\\": 0.904204}, {\\\"x\\\": 0.174502, \\\"y\\\": 0.9038}, {\\\"x\\\": 0.174303, \\\"y\\\": 0.9038}, {\\\"x\\\": 0.174303, \\\"y\\\": 0.903597}, {\\\"x\\\": 0.174104, \\\"y\\\": 0.903597}, {\\\"x\\\": 0.173705, \\\"y\\\": 0.903395}, {\\\"x\\\": 0.173705, \\\"y\\\": 0.903193}, {\\\"x\\\": 0.173307, \\\"y\\\": 0.903193}, {\\\"x\\\": 0.173307, \\\"y\\\": 0.902991}, {\\\"x\\\": 0.172908, \\\"y\\\": 0.902587}, {\\\"x\\\": 0.172709, \\\"y\\\": 0.902385}, {\\\"x\\\": 0.172709, \\\"y\\\": 0.902183}, {\\\"x\\\": 0.172709, \\\"y\\\": 0.902183}, {\\\"x\\\": 0.17251, \\\"y\\\": 0.902183}, {\\\"x\\\": 0.171912, \\\"y\\\": 0.901778}, {\\\"x\\\": 0.171713, \\\"y\\\": 0.901778}, {\\\"x\\\": 0.171514, \\\"y\\\": 0.901374}, {\\\"x\\\": 0.171315, \\\"y\\\": 0.901374}, {\\\"x\\\": 0.171315, \\\"y\\\": 0.900768}, {\\\"x\\\": 0.171315, \\\"y\\\": 0.900566}, {\\\"x\\\": 0.171315, \\\"y\\\": 0.900566}, {\\\"x\\\": 0.171116, \\\"y\\\": 0.900566}, {\\\"x\\\": 0.170916, \\\"y\\\": 0.900364}, {\\\"x\\\": 0.170518, \\\"y\\\": 0.900364}, {\\\"x\\\": 0.17012, \\\"y\\\": 0.900162}, {\\\"x\\\": 0.16992, \\\"y\\\": 0.89996}, {\\\"x\\\": 0.169522, \\\"y\\\": 0.89996}, {\\\"x\\\": 0.169323, \\\"y\\\": 0.89996}, {\\\"x\\\": 0.168924, \\\"y\\\": 0.899757}, {\\\"x\\\": 0.168327, \\\"y\\\": 0.899757}, {\\\"x\\\": 0.167928, \\\"y\\\": 0.899757}, {\\\"x\\\": 0.167131, \\\"y\\\": 0.899757}, {\\\"x\\\": 0.167131, \\\"y\\\": 0.899555}, {\\\"x\\\": 0.166932, \\\"y\\\": 0.899555}, {\\\"x\\\": 0.166932, \\\"y\\\": 0.899353}, {\\\"x\\\": 0.166932, \\\"y\\\": 0.899353}, {\\\"x\\\": 0.166733, \\\"y\\\": 0.899151}, {\\\"x\\\": 0.166534, \\\"y\\\": 0.898747}, {\\\"x\\\": 0.166534, \\\"y\\\": 0.898545}, {\\\"x\\\": 0.166135, \\\"y\\\": 0.898545}, {\\\"x\\\": 0.166135, \\\"y\\\": 0.898545}, {\\\"x\\\": 0.165538, \\\"y\\\": 0.898343}, {\\\"x\\\": 0.165339, \\\"y\\\": 0.898141}, {\\\"x\\\": 0.165339, \\\"y\\\": 0.898141}, {\\\"x\\\": 0.165139, \\\"y\\\": 0.897736}, {\\\"x\\\": 0.164741, \\\"y\\\": 0.897534}, {\\\"x\\\": 0.164542, \\\"y\\\": 0.897534}, {\\\"x\\\": 0.164143, \\\"y\\\": 0.897534}, {\\\"x\\\": 0.163745, \\\"y\\\": 0.89713}, {\\\"x\\\": 0.163546, \\\"y\\\": 0.89713}, {\\\"x\\\": 0.163546, \\\"y\\\": 0.896928}, {\\\"x\\\": 0.163546, \\\"y\\\": 0.896726}, {\\\"x\\\": 0.163147, \\\"y\\\": 0.896524}, {\\\"x\\\": 0.162948, \\\"y\\\": 0.896524}, {\\\"x\\\": 0.162948, \\\"y\\\": 0.896524}, {\\\"x\\\": 0.162948, \\\"y\\\": 0.896322}, {\\\"x\\\": 0.16255, \\\"y\\\": 0.896322}, {\\\"x\\\": 0.16255, \\\"y\\\": 0.895715}, {\\\"x\\\": 0.16255, \\\"y\\\": 0.895715}, {\\\"x\\\": 0.16255, \\\"y\\\": 0.895715}, {\\\"x\\\": 0.162351, \\\"y\\\": 0.895311}, {\\\"x\\\": 0.162151, \\\"y\\\": 0.895311}, {\\\"x\\\": 0.161753, \\\"y\\\": 0.895311}, {\\\"x\\\": 0.161753, \\\"y\\\": 0.895311}, {\\\"x\\\": 0.161753, \\\"y\\\": 0.895311}, {\\\"x\\\": 0.161355, \\\"y\\\": 0.895311}, {\\\"x\\\": 0.161355, \\\"y\\\": 0.895311}, {\\\"x\\\": 0.161155, \\\"y\\\": 0.895109}, {\\\"x\\\": 0.160757, \\\"y\\\": 0.895109}, {\\\"x\\\": 0.160757, \\\"y\\\": 0.895109}, {\\\"x\\\": 0.160757, \\\"y\\\": 0.894705}, {\\\"x\\\": 0.160757, \\\"y\\\": 0.894705}, {\\\"x\\\": 0.160159, \\\"y\\\": 0.894503}, {\\\"x\\\": 0.159761, \\\"y\\\": 0.894503}, {\\\"x\\\": 0.159761, \\\"y\\\": 0.894301}, {\\\"x\\\": 0.159562, \\\"y\\\": 0.894301}, {\\\"x\\\": 0.159363, \\\"y\\\": 0.894099}, {\\\"x\\\": 0.158964, \\\"y\\\": 0.893897}, {\\\"x\\\": 0.158964, \\\"y\\\": 0.893897}, {\\\"x\\\": 0.158765, \\\"y\\\": 0.893897}, {\\\"x\\\": 0.158566, \\\"y\\\": 0.893492}, {\\\"x\\\": 0.158167, \\\"y\\\": 0.893492}, {\\\"x\\\": 0.157769, \\\"y\\\": 0.89329}, {\\\"x\\\": 0.157769, \\\"y\\\": 0.892886}, {\\\"x\\\": 0.157371, \\\"y\\\": 0.892482}, {\\\"x\\\": 0.157371, \\\"y\\\": 0.89228}, {\\\"x\\\": 0.157171, \\\"y\\\": 0.89228}, {\\\"x\\\": 0.157171, \\\"y\\\": 0.892078}, {\\\"x\\\": 0.156972, \\\"y\\\": 0.891471}, {\\\"x\\\": 0.156773, \\\"y\\\": 0.891471}, {\\\"x\\\": 0.156175, \\\"y\\\": 0.891471}, {\\\"x\\\": 0.155976, \\\"y\\\": 0.891471}, {\\\"x\\\": 0.155976, \\\"y\\\": 0.891471}, {\\\"x\\\": 0.155777, \\\"y\\\": 0.891471}, {\\\"x\\\": 0.155378, \\\"y\\\": 0.891269}, {\\\"x\\\": 0.154781, \\\"y\\\": 0.890865}, {\\\"x\\\": 0.154582, \\\"y\\\": 0.890865}, {\\\"x\\\": 0.154582, \\\"y\\\": 0.890259}, {\\\"x\\\": 0.154382, \\\"y\\\": 0.890057}, {\\\"x\\\": 0.153984, \\\"y\\\": 0.890057}, {\\\"x\\\": 0.153785, \\\"y\\\": 0.889854}, {\\\"x\\\": 0.153785, \\\"y\\\": 0.889652}, {\\\"x\\\": 0.153586, \\\"y\\\": 0.889652}, {\\\"x\\\": 0.153586, \\\"y\\\": 0.889652}, {\\\"x\\\": 0.153386, \\\"y\\\": 0.889652}, {\\\"x\\\": 0.153386, \\\"y\\\": 0.88945}, {\\\"x\\\": 0.153187, \\\"y\\\": 0.889248}, {\\\"x\\\": 0.152988, \\\"y\\\": 0.889248}, {\\\"x\\\": 0.152988, \\\"y\\\": 0.889046}, {\\\"x\\\": 0.15259, \\\"y\\\": 0.888844}, {\\\"x\\\": 0.15259, \\\"y\\\": 0.888642}, {\\\"x\\\": 0.15239, \\\"y\\\": 0.88844}, {\\\"x\\\": 0.15239, \\\"y\\\": 0.888238}, {\\\"x\\\": 0.152191, \\\"y\\\": 0.888036}, {\\\"x\\\": 0.152191, \\\"y\\\": 0.888036}, {\\\"x\\\": 0.151793, \\\"y\\\": 0.887833}, {\\\"x\\\": 0.151793, \\\"y\\\": 0.887227}, {\\\"x\\\": 0.151394, \\\"y\\\": 0.887025}, {\\\"x\\\": 0.151394, \\\"y\\\": 0.887025}, {\\\"x\\\": 0.151394, \\\"y\\\": 0.886823}, {\\\"x\\\": 0.151394, \\\"y\\\": 0.886823}, {\\\"x\\\": 0.151195, \\\"y\\\": 0.886823}, {\\\"x\\\": 0.151195, \\\"y\\\": 0.886823}, {\\\"x\\\": 0.151195, \\\"y\\\": 0.886419}, {\\\"x\\\": 0.151195, \\\"y\\\": 0.886217}, {\\\"x\\\": 0.151195, \\\"y\\\": 0.886015}, {\\\"x\\\": 0.150598, \\\"y\\\": 0.886015}, {\\\"x\\\": 0.150598, \\\"y\\\": 0.886015}, {\\\"x\\\": 0.150398, \\\"y\\\": 0.885812}, {\\\"x\\\": 0.150199, \\\"y\\\": 0.88561}, {\\\"x\\\": 0.15, \\\"y\\\": 0.885206}, {\\\"x\\\": 0.15, \\\"y\\\": 0.885004}, {\\\"x\\\": 0.149801, \\\"y\\\": 0.885004}, {\\\"x\\\": 0.149402, \\\"y\\\": 0.885004}, {\\\"x\\\": 0.149203, \\\"y\\\": 0.884802}, {\\\"x\\\": 0.148805, \\\"y\\\": 0.8846}, {\\\"x\\\": 0.148805, \\\"y\\\": 0.8846}, {\\\"x\\\": 0.148406, \\\"y\\\": 0.8846}, {\\\"x\\\": 0.148207, \\\"y\\\": 0.884398}, {\\\"x\\\": 0.147809, \\\"y\\\": 0.883791}, {\\\"x\\\": 0.147809, \\\"y\\\": 0.883589}, {\\\"x\\\": 0.147809, \\\"y\\\": 0.883589}, {\\\"x\\\": 0.147809, \\\"y\\\": 0.883589}, {\\\"x\\\": 0.147809, \\\"y\\\": 0.883185}, {\\\"x\\\": 0.147809, \\\"y\\\": 0.882983}, {\\\"x\\\": 0.14761, \\\"y\\\": 0.882781}, {\\\"x\\\": 0.14761, \\\"y\\\": 0.882377}, {\\\"x\\\": 0.14741, \\\"y\\\": 0.881973}, {\\\"x\\\": 0.14741, \\\"y\\\": 0.881973}, {\\\"x\\\": 0.14741, \\\"y\\\": 0.881568}, {\\\"x\\\": 0.146813, \\\"y\\\": 0.881164}, {\\\"x\\\": 0.146614, \\\"y\\\": 0.880962}, {\\\"x\\\": 0.146414, \\\"y\\\": 0.880962}, {\\\"x\\\": 0.146016, \\\"y\\\": 0.880962}, {\\\"x\\\": 0.145618, \\\"y\\\": 0.880962}, {\\\"x\\\": 0.144821, \\\"y\\\": 0.88076}, {\\\"x\\\": 0.144622, \\\"y\\\": 0.880356}, {\\\"x\\\": 0.144422, \\\"y\\\": 0.880356}, {\\\"x\\\": 0.144223, \\\"y\\\": 0.879951}, {\\\"x\\\": 0.144223, \\\"y\\\": 0.879749}, {\\\"x\\\": 0.144223, \\\"y\\\": 0.879547}, {\\\"x\\\": 0.143625, \\\"y\\\": 0.879547}, {\\\"x\\\": 0.143227, \\\"y\\\": 0.879345}, {\\\"x\\\": 0.143227, \\\"y\\\": 0.879345}, {\\\"x\\\": 0.143227, \\\"y\\\": 0.879143}, {\\\"x\\\": 0.143028, \\\"y\\\": 0.879143}, {\\\"x\\\": 0.142829, \\\"y\\\": 0.878941}, {\\\"x\\\": 0.142629, \\\"y\\\": 0.878941}, {\\\"x\\\": 0.142629, \\\"y\\\": 0.878941}, {\\\"x\\\": 0.14243, \\\"y\\\": 0.878941}, {\\\"x\\\": 0.142231, \\\"y\\\": 0.878941}, {\\\"x\\\": 0.142032, \\\"y\\\": 0.878537}, {\\\"x\\\": 0.142032, \\\"y\\\": 0.878537}, {\\\"x\\\": 0.141833, \\\"y\\\": 0.878537}, {\\\"x\\\": 0.141833, \\\"y\\\": 0.878133}, {\\\"x\\\": 0.141235, \\\"y\\\": 0.87793}, {\\\"x\\\": 0.141036, \\\"y\\\": 0.87793}, {\\\"x\\\": 0.141036, \\\"y\\\": 0.877728}, {\\\"x\\\": 0.141036, \\\"y\\\": 0.877728}, {\\\"x\\\": 0.141036, \\\"y\\\": 0.877526}, {\\\"x\\\": 0.140438, \\\"y\\\": 0.877526}, {\\\"x\\\": 0.140239, \\\"y\\\": 0.877324}, {\\\"x\\\": 0.14004, \\\"y\\\": 0.877122}, {\\\"x\\\": 0.14004, \\\"y\\\": 0.87692}, {\\\"x\\\": 0.14004, \\\"y\\\": 0.87692}, {\\\"x\\\": 0.14004, \\\"y\\\": 0.876314}, {\\\"x\\\": 0.14004, \\\"y\\\": 0.876314}, {\\\"x\\\": 0.139841, \\\"y\\\": 0.876112}, {\\\"x\\\": 0.139841, \\\"y\\\": 0.875909}, {\\\"x\\\": 0.139442, \\\"y\\\": 0.875707}, {\\\"x\\\": 0.139243, \\\"y\\\": 0.875505}, {\\\"x\\\": 0.139243, \\\"y\\\": 0.875505}, {\\\"x\\\": 0.138845, \\\"y\\\": 0.875303}, {\\\"x\\\": 0.138845, \\\"y\\\": 0.875101}, {\\\"x\\\": 0.138446, \\\"y\\\": 0.874697}, {\\\"x\\\": 0.138247, \\\"y\\\": 0.874697}, {\\\"x\\\": 0.138247, \\\"y\\\": 0.874495}, {\\\"x\\\": 0.138048, \\\"y\\\": 0.874495}, {\\\"x\\\": 0.138048, \\\"y\\\": 0.874495}, {\\\"x\\\": 0.138048, \\\"y\\\": 0.874293}, {\\\"x\\\": 0.138048, \\\"y\\\": 0.874091}, {\\\"x\\\": 0.137849, \\\"y\\\": 0.874091}, {\\\"x\\\": 0.13745, \\\"y\\\": 0.873888}, {\\\"x\\\": 0.137251, \\\"y\\\": 0.873686}, {\\\"x\\\": 0.137052, \\\"y\\\": 0.873686}, {\\\"x\\\": 0.137052, \\\"y\\\": 0.873282}, {\\\"x\\\": 0.137052, \\\"y\\\": 0.873282}, {\\\"x\\\": 0.136853, \\\"y\\\": 0.873282}, {\\\"x\\\": 0.136454, \\\"y\\\": 0.873282}, {\\\"x\\\": 0.136454, \\\"y\\\": 0.87308}, {\\\"x\\\": 0.135857, \\\"y\\\": 0.872676}, {\\\"x\\\": 0.135657, \\\"y\\\": 0.872676}, {\\\"x\\\": 0.135259, \\\"y\\\": 0.872676}, {\\\"x\\\": 0.13506, \\\"y\\\": 0.872676}, {\\\"x\\\": 0.13506, \\\"y\\\": 0.872676}, {\\\"x\\\": 0.134861, \\\"y\\\": 0.872676}, {\\\"x\\\": 0.134661, \\\"y\\\": 0.872676}, {\\\"x\\\": 0.134263, \\\"y\\\": 0.872474}, {\\\"x\\\": 0.134263, \\\"y\\\": 0.872474}, {\\\"x\\\": 0.133865, \\\"y\\\": 0.87207}, {\\\"x\\\": 0.133865, \\\"y\\\": 0.87207}, {\\\"x\\\": 0.133665, \\\"y\\\": 0.871665}, {\\\"x\\\": 0.133665, \\\"y\\\": 0.871665}, {\\\"x\\\": 0.133466, \\\"y\\\": 0.871665}, {\\\"x\\\": 0.133466, \\\"y\\\": 0.871665}, {\\\"x\\\": 0.133466, \\\"y\\\": 0.871665}, {\\\"x\\\": 0.133267, \\\"y\\\": 0.871463}, {\\\"x\\\": 0.133068, \\\"y\\\": 0.871463}, {\\\"x\\\": 0.132669, \\\"y\\\": 0.871261}, {\\\"x\\\": 0.132669, \\\"y\\\": 0.871059}, {\\\"x\\\": 0.13247, \\\"y\\\": 0.870857}, {\\\"x\\\": 0.132271, \\\"y\\\": 0.870857}, {\\\"x\\\": 0.132271, \\\"y\\\": 0.870857}, {\\\"x\\\": 0.132271, \\\"y\\\": 0.870857}, {\\\"x\\\": 0.132271, \\\"y\\\": 0.870655}, {\\\"x\\\": 0.132271, \\\"y\\\": 0.870655}, {\\\"x\\\": 0.132271, \\\"y\\\": 0.870453}, {\\\"x\\\": 0.132271, \\\"y\\\": 0.870453}, {\\\"x\\\": 0.132072, \\\"y\\\": 0.870251}, {\\\"x\\\": 0.132072, \\\"y\\\": 0.870251}, {\\\"x\\\": 0.131873, \\\"y\\\": 0.870251}, {\\\"x\\\": 0.131673, \\\"y\\\": 0.870049}, {\\\"x\\\": 0.131275, \\\"y\\\": 0.870049}, {\\\"x\\\": 0.131076, \\\"y\\\": 0.870049}, {\\\"x\\\": 0.130876, \\\"y\\\": 0.870049}, {\\\"x\\\": 0.130876, \\\"y\\\": 0.869846}, {\\\"x\\\": 0.130876, \\\"y\\\": 0.869644}, {\\\"x\\\": 0.130876, \\\"y\\\": 0.869644}, {\\\"x\\\": 0.130478, \\\"y\\\": 0.86924}, {\\\"x\\\": 0.12988, \\\"y\\\": 0.86924}, {\\\"x\\\": 0.12988, \\\"y\\\": 0.86924}, {\\\"x\\\": 0.129681, \\\"y\\\": 0.869038}, {\\\"x\\\": 0.129482, \\\"y\\\": 0.868836}, {\\\"x\\\": 0.129482, \\\"y\\\": 0.868432}, {\\\"x\\\": 0.129482, \\\"y\\\": 0.868432}, {\\\"x\\\": 0.129084, \\\"y\\\": 0.868432}, {\\\"x\\\": 0.128685, \\\"y\\\": 0.86823}, {\\\"x\\\": 0.128685, \\\"y\\\": 0.86823}, {\\\"x\\\": 0.128685, \\\"y\\\": 0.868027}, {\\\"x\\\": 0.128287, \\\"y\\\": 0.867623}, {\\\"x\\\": 0.127689, \\\"y\\\": 0.867623}, {\\\"x\\\": 0.127689, \\\"y\\\": 0.867623}, {\\\"x\\\": 0.127689, \\\"y\\\": 0.867623}, {\\\"x\\\": 0.127689, \\\"y\\\": 0.867421}, {\\\"x\\\": 0.127689, \\\"y\\\": 0.867421}, {\\\"x\\\": 0.127291, \\\"y\\\": 0.867421}, {\\\"x\\\": 0.127291, \\\"y\\\": 0.867421}, {\\\"x\\\": 0.127291, \\\"y\\\": 0.867421}, {\\\"x\\\": 0.127092, \\\"y\\\": 0.867421}, {\\\"x\\\": 0.126693, \\\"y\\\": 0.867421}, {\\\"x\\\": 0.126494, \\\"y\\\": 0.867219}, {\\\"x\\\": 0.126295, \\\"y\\\": 0.867219}, {\\\"x\\\": 0.126295, \\\"y\\\": 0.867219}, {\\\"x\\\": 0.126295, \\\"y\\\": 0.867017}, {\\\"x\\\": 0.125896, \\\"y\\\": 0.866815}, {\\\"x\\\": 0.125697, \\\"y\\\": 0.866815}, {\\\"x\\\": 0.1251, \\\"y\\\": 0.866613}, {\\\"x\\\": 0.1251, \\\"y\\\": 0.866411}, {\\\"x\\\": 0.1249, \\\"y\\\": 0.866209}, {\\\"x\\\": 0.124701, \\\"y\\\": 0.865804}, {\\\"x\\\": 0.124502, \\\"y\\\": 0.865602}, {\\\"x\\\": 0.124303, \\\"y\\\": 0.865602}, {\\\"x\\\": 0.124303, \\\"y\\\": 0.865602}, {\\\"x\\\": 0.123904, \\\"y\\\": 0.865198}, {\\\"x\\\": 0.123705, \\\"y\\\": 0.864996}, {\\\"x\\\": 0.123705, \\\"y\\\": 0.864996}, {\\\"x\\\": 0.123705, \\\"y\\\": 0.864996}, {\\\"x\\\": 0.123506, \\\"y\\\": 0.864996}, {\\\"x\\\": 0.123506, \\\"y\\\": 0.864996}, {\\\"x\\\": 0.123307, \\\"y\\\": 0.864996}, {\\\"x\\\": 0.123307, \\\"y\\\": 0.864794}, {\\\"x\\\": 0.123108, \\\"y\\\": 0.864794}, {\\\"x\\\": 0.122709, \\\"y\\\": 0.864592}, {\\\"x\\\": 0.122709, \\\"y\\\": 0.864188}, {\\\"x\\\": 0.12251, \\\"y\\\": 0.863985}, {\\\"x\\\": 0.122311, \\\"y\\\": 0.863985}, {\\\"x\\\": 0.122112, \\\"y\\\": 0.863581}, {\\\"x\\\": 0.122112, \\\"y\\\": 0.863379}, {\\\"x\\\": 0.122112, \\\"y\\\": 0.863379}, {\\\"x\\\": 0.122112, \\\"y\\\": 0.863379}, {\\\"x\\\": 0.122112, \\\"y\\\": 0.863177}, {\\\"x\\\": 0.121912, \\\"y\\\": 0.863177}, {\\\"x\\\": 0.121912, \\\"y\\\": 0.863177}, {\\\"x\\\": 0.121912, \\\"y\\\": 0.862975}, {\\\"x\\\": 0.121912, \\\"y\\\": 0.862975}, {\\\"x\\\": 0.121713, \\\"y\\\": 0.862773}, {\\\"x\\\": 0.121713, \\\"y\\\": 0.862773}, {\\\"x\\\": 0.121713, \\\"y\\\": 0.862571}, {\\\"x\\\": 0.121713, \\\"y\\\": 0.862167}, {\\\"x\\\": 0.121713, \\\"y\\\": 0.862167}, {\\\"x\\\": 0.121116, \\\"y\\\": 0.862167}, {\\\"x\\\": 0.120916, \\\"y\\\": 0.861964}, {\\\"x\\\": 0.120916, \\\"y\\\": 0.861964}, {\\\"x\\\": 0.120916, \\\"y\\\": 0.861964}, {\\\"x\\\": 0.120916, \\\"y\\\": 0.861762}, {\\\"x\\\": 0.120916, \\\"y\\\": 0.86156}, {\\\"x\\\": 0.120717, \\\"y\\\": 0.860954}, {\\\"x\\\": 0.120717, \\\"y\\\": 0.860752}, {\\\"x\\\": 0.120717, \\\"y\\\": 0.860752}, {\\\"x\\\": 0.120518, \\\"y\\\": 0.860348}, {\\\"x\\\": 0.120319, \\\"y\\\": 0.860348}, {\\\"x\\\": 0.120319, \\\"y\\\": 0.860348}, {\\\"x\\\": 0.12012, \\\"y\\\": 0.860146}, {\\\"x\\\": 0.11992, \\\"y\\\": 0.859741}, {\\\"x\\\": 0.119721, \\\"y\\\": 0.859539}, {\\\"x\\\": 0.119721, \\\"y\\\": 0.859539}, {\\\"x\\\": 0.119522, \\\"y\\\": 0.859539}, {\\\"x\\\": 0.119522, \\\"y\\\": 0.859337}, {\\\"x\\\": 0.119522, \\\"y\\\": 0.859337}, {\\\"x\\\": 0.119522, \\\"y\\\": 0.859337}, {\\\"x\\\": 0.119323, \\\"y\\\": 0.859337}, {\\\"x\\\": 0.119323, \\\"y\\\": 0.859337}, {\\\"x\\\": 0.119124, \\\"y\\\": 0.859337}, {\\\"x\\\": 0.119124, \\\"y\\\": 0.859337}, {\\\"x\\\": 0.119124, \\\"y\\\": 0.859337}, {\\\"x\\\": 0.118924, \\\"y\\\": 0.858933}, {\\\"x\\\": 0.118725, \\\"y\\\": 0.858933}, {\\\"x\\\": 0.118725, \\\"y\\\": 0.858933}, {\\\"x\\\": 0.118526, \\\"y\\\": 0.858933}, {\\\"x\\\": 0.118526, \\\"y\\\": 0.858933}, {\\\"x\\\": 0.118327, \\\"y\\\": 0.858933}, {\\\"x\\\": 0.117928, \\\"y\\\": 0.858731}, {\\\"x\\\": 0.117928, \\\"y\\\": 0.858731}, {\\\"x\\\": 0.117331, \\\"y\\\": 0.858731}, {\\\"x\\\": 0.117331, \\\"y\\\": 0.858529}, {\\\"x\\\": 0.117331, \\\"y\\\": 0.858529}, {\\\"x\\\": 0.116733, \\\"y\\\": 0.858124}, {\\\"x\\\": 0.116733, \\\"y\\\": 0.858124}, {\\\"x\\\": 0.116733, \\\"y\\\": 0.857922}, {\\\"x\\\": 0.116335, \\\"y\\\": 0.85772}, {\\\"x\\\": 0.116335, \\\"y\\\": 0.85772}, {\\\"x\\\": 0.116335, \\\"y\\\": 0.857518}, {\\\"x\\\": 0.116335, \\\"y\\\": 0.857114}, {\\\"x\\\": 0.116335, \\\"y\\\": 0.856508}, {\\\"x\\\": 0.115936, \\\"y\\\": 0.856508}, {\\\"x\\\": 0.115936, \\\"y\\\": 0.856508}, {\\\"x\\\": 0.115737, \\\"y\\\": 0.856306}, {\\\"x\\\": 0.115737, \\\"y\\\": 0.856306}, {\\\"x\\\": 0.115538, \\\"y\\\": 0.855901}, {\\\"x\\\": 0.115538, \\\"y\\\": 0.855497}, {\\\"x\\\": 0.115538, \\\"y\\\": 0.855093}, {\\\"x\\\": 0.115538, \\\"y\\\": 0.854891}, {\\\"x\\\": 0.115339, \\\"y\\\": 0.854891}, {\\\"x\\\": 0.115139, \\\"y\\\": 0.854487}, {\\\"x\\\": 0.11494, \\\"y\\\": 0.854487}, {\\\"x\\\": 0.114741, \\\"y\\\": 0.854487}, {\\\"x\\\": 0.114741, \\\"y\\\": 0.854487}, {\\\"x\\\": 0.114741, \\\"y\\\": 0.854285}, {\\\"x\\\": 0.114542, \\\"y\\\": 0.854082}, {\\\"x\\\": 0.114542, \\\"y\\\": 0.853678}, {\\\"x\\\": 0.114542, \\\"y\\\": 0.853678}, {\\\"x\\\": 0.114542, \\\"y\\\": 0.853274}, {\\\"x\\\": 0.114542, \\\"y\\\": 0.853072}, {\\\"x\\\": 0.114542, \\\"y\\\": 0.85287}, {\\\"x\\\": 0.114343, \\\"y\\\": 0.852668}, {\\\"x\\\": 0.114143, \\\"y\\\": 0.852466}, {\\\"x\\\": 0.113944, \\\"y\\\": 0.852264}, {\\\"x\\\": 0.113944, \\\"y\\\": 0.851859}, {\\\"x\\\": 0.113745, \\\"y\\\": 0.851859}, {\\\"x\\\": 0.113745, \\\"y\\\": 0.851657}, {\\\"x\\\": 0.113546, \\\"y\\\": 0.851657}, {\\\"x\\\": 0.113546, \\\"y\\\": 0.851455}, {\\\"x\\\": 0.113546, \\\"y\\\": 0.851253}, {\\\"x\\\": 0.113347, \\\"y\\\": 0.851051}, {\\\"x\\\": 0.113147, \\\"y\\\": 0.851051}, {\\\"x\\\": 0.112948, \\\"y\\\": 0.850849}, {\\\"x\\\": 0.112948, \\\"y\\\": 0.850849}, {\\\"x\\\": 0.112948, \\\"y\\\": 0.850243}, {\\\"x\\\": 0.112749, \\\"y\\\": 0.849838}, {\\\"x\\\": 0.112351, \\\"y\\\": 0.849434}, {\\\"x\\\": 0.112151, \\\"y\\\": 0.849434}, {\\\"x\\\": 0.112151, \\\"y\\\": 0.849434}, {\\\"x\\\": 0.111952, \\\"y\\\": 0.849232}, {\\\"x\\\": 0.111952, \\\"y\\\": 0.849232}, {\\\"x\\\": 0.111952, \\\"y\\\": 0.848828}, {\\\"x\\\": 0.111753, \\\"y\\\": 0.848828}, {\\\"x\\\": 0.111554, \\\"y\\\": 0.848626}, {\\\"x\\\": 0.111554, \\\"y\\\": 0.848222}, {\\\"x\\\": 0.111355, \\\"y\\\": 0.847817}, {\\\"x\\\": 0.111155, \\\"y\\\": 0.847817}, {\\\"x\\\": 0.111155, \\\"y\\\": 0.847817}, {\\\"x\\\": 0.110956, \\\"y\\\": 0.847413}, {\\\"x\\\": 0.110757, \\\"y\\\": 0.847413}, {\\\"x\\\": 0.110757, \\\"y\\\": 0.847211}, {\\\"x\\\": 0.110757, \\\"y\\\": 0.847009}, {\\\"x\\\": 0.110558, \\\"y\\\": 0.847009}, {\\\"x\\\": 0.110159, \\\"y\\\": 0.846807}, {\\\"x\\\": 0.110159, \\\"y\\\": 0.846605}, {\\\"x\\\": 0.110159, \\\"y\\\": 0.846605}, {\\\"x\\\": 0.10996, \\\"y\\\": 0.845998}, {\\\"x\\\": 0.109761, \\\"y\\\": 0.845594}, {\\\"x\\\": 0.109761, \\\"y\\\": 0.84519}, {\\\"x\\\": 0.109761, \\\"y\\\": 0.84519}, {\\\"x\\\": 0.109761, \\\"y\\\": 0.844988}, {\\\"x\\\": 0.109363, \\\"y\\\": 0.844786}, {\\\"x\\\": 0.109163, \\\"y\\\": 0.844786}, {\\\"x\\\": 0.108964, \\\"y\\\": 0.844786}, {\\\"x\\\": 0.108964, \\\"y\\\": 0.844179}, {\\\"x\\\": 0.108964, \\\"y\\\": 0.843977}, {\\\"x\\\": 0.108964, \\\"y\\\": 0.843977}, {\\\"x\\\": 0.108964, \\\"y\\\": 0.843573}, {\\\"x\\\": 0.108964, \\\"y\\\": 0.843573}, {\\\"x\\\": 0.108765, \\\"y\\\": 0.843573}, {\\\"x\\\": 0.108765, \\\"y\\\": 0.843371}, {\\\"x\\\": 0.108765, \\\"y\\\": 0.843371}, {\\\"x\\\": 0.108566, \\\"y\\\": 0.842967}, {\\\"x\\\": 0.108566, \\\"y\\\": 0.842563}, {\\\"x\\\": 0.108566, \\\"y\\\": 0.842563}, {\\\"x\\\": 0.108367, \\\"y\\\": 0.841956}, {\\\"x\\\": 0.108367, \\\"y\\\": 0.841754}, {\\\"x\\\": 0.108367, \\\"y\\\": 0.841552}, {\\\"x\\\": 0.108167, \\\"y\\\": 0.84135}, {\\\"x\\\": 0.108167, \\\"y\\\": 0.840946}, {\\\"x\\\": 0.108167, \\\"y\\\": 0.840744}, {\\\"x\\\": 0.108167, \\\"y\\\": 0.840744}, {\\\"x\\\": 0.108167, \\\"y\\\": 0.840744}, {\\\"x\\\": 0.108167, \\\"y\\\": 0.840744}, {\\\"x\\\": 0.108167, \\\"y\\\": 0.840542}, {\\\"x\\\": 0.108167, \\\"y\\\": 0.84034}, {\\\"x\\\": 0.108167, \\\"y\\\": 0.84034}, {\\\"x\\\": 0.107968, \\\"y\\\": 0.839935}, {\\\"x\\\": 0.107769, \\\"y\\\": 0.839733}, {\\\"x\\\": 0.107769, \\\"y\\\": 0.839733}, {\\\"x\\\": 0.106972, \\\"y\\\": 0.839329}, {\\\"x\\\": 0.106972, \\\"y\\\": 0.838925}, {\\\"x\\\": 0.106773, \\\"y\\\": 0.838925}, {\\\"x\\\": 0.106175, \\\"y\\\": 0.838116}, {\\\"x\\\": 0.105976, \\\"y\\\": 0.837914}, {\\\"x\\\": 0.105976, \\\"y\\\": 0.837914}, {\\\"x\\\": 0.105976, \\\"y\\\": 0.837712}, {\\\"x\\\": 0.105777, \\\"y\\\": 0.837712}, {\\\"x\\\": 0.105777, \\\"y\\\": 0.837308}, {\\\"x\\\": 0.105578, \\\"y\\\": 0.837308}, {\\\"x\\\": 0.105578, \\\"y\\\": 0.837308}, {\\\"x\\\": 0.105578, \\\"y\\\": 0.837308}, {\\\"x\\\": 0.105578, \\\"y\\\": 0.836904}, {\\\"x\\\": 0.105378, \\\"y\\\": 0.836702}, {\\\"x\\\": 0.105179, \\\"y\\\": 0.836095}, {\\\"x\\\": 0.104781, \\\"y\\\": 0.835893}, {\\\"x\\\": 0.104382, \\\"y\\\": 0.835893}, {\\\"x\\\": 0.104183, \\\"y\\\": 0.835893}, {\\\"x\\\": 0.103785, \\\"y\\\": 0.835489}, {\\\"x\\\": 0.103785, \\\"y\\\": 0.835489}, {\\\"x\\\": 0.103785, \\\"y\\\": 0.835489}, {\\\"x\\\": 0.103785, \\\"y\\\": 0.835085}, {\\\"x\\\": 0.103586, \\\"y\\\": 0.835085}, {\\\"x\\\": 0.103586, \\\"y\\\": 0.834883}, {\\\"x\\\": 0.103386, \\\"y\\\": 0.834479}, {\\\"x\\\": 0.103187, \\\"y\\\": 0.834479}, {\\\"x\\\": 0.102988, \\\"y\\\": 0.834479}, {\\\"x\\\": 0.102789, \\\"y\\\": 0.834479}, {\\\"x\\\": 0.10259, \\\"y\\\": 0.834479}, {\\\"x\\\": 0.10259, \\\"y\\\": 0.834276}, {\\\"x\\\": 0.10239, \\\"y\\\": 0.834276}, {\\\"x\\\": 0.10239, \\\"y\\\": 0.834074}, {\\\"x\\\": 0.10239, \\\"y\\\": 0.833872}, {\\\"x\\\": 0.10239, \\\"y\\\": 0.83367}, {\\\"x\\\": 0.10239, \\\"y\\\": 0.833468}, {\\\"x\\\": 0.102191, \\\"y\\\": 0.833064}, {\\\"x\\\": 0.101992, \\\"y\\\": 0.83266}, {\\\"x\\\": 0.101793, \\\"y\\\": 0.832255}, {\\\"x\\\": 0.101793, \\\"y\\\": 0.832255}, {\\\"x\\\": 0.101195, \\\"y\\\": 0.832053}, {\\\"x\\\": 0.100996, \\\"y\\\": 0.831851}, {\\\"x\\\": 0.100797, \\\"y\\\": 0.831851}, {\\\"x\\\": 0.100797, \\\"y\\\": 0.831851}, {\\\"x\\\": 0.100598, \\\"y\\\": 0.831649}, {\\\"x\\\": 0.100598, \\\"y\\\": 0.831245}, {\\\"x\\\": 0.100598, \\\"y\\\": 0.831245}, {\\\"x\\\": 0.100598, \\\"y\\\": 0.831245}, {\\\"x\\\": 0.100598, \\\"y\\\": 0.830841}, {\\\"x\\\": 0.100598, \\\"y\\\": 0.830841}, {\\\"x\\\": 0.100398, \\\"y\\\": 0.830639}, {\\\"x\\\": 0.100398, \\\"y\\\": 0.830234}, {\\\"x\\\": 0.1, \\\"y\\\": 0.830234}, {\\\"x\\\": 0.1, \\\"y\\\": 0.830234}, {\\\"x\\\": 0.099801, \\\"y\\\": 0.82983}, {\\\"x\\\": 0.099801, \\\"y\\\": 0.82983}, {\\\"x\\\": 0.099602, \\\"y\\\": 0.829426}, {\\\"x\\\": 0.099602, \\\"y\\\": 0.829426}, {\\\"x\\\": 0.099602, \\\"y\\\": 0.828416}, {\\\"x\\\": 0.099602, \\\"y\\\": 0.828416}, {\\\"x\\\": 0.099602, \\\"y\\\": 0.828416}, {\\\"x\\\": 0.099602, \\\"y\\\": 0.828213}, {\\\"x\\\": 0.099602, \\\"y\\\": 0.827809}, {\\\"x\\\": 0.099602, \\\"y\\\": 0.827405}, {\\\"x\\\": 0.099402, \\\"y\\\": 0.827203}, {\\\"x\\\": 0.099402, \\\"y\\\": 0.827001}, {\\\"x\\\": 0.099203, \\\"y\\\": 0.826799}, {\\\"x\\\": 0.099004, \\\"y\\\": 0.826192}, {\\\"x\\\": 0.098805, \\\"y\\\": 0.826192}, {\\\"x\\\": 0.098805, \\\"y\\\": 0.82599}, {\\\"x\\\": 0.098805, \\\"y\\\": 0.825586}, {\\\"x\\\": 0.098805, \\\"y\\\": 0.825384}, {\\\"x\\\": 0.098805, \\\"y\\\": 0.825384}, {\\\"x\\\": 0.098805, \\\"y\\\": 0.825182}, {\\\"x\\\": 0.098805, \\\"y\\\": 0.825182}, {\\\"x\\\": 0.098805, \\\"y\\\": 0.82498}, {\\\"x\\\": 0.098805, \\\"y\\\": 0.82498}, {\\\"x\\\": 0.098207, \\\"y\\\": 0.824778}, {\\\"x\\\": 0.098008, \\\"y\\\": 0.824778}, {\\\"x\\\": 0.09761, \\\"y\\\": 0.824778}, {\\\"x\\\": 0.09761, \\\"y\\\": 0.824576}, {\\\"x\\\": 0.09761, \\\"y\\\": 0.824576}, {\\\"x\\\": 0.09741, \\\"y\\\": 0.824576}, {\\\"x\\\": 0.097211, \\\"y\\\": 0.824171}, {\\\"x\\\": 0.097012, \\\"y\\\": 0.823969}, {\\\"x\\\": 0.097012, \\\"y\\\": 0.823969}, {\\\"x\\\": 0.097012, \\\"y\\\": 0.823767}, {\\\"x\\\": 0.097012, \\\"y\\\": 0.823565}, {\\\"x\\\": 0.096813, \\\"y\\\": 0.823363}, {\\\"x\\\": 0.096414, \\\"y\\\": 0.823161}, {\\\"x\\\": 0.096215, \\\"y\\\": 0.822959}, {\\\"x\\\": 0.096215, \\\"y\\\": 0.822757}, {\\\"x\\\": 0.096016, \\\"y\\\": 0.82215}, {\\\"x\\\": 0.095817, \\\"y\\\": 0.821948}, {\\\"x\\\": 0.095618, \\\"y\\\": 0.821544}, {\\\"x\\\": 0.095219, \\\"y\\\": 0.821342}, {\\\"x\\\": 0.09502, \\\"y\\\": 0.821342}, {\\\"x\\\": 0.094821, \\\"y\\\": 0.821342}, {\\\"x\\\": 0.094622, \\\"y\\\": 0.82114}, {\\\"x\\\": 0.094422, \\\"y\\\": 0.820938}, {\\\"x\\\": 0.094422, \\\"y\\\": 0.820938}, {\\\"x\\\": 0.094223, \\\"y\\\": 0.820331}, {\\\"x\\\": 0.094223, \\\"y\\\": 0.820129}, {\\\"x\\\": 0.094024, \\\"y\\\": 0.820129}, {\\\"x\\\": 0.094024, \\\"y\\\": 0.820129}, {\\\"x\\\": 0.093825, \\\"y\\\": 0.819927}, {\\\"x\\\": 0.093625, \\\"y\\\": 0.819321}, {\\\"x\\\": 0.093625, \\\"y\\\": 0.819119}, {\\\"x\\\": 0.093426, \\\"y\\\": 0.818715}, {\\\"x\\\": 0.093426, \\\"y\\\": 0.81831}, {\\\"x\\\": 0.093028, \\\"y\\\": 0.817906}, {\\\"x\\\": 0.093028, \\\"y\\\": 0.817906}, {\\\"x\\\": 0.092829, \\\"y\\\": 0.817502}, {\\\"x\\\": 0.092629, \\\"y\\\": 0.817098}, {\\\"x\\\": 0.092231, \\\"y\\\": 0.817098}, {\\\"x\\\": 0.092231, \\\"y\\\": 0.816492}, {\\\"x\\\": 0.092231, \\\"y\\\": 0.815885}, {\\\"x\\\": 0.092032, \\\"y\\\": 0.815279}, {\\\"x\\\": 0.091633, \\\"y\\\": 0.814875}, {\\\"x\\\": 0.091434, \\\"y\\\": 0.814673}, {\\\"x\\\": 0.091235, \\\"y\\\": 0.81447}, {\\\"x\\\": 0.091036, \\\"y\\\": 0.814268}, {\\\"x\\\": 0.091036, \\\"y\\\": 0.814066}, {\\\"x\\\": 0.091036, \\\"y\\\": 0.813864}, {\\\"x\\\": 0.091036, \\\"y\\\": 0.813258}, {\\\"x\\\": 0.090637, \\\"y\\\": 0.813056}, {\\\"x\\\": 0.090637, \\\"y\\\": 0.812652}, {\\\"x\\\": 0.090239, \\\"y\\\": 0.812652}, {\\\"x\\\": 0.09004, \\\"y\\\": 0.812652}, {\\\"x\\\": 0.09004, \\\"y\\\": 0.812247}, {\\\"x\\\": 0.09004, \\\"y\\\": 0.811439}, {\\\"x\\\": 0.09004, \\\"y\\\": 0.810631}, {\\\"x\\\": 0.089841, \\\"y\\\": 0.810631}, {\\\"x\\\": 0.089841, \\\"y\\\": 0.810631}, {\\\"x\\\": 0.089841, \\\"y\\\": 0.810631}, {\\\"x\\\": 0.089442, \\\"y\\\": 0.810428}, {\\\"x\\\": 0.089442, \\\"y\\\": 0.810226}, {\\\"x\\\": 0.089442, \\\"y\\\": 0.809822}, {\\\"x\\\": 0.089442, \\\"y\\\": 0.809822}, {\\\"x\\\": 0.089442, \\\"y\\\": 0.809216}, {\\\"x\\\": 0.089442, \\\"y\\\": 0.809014}, {\\\"x\\\": 0.089442, \\\"y\\\": 0.808003}, {\\\"x\\\": 0.089442, \\\"y\\\": 0.807801}, {\\\"x\\\": 0.089243, \\\"y\\\": 0.807599}, {\\\"x\\\": 0.089243, \\\"y\\\": 0.807195}, {\\\"x\\\": 0.089243, \\\"y\\\": 0.806589}, {\\\"x\\\": 0.089243, \\\"y\\\": 0.806386}, {\\\"x\\\": 0.089243, \\\"y\\\": 0.805982}, {\\\"x\\\": 0.089243, \\\"y\\\": 0.80578}, {\\\"x\\\": 0.089044, \\\"y\\\": 0.805376}, {\\\"x\\\": 0.088845, \\\"y\\\": 0.804568}, {\\\"x\\\": 0.088645, \\\"y\\\": 0.804365}, {\\\"x\\\": 0.088446, \\\"y\\\": 0.804163}, {\\\"x\\\": 0.088247, \\\"y\\\": 0.804163}, {\\\"x\\\": 0.088048, \\\"y\\\": 0.803961}, {\\\"x\\\": 0.087849, \\\"y\\\": 0.803961}, {\\\"x\\\": 0.087849, \\\"y\\\": 0.803759}, {\\\"x\\\": 0.087849, \\\"y\\\": 0.803355}, {\\\"x\\\": 0.087849, \\\"y\\\": 0.803355}, {\\\"x\\\": 0.087849, \\\"y\\\": 0.802546}, {\\\"x\\\": 0.08745, \\\"y\\\": 0.802142}, {\\\"x\\\": 0.087251, \\\"y\\\": 0.80194}, {\\\"x\\\": 0.086853, \\\"y\\\": 0.80093}, {\\\"x\\\": 0.086653, \\\"y\\\": 0.800728}, {\\\"x\\\": 0.086653, \\\"y\\\": 0.800121}, {\\\"x\\\": 0.086653, \\\"y\\\": 0.800121}, {\\\"x\\\": 0.086653, \\\"y\\\": 0.799717}, {\\\"x\\\": 0.086056, \\\"y\\\": 0.799515}, {\\\"x\\\": 0.086056, \\\"y\\\": 0.799313}, {\\\"x\\\": 0.08506, \\\"y\\\": 0.798909}, {\\\"x\\\": 0.084861, \\\"y\\\": 0.798504}, {\\\"x\\\": 0.084661, \\\"y\\\": 0.7981}, {\\\"x\\\": 0.084462, \\\"y\\\": 0.797898}, {\\\"x\\\": 0.084263, \\\"y\\\": 0.797494}, {\\\"x\\\": 0.084263, \\\"y\\\": 0.796888}, {\\\"x\\\": 0.084263, \\\"y\\\": 0.796686}, {\\\"x\\\": 0.084263, \\\"y\\\": 0.796483}, {\\\"x\\\": 0.084064, \\\"y\\\": 0.796281}, {\\\"x\\\": 0.084064, \\\"y\\\": 0.796079}, {\\\"x\\\": 0.083665, \\\"y\\\": 0.795675}, {\\\"x\\\": 0.083665, \\\"y\\\": 0.795473}, {\\\"x\\\": 0.083466, \\\"y\\\": 0.794867}, {\\\"x\\\": 0.083267, \\\"y\\\": 0.794665}, {\\\"x\\\": 0.082669, \\\"y\\\": 0.794462}, {\\\"x\\\": 0.08247, \\\"y\\\": 0.794058}, {\\\"x\\\": 0.08247, \\\"y\\\": 0.793856}, {\\\"x\\\": 0.08247, \\\"y\\\": 0.793452}, {\\\"x\\\": 0.082271, \\\"y\\\": 0.792643}, {\\\"x\\\": 0.081873, \\\"y\\\": 0.792441}, {\\\"x\\\": 0.081673, \\\"y\\\": 0.792441}, {\\\"x\\\": 0.081474, \\\"y\\\": 0.792239}, {\\\"x\\\": 0.081275, \\\"y\\\": 0.792037}, {\\\"x\\\": 0.081076, \\\"y\\\": 0.791229}, {\\\"x\\\": 0.080876, \\\"y\\\": 0.790825}, {\\\"x\\\": 0.080876, \\\"y\\\": 0.790622}, {\\\"x\\\": 0.080677, \\\"y\\\": 0.790218}, {\\\"x\\\": 0.080677, \\\"y\\\": 0.790218}, {\\\"x\\\": 0.080478, \\\"y\\\": 0.790016}, {\\\"x\\\": 0.080478, \\\"y\\\": 0.789814}, {\\\"x\\\": 0.080478, \\\"y\\\": 0.789612}, {\\\"x\\\": 0.08008, \\\"y\\\": 0.78941}, {\\\"x\\\": 0.07988, \\\"y\\\": 0.788601}, {\\\"x\\\": 0.079681, \\\"y\\\": 0.788197}, {\\\"x\\\": 0.079283, \\\"y\\\": 0.787591}, {\\\"x\\\": 0.079283, \\\"y\\\": 0.787389}, {\\\"x\\\": 0.079283, \\\"y\\\": 0.786985}, {\\\"x\\\": 0.079283, \\\"y\\\": 0.786783}, {\\\"x\\\": 0.078685, \\\"y\\\": 0.786176}, {\\\"x\\\": 0.078486, \\\"y\\\": 0.786176}, {\\\"x\\\": 0.078287, \\\"y\\\": 0.785772}, {\\\"x\\\": 0.078287, \\\"y\\\": 0.785368}, {\\\"x\\\": 0.078287, \\\"y\\\": 0.785368}, {\\\"x\\\": 0.078088, \\\"y\\\": 0.784155}, {\\\"x\\\": 0.077689, \\\"y\\\": 0.783751}, {\\\"x\\\": 0.07749, \\\"y\\\": 0.782538}, {\\\"x\\\": 0.077291, \\\"y\\\": 0.78173}, {\\\"x\\\": 0.077092, \\\"y\\\": 0.781124}, {\\\"x\\\": 0.077092, \\\"y\\\": 0.780719}, {\\\"x\\\": 0.077092, \\\"y\\\": 0.780315}, {\\\"x\\\": 0.076892, \\\"y\\\": 0.779507}, {\\\"x\\\": 0.076693, \\\"y\\\": 0.778496}, {\\\"x\\\": 0.076494, \\\"y\\\": 0.777284}, {\\\"x\\\": 0.076295, \\\"y\\\": 0.77688}, {\\\"x\\\": 0.076295, \\\"y\\\": 0.775869}, {\\\"x\\\": 0.076096, \\\"y\\\": 0.775263}, {\\\"x\\\": 0.075896, \\\"y\\\": 0.77405}, {\\\"x\\\": 0.0751, \\\"y\\\": 0.773848}, {\\\"x\\\": 0.0749, \\\"y\\\": 0.773646}, {\\\"x\\\": 0.074701, \\\"y\\\": 0.773242}, {\\\"x\\\": 0.074502, \\\"y\\\": 0.772029}, {\\\"x\\\": 0.074303, \\\"y\\\": 0.771625}, {\\\"x\\\": 0.073506, \\\"y\\\": 0.770614}, {\\\"x\\\": 0.073506, \\\"y\\\": 0.77021}, {\\\"x\\\": 0.073506, \\\"y\\\": 0.769806}, {\\\"x\\\": 0.073108, \\\"y\\\": 0.769604}, {\\\"x\\\": 0.072908, \\\"y\\\": 0.769402}, {\\\"x\\\": 0.072908, \\\"y\\\": 0.768998}, {\\\"x\\\": 0.072908, \\\"y\\\": 0.768189}, {\\\"x\\\": 0.072908, \\\"y\\\": 0.767785}, {\\\"x\\\": 0.072709, \\\"y\\\": 0.767583}, {\\\"x\\\": 0.072311, \\\"y\\\": 0.766977}, {\\\"x\\\": 0.072311, \\\"y\\\": 0.765764}, {\\\"x\\\": 0.071912, \\\"y\\\": 0.765158}, {\\\"x\\\": 0.071912, \\\"y\\\": 0.764551}, {\\\"x\\\": 0.071912, \\\"y\\\": 0.764147}, {\\\"x\\\": 0.071912, \\\"y\\\": 0.763541}, {\\\"x\\\": 0.071713, \\\"y\\\": 0.762935}, {\\\"x\\\": 0.071116, \\\"y\\\": 0.762126}, {\\\"x\\\": 0.070916, \\\"y\\\": 0.761722}, {\\\"x\\\": 0.070717, \\\"y\\\": 0.760914}, {\\\"x\\\": 0.070518, \\\"y\\\": 0.760509}, {\\\"x\\\": 0.070319, \\\"y\\\": 0.759499}, {\\\"x\\\": 0.06992, \\\"y\\\": 0.759095}, {\\\"x\\\": 0.069124, \\\"y\\\": 0.75869}, {\\\"x\\\": 0.068924, \\\"y\\\": 0.758084}, {\\\"x\\\": 0.068725, \\\"y\\\": 0.75768}, {\\\"x\\\": 0.068526, \\\"y\\\": 0.757276}, {\\\"x\\\": 0.068327, \\\"y\\\": 0.756669}, {\\\"x\\\": 0.067729, \\\"y\\\": 0.756265}, {\\\"x\\\": 0.067729, \\\"y\\\": 0.755861}, {\\\"x\\\": 0.06753, \\\"y\\\": 0.754244}, {\\\"x\\\": 0.06753, \\\"y\\\": 0.753234}, {\\\"x\\\": 0.06753, \\\"y\\\": 0.752829}, {\\\"x\\\": 0.067131, \\\"y\\\": 0.752021}, {\\\"x\\\": 0.067131, \\\"y\\\": 0.751415}, {\\\"x\\\": 0.066733, \\\"y\\\": 0.750808}, {\\\"x\\\": 0.066335, \\\"y\\\": 0.750404}, {\\\"x\\\": 0.066335, \\\"y\\\": 0.75}, {\\\"x\\\": 0.065936, \\\"y\\\": 0.749394}, {\\\"x\\\": 0.065936, \\\"y\\\": 0.748383}, {\\\"x\\\": 0.065737, \\\"y\\\": 0.747171}, {\\\"x\\\": 0.065737, \\\"y\\\": 0.746564}, {\\\"x\\\": 0.065538, \\\"y\\\": 0.74616}, {\\\"x\\\": 0.06494, \\\"y\\\": 0.744947}, {\\\"x\\\": 0.064741, \\\"y\\\": 0.744341}, {\\\"x\\\": 0.064343, \\\"y\\\": 0.743735}, {\\\"x\\\": 0.063944, \\\"y\\\": 0.743129}, {\\\"x\\\": 0.063745, \\\"y\\\": 0.742118}, {\\\"x\\\": 0.063347, \\\"y\\\": 0.741714}, {\\\"x\\\": 0.062749, \\\"y\\\": 0.740097}, {\\\"x\\\": 0.061753, \\\"y\\\": 0.739289}, {\\\"x\\\": 0.060956, \\\"y\\\": 0.738682}, {\\\"x\\\": 0.060359, \\\"y\\\": 0.737268}, {\\\"x\\\": 0.05996, \\\"y\\\": 0.736459}, {\\\"x\\\": 0.059761, \\\"y\\\": 0.735449}, {\\\"x\\\": 0.059163, \\\"y\\\": 0.735044}, {\\\"x\\\": 0.058964, \\\"y\\\": 0.733226}, {\\\"x\\\": 0.058566, \\\"y\\\": 0.732013}, {\\\"x\\\": 0.058566, \\\"y\\\": 0.731407}, {\\\"x\\\": 0.058566, \\\"y\\\": 0.730598}, {\\\"x\\\": 0.058367, \\\"y\\\": 0.729588}, {\\\"x\\\": 0.057968, \\\"y\\\": 0.728577}, {\\\"x\\\": 0.057371, \\\"y\\\": 0.726758}, {\\\"x\\\": 0.056773, \\\"y\\\": 0.725748}, {\\\"x\\\": 0.056773, \\\"y\\\": 0.723727}, {\\\"x\\\": 0.056773, \\\"y\\\": 0.722716}, {\\\"x\\\": 0.056574, \\\"y\\\": 0.721302}, {\\\"x\\\": 0.056175, \\\"y\\\": 0.719078}, {\\\"x\\\": 0.055578, \\\"y\\\": 0.716653}, {\\\"x\\\": 0.055378, \\\"y\\\": 0.714834}, {\\\"x\\\": 0.05498, \\\"y\\\": 0.712409}, {\\\"x\\\": 0.054582, \\\"y\\\": 0.71059}, {\\\"x\\\": 0.054382, \\\"y\\\": 0.708973}, {\\\"x\\\": 0.054183, \\\"y\\\": 0.707963}, {\\\"x\\\": 0.052988, \\\"y\\\": 0.706144}, {\\\"x\\\": 0.052789, \\\"y\\\": 0.704325}, {\\\"x\\\": 0.051992, \\\"y\\\": 0.703921}, {\\\"x\\\": 0.051195, \\\"y\\\": 0.702506}, {\\\"x\\\": 0.050199, \\\"y\\\": 0.698868}, {\\\"x\\\": 0.049602, \\\"y\\\": 0.697454}, {\\\"x\\\": 0.049004, \\\"y\\\": 0.69523}, {\\\"x\\\": 0.048406, \\\"y\\\": 0.693816}, {\\\"x\\\": 0.048207, \\\"y\\\": 0.692199}, {\\\"x\\\": 0.04761, \\\"y\\\": 0.689774}, {\\\"x\\\": 0.046614, \\\"y\\\": 0.687955}, {\\\"x\\\": 0.046215, \\\"y\\\": 0.685934}, {\\\"x\\\": 0.046215, \\\"y\\\": 0.684115}, {\\\"x\\\": 0.046016, \\\"y\\\": 0.681487}, {\\\"x\\\": 0.045817, \\\"y\\\": 0.678254}, {\\\"x\\\": 0.045418, \\\"y\\\": 0.676637}, {\\\"x\\\": 0.044821, \\\"y\\\": 0.673605}, {\\\"x\\\": 0.043426, \\\"y\\\": 0.670372}, {\\\"x\\\": 0.042829, \\\"y\\\": 0.668553}, {\\\"x\\\": 0.04243, \\\"y\\\": 0.666532}, {\\\"x\\\": 0.041235, \\\"y\\\": 0.663096}, {\\\"x\\\": 0.040438, \\\"y\\\": 0.659458}, {\\\"x\\\": 0.04004, \\\"y\\\": 0.654406}, {\\\"x\\\": 0.039442, \\\"y\\\": 0.64996}, {\\\"x\\\": 0.038446, \\\"y\\\": 0.645918}, {\\\"x\\\": 0.037849, \\\"y\\\": 0.640663}, {\\\"x\\\": 0.036653, \\\"y\\\": 0.636217}, {\\\"x\\\": 0.035657, \\\"y\\\": 0.631164}, {\\\"x\\\": 0.034861, \\\"y\\\": 0.624495}, {\\\"x\\\": 0.034064, \\\"y\\\": 0.620453}, {\\\"x\\\": 0.033466, \\\"y\\\": 0.616209}, {\\\"x\\\": 0.03247, \\\"y\\\": 0.611156}, {\\\"x\\\": 0.031673, \\\"y\\\": 0.60287}, {\\\"x\\\": 0.030876, \\\"y\\\": 0.594382}, {\\\"x\\\": 0.03008, \\\"y\\\": 0.585085}, {\\\"x\\\": 0.028884, \\\"y\\\": 0.573565}, {\\\"x\\\": 0.027092, \\\"y\\\": 0.561035}, {\\\"x\\\": 0.026494, \\\"y\\\": 0.547494}, {\\\"x\\\": 0.024502, \\\"y\\\": 0.531326}, {\\\"x\\\": 0.021713, \\\"y\\\": 0.50485}, {\\\"x\\\": 0.01753, \\\"y\\\": 0.458569}, {\\\"x\\\": 0.0, \\\"y\\\": 0.0}]}], \\\"marks\\\": [{\\\"name\\\": \\\"marks\\\", \\\"type\\\": \\\"symbol\\\", \\\"style\\\": [\\\"circle\\\"], \\\"from\\\": {\\\"data\\\": \\\"source_2\\\"}, \\\"encode\\\": {\\\"hover\\\": {\\\"fill\\\": {\\\"value\\\": \\\"#7EC2F3\\\"}}, \\\"update\\\": {\\\"x\\\": {\\\"scale\\\": \\\"x\\\", \\\"field\\\": \\\"x\\\"}, \\\"y\\\": {\\\"scale\\\": \\\"y\\\", \\\"field\\\": \\\"y\\\", \\\"title\\\": \\\"Miles per Gallon\\\"}, \\\"fill\\\": {\\\"value\\\": \\\"#108EE9\\\"}, \\\"shape\\\": {\\\"value\\\": \\\"circle\\\"}, \\\"opacity\\\": {\\\"value\\\": 0.7}}}}], \\\"scales\\\": [{\\\"name\\\": \\\"x\\\", \\\"type\\\": \\\"linear\\\", \\\"domain\\\": {\\\"data\\\": \\\"source_2\\\", \\\"field\\\": \\\"x\\\"}, \\\"range\\\": [0, {\\\"signal\\\": \\\"width\\\"}], \\\"nice\\\": true, \\\"zero\\\": false, \\\"padding\\\": 5}, {\\\"name\\\": \\\"y\\\", \\\"type\\\": \\\"linear\\\", \\\"domain\\\": {\\\"data\\\": \\\"source_2\\\", \\\"field\\\": \\\"y\\\"}, \\\"range\\\": [{\\\"signal\\\": \\\"height\\\"}, 0], \\\"nice\\\": true, \\\"zero\\\": false, \\\"padding\\\": 5}], \\\"axes\\\": [{\\\"scale\\\": \\\"x\\\", \\\"labelOverlap\\\": true, \\\"orient\\\": \\\"bottom\\\", \\\"tickCount\\\": {\\\"signal\\\": \\\"ceil(width/40)\\\"}, \\\"title\\\": \\\"X\\\", \\\"zindex\\\": 1}, {\\\"scale\\\": \\\"x\\\", \\\"domain\\\": false, \\\"grid\\\": true, \\\"labels\\\": false, \\\"maxExtent\\\": 0, \\\"minExtent\\\": 0, \\\"orient\\\": \\\"bottom\\\", \\\"tickCount\\\": {\\\"signal\\\": \\\"ceil(width/40)\\\"}, \\\"ticks\\\": false, \\\"zindex\\\": 0, \\\"gridScale\\\": \\\"y\\\"}, {\\\"scale\\\": \\\"y\\\", \\\"labelOverlap\\\": true, \\\"orient\\\": \\\"left\\\", \\\"tickCount\\\": {\\\"signal\\\": \\\"ceil(height/40)\\\"}, \\\"title\\\": \\\"Y\\\", \\\"zindex\\\": 1}, {\\\"scale\\\": \\\"y\\\", \\\"domain\\\": false, \\\"grid\\\": true, \\\"labels\\\": false, \\\"maxExtent\\\": 0, \\\"minExtent\\\": 0, \\\"orient\\\": \\\"left\\\", \\\"tickCount\\\": {\\\"signal\\\": \\\"ceil(height/40)\\\"}, \\\"ticks\\\": false, \\\"zindex\\\": 0, \\\"gridScale\\\": \\\"x\\\"}], \\\"config\\\": {\\\"axis\\\": {\\\"gridColor\\\": \\\"rgba(204,204,204,1.0)\\\", \\\"labelFont\\\": \\\"\\\\\\\"San Francisco\\\\\\\", HelveticaNeue, Arial\\\", \\\"labelFontSize\\\": 12, \\\"labelPadding\\\": 10, \\\"labelColor\\\": \\\"rgba(0,0,0,0.847)\\\", \\\"tickColor\\\": \\\"rgb(136,136,136)\\\", \\\"titleFont\\\": \\\"\\\\\\\"San Francisco\\\\\\\", HelveticaNeue, Arial\\\", \\\"titleFontWeight\\\": \\\"normal\\\", \\\"titlePadding\\\": 20, \\\"titleFontSize\\\": 14, \\\"titleColor\\\": \\\"rgba(0,0,0,0.847)\\\"}, \\\"axisY\\\": {\\\"minExtent\\\": 30}, \\\"legend\\\": {\\\"labelFont\\\": \\\"\\\\\\\"San Francisco\\\\\\\", HelveticaNeue, Arial\\\", \\\"labelColor\\\": \\\"rgba(0,0,0,0.847)\\\", \\\"titleFont\\\": \\\"\\\\\\\"San Francisco\\\\\\\", HelveticaNeue, Arial\\\", \\\"cornerRadius\\\": 30, \\\"gradientLength\\\": 608, \\\"titleColor\\\": \\\"rgba(0,0,0,0.847)\\\"}, \\\"range\\\": {\\\"heatmap\\\": {\\\"scheme\\\": \\\"greenblue\\\"}}, \\\"style\\\": {\\\"rect\\\": {\\\"stroke\\\": \\\"rgba(200, 200, 200, 0.5)\\\"}, \\\"cell\\\": {\\\"stroke\\\": \\\"transparent\\\"}, \\\"group-title\\\": {\\\"fontSize\\\": 29, \\\"font\\\": \\\"HelveticaNeue, Arial\\\", \\\"fontWeight\\\": \\\"normal\\\", \\\"fill\\\": \\\"rgba(0,0,0,0.65)\\\"}}, \\\"title\\\": {\\\"color\\\": \\\"rgba(0,0,0,0.847)\\\", \\\"font\\\": \\\"\\\\\\\"San Francisco\\\\\\\", HelveticaNeue, Arial\\\", \\\"fontSize\\\": 18, \\\"fontWeight\\\": \\\"normal\\\", \\\"offset\\\": 30}}}\";                                 var vega_json_parsed = JSON.parse(vega_json);                                 var toolTipOpts = {                                     showAllFields: true                                 };                                 if(vega_json_parsed[\"metadata\"] != null){                                     if(vega_json_parsed[\"metadata\"][\"bubbleOpts\"] != null){                                         toolTipOpts = vega_json_parsed[\"metadata\"][\"bubbleOpts\"];                                     };                                 };                                 vegaEmbed(\"#vis\", vega_json_parsed).then(function (result) {                                     vegaTooltip.vega(result.view, toolTipOpts);                                  });                             </script>                         </body>                     </html>' src=\"demo_iframe_srcdoc.htm\">                         <p>Your browser does not support iframes.</p>                     </iframe>                 </body>             </html>"
            ]
          },
          "metadata": {}
        }
      ]
    },
    {
      "cell_type": "markdown",
      "source": [
        "# Red neuronal\n",
        "\n",
        "\n",
        "\n",
        "\n"
      ],
      "metadata": {
        "id": "Ja4xi11utwRO"
      }
    },
    {
      "cell_type": "markdown",
      "source": [
        "##Ejercicio 9"
      ],
      "metadata": {
        "id": "DV8OS2nRHBHR"
      }
    },
    {
      "cell_type": "markdown",
      "source": [
        "En esta práctica vamos a probar un modelo de red neuronal para llevar a cabo una\n",
        "tarea de reconocimiento de imágenes, a saber, el reconocimiento de dígitos partir de imágenes caligráficas (dataset MNIST). El procedimiento a seguir se ha visto en la clasede teoría.\n",
        "\n",
        " Procederemos a realizar los siguientes pasos: \n",
        "\n",
        " (a) cargar el dataset, \n",
        "\n",
        " (b) redimensionarlo para que se ajuste a las entradas de la red y para que la salida sea categórica \n",
        "\n",
        " (c) Definir la arquitectura de red (784:120relu:64relu:10softmax) \n",
        "\n",
        " (d) compilar la red y entrenarla.\n",
        "\n",
        "Intenta jugar con algunos de los hiperparámetros de la red para intentar mejorar la predicción. Presentarás un informe de los modelos que has probado. Para llevar a cabo esta evaluación, puede ser interesante que particiones el dataset en training y test."
      ],
      "metadata": {
        "id": "Le_p_mUtHEbc"
      }
    },
    {
      "cell_type": "code",
      "source": [
        "import tensorflow as tf\n",
        "import pandas as pd\n",
        "from tensorflow import keras\n",
        "from tensorflow.keras.models import Sequential\n",
        "from tensorflow.keras.layers import Dense, Dropout\n",
        "from tensorflow.keras.utils import to_categorical\n",
        "from sklearn.model_selection import train_test_split\n",
        "\n",
        "from google.colab import drive\n",
        "#drive.mount('/content/gdrive')\n",
        "\n",
        "\n",
        "(x_train, y_train), (x_test, y_test) = keras.datasets.mnist.load_data()\n"
      ],
      "metadata": {
        "id": "h1EJaaVMt0a8"
      },
      "execution_count": null,
      "outputs": []
    },
    {
      "cell_type": "markdown",
      "source": [
        "###Preprocesado de dataset y definición de NN"
      ],
      "metadata": {
        "id": "ZYFiz8SGwtan"
      }
    },
    {
      "cell_type": "code",
      "source": [
        "img_height = 28\n",
        "img_width = 28\n",
        "num_classes = 10\n",
        "input_shape = img_height * img_width\n",
        "\n",
        "x_train_reshaped = x_train.reshape(-1,img_height * img_width)\n",
        "x_test_reshaped = x_test.reshape(-1, img_height * img_width)\n",
        "y_train_categorical = to_categorical(y_train, num_classes)\n",
        "y_test_categorical = to_categorical(y_test, num_classes)\n",
        "\n",
        "model = Sequential()\n",
        "\n",
        "model.add(Dense(120, activation='relu', input_shape=(input_shape,)))\n",
        "model.add(Dense(64, activation='relu'))\n",
        "model.add(Dense(num_classes, activation='softmax'))\n",
        "\n",
        "model.compile(loss='categorical_crossentropy', optimizer='adam', metrics=['accuracy'])\n",
        "model.summary()\n"
      ],
      "metadata": {
        "id": "6OtD4JU4ws4t",
        "outputId": "2dc1d001-d663-4710-ef30-2c8b21499163",
        "colab": {
          "base_uri": "https://localhost:8080/"
        }
      },
      "execution_count": null,
      "outputs": [
        {
          "output_type": "stream",
          "name": "stdout",
          "text": [
            "Model: \"sequential_1\"\n",
            "_________________________________________________________________\n",
            " Layer (type)                Output Shape              Param #   \n",
            "=================================================================\n",
            " dense_3 (Dense)             (None, 120)               94200     \n",
            "                                                                 \n",
            " dense_4 (Dense)             (None, 64)                7744      \n",
            "                                                                 \n",
            " dense_5 (Dense)             (None, 10)                650       \n",
            "                                                                 \n",
            "=================================================================\n",
            "Total params: 102,594\n",
            "Trainable params: 102,594\n",
            "Non-trainable params: 0\n",
            "_________________________________________________________________\n"
          ]
        }
      ]
    },
    {
      "cell_type": "markdown",
      "source": [
        "Entrenamiento de NN"
      ],
      "metadata": {
        "id": "FhJT1fx2zdYh"
      }
    },
    {
      "cell_type": "code",
      "source": [
        "history = model.fit(x_train_reshaped, y_train_categorical, \n",
        "          epochs=10, batch_size=10)"
      ],
      "metadata": {
        "id": "g8E-jSjAzlvn",
        "outputId": "c4068d60-760f-44df-c197-2059a44c39a4",
        "colab": {
          "base_uri": "https://localhost:8080/"
        }
      },
      "execution_count": null,
      "outputs": [
        {
          "output_type": "stream",
          "name": "stdout",
          "text": [
            "Epoch 1/10\n",
            "6000/6000 [==============================] - 13s 2ms/step - loss: 1.2435 - accuracy: 0.8703\n",
            "Epoch 2/10\n",
            "6000/6000 [==============================] - 13s 2ms/step - loss: 0.2663 - accuracy: 0.9296\n",
            "Epoch 3/10\n",
            "6000/6000 [==============================] - 12s 2ms/step - loss: 0.2053 - accuracy: 0.9451\n",
            "Epoch 4/10\n",
            "6000/6000 [==============================] - 12s 2ms/step - loss: 0.1848 - accuracy: 0.9538\n",
            "Epoch 5/10\n",
            "6000/6000 [==============================] - 12s 2ms/step - loss: 0.1657 - accuracy: 0.9576\n",
            "Epoch 6/10\n",
            "6000/6000 [==============================] - 13s 2ms/step - loss: 0.1608 - accuracy: 0.9607\n",
            "Epoch 7/10\n",
            "6000/6000 [==============================] - 13s 2ms/step - loss: 0.1459 - accuracy: 0.9643\n",
            "Epoch 8/10\n",
            "6000/6000 [==============================] - 13s 2ms/step - loss: 0.1475 - accuracy: 0.9662\n",
            "Epoch 9/10\n",
            "6000/6000 [==============================] - 13s 2ms/step - loss: 0.1338 - accuracy: 0.9690\n",
            "Epoch 10/10\n",
            "6000/6000 [==============================] - 12s 2ms/step - loss: 0.1321 - accuracy: 0.9695\n"
          ]
        }
      ]
    },
    {
      "cell_type": "markdown",
      "source": [
        "Evaluacion"
      ],
      "metadata": {
        "id": "VMBGp1PK2w6j"
      }
    },
    {
      "cell_type": "code",
      "metadata": {
        "id": "DDpH_jwmjvED",
        "outputId": "b5f70326-b16d-4d86-dcdd-f85243ec5058",
        "colab": {
          "base_uri": "https://localhost:8080/"
        }
      },
      "source": [
        "performance = model.evaluate(x_test_reshaped, y_test_categorical, verbose=0)\n",
        "print(\"Loss of test partition:\", performance[0])\n",
        "print(\"Accuracy of test partition:\", performance[1])"
      ],
      "execution_count": null,
      "outputs": [
        {
          "output_type": "stream",
          "name": "stdout",
          "text": [
            "Loss of test partition: 0.20875732600688934\n",
            "Accuracy of test partition: 0.9552000164985657\n"
          ]
        }
      ]
    },
    {
      "cell_type": "code",
      "source": [
        "import matplotlib.pyplot as plt\n",
        "\n",
        "font = {\n",
        "        'family': 'serif',\n",
        "        'color' : 'black',\n",
        "        'weight': 'normal',\n",
        "        'size'  :  9\n",
        "}\n",
        "\n",
        "# summarize history for accuracy\n",
        "plt.plot(history.history['accuracy'])\n",
        "plt.title('model accuracy')\n",
        "plt.ylabel('accuracy')\n",
        "plt.xlabel('epoch')\n",
        "plt.legend(['train'], loc='best')\n",
        "plt.show()\n",
        "\n",
        "# summarize history for loss\n",
        "plt.plot(history.history['loss'])\n",
        "plt.title('model loss')\n",
        "plt.ylabel('loss')\n",
        "plt.xlabel('epoch')\n",
        "plt.legend(['train'], loc='best')\n",
        "plt.show()"
      ],
      "metadata": {
        "id": "XVuGTQja4cEP",
        "outputId": "11cf5da4-141d-4a95-f070-32946ecbecc8",
        "colab": {
          "base_uri": "https://localhost:8080/",
          "height": 573
        }
      },
      "execution_count": null,
      "outputs": [
        {
          "output_type": "display_data",
          "data": {
            "text/plain": [
              "<Figure size 432x288 with 1 Axes>"
            ],
            "image/png": "[encoded data removed]"
          },
          "metadata": {
            "needs_background": "light"
          }
        },
        {
          "output_type": "display_data",
          "data": {
            "text/plain": [
              "<Figure size 432x288 with 1 Axes>"
            ],
            "image/png": "[encoded data removed]"
          },
          "metadata": {
            "needs_background": "light"
          }
        }
      ]
    },
    {
      "cell_type": "markdown",
      "source": [
        "Modelo mejorado"
      ],
      "metadata": {
        "id": "jK8Qr6Pg7ATm"
      }
    },
    {
      "cell_type": "markdown",
      "source": [
        "###Modelo Mejorado 1"
      ],
      "metadata": {
        "id": "WT3SQzMOHeAp"
      }
    },
    {
      "cell_type": "code",
      "source": [
        "model91 = tf.keras.Sequential([\n",
        "        tf.keras.Input(shape=(input_shape,)),\n",
        "         Dense(512, activation=\"relu\", name=\"Dense0\"),\n",
        "        Dense(256, activation=\"relu\", name=\"Dense1\"),\n",
        "        Dense(64, activation=\"relu\", name=\"Dense2\"),\n",
        "        Dense(32, activation=\"relu\", name=\"Dense3\"),\n",
        "        Dense(num_classes, activation=\"softmax\", name=\"Softmax\")\n",
        "], name=\"MNIST_1\")\n",
        "\n",
        "\n",
        "model91.compile(loss='categorical_crossentropy', optimizer='adam', metrics=['accuracy'])\n",
        "model91.summary()"
      ],
      "metadata": {
        "id": "P-ZEnUbg6-i5",
        "outputId": "d1a1193b-786b-4adc-db71-787426f6eb03",
        "colab": {
          "base_uri": "https://localhost:8080/"
        }
      },
      "execution_count": null,
      "outputs": [
        {
          "output_type": "stream",
          "name": "stdout",
          "text": [
            "Model: \"MNIST_1\"\n",
            "_________________________________________________________________\n",
            " Layer (type)                Output Shape              Param #   \n",
            "=================================================================\n",
            " Dense0 (Dense)              (None, 512)               401920    \n",
            "                                                                 \n",
            " Dense1 (Dense)              (None, 256)               131328    \n",
            "                                                                 \n",
            " Dense2 (Dense)              (None, 64)                16448     \n",
            "                                                                 \n",
            " Dense3 (Dense)              (None, 32)                2080      \n",
            "                                                                 \n",
            " Softmax (Dense)             (None, 10)                330       \n",
            "                                                                 \n",
            "=================================================================\n",
            "Total params: 552,106\n",
            "Trainable params: 552,106\n",
            "Non-trainable params: 0\n",
            "_________________________________________________________________\n"
          ]
        }
      ]
    },
    {
      "cell_type": "code",
      "source": [
        "history91 = model91.fit(x_train_reshaped, y_train_categorical, \n",
        "          epochs=15, batch_size=25)"
      ],
      "metadata": {
        "id": "R1N38mMR86PH",
        "outputId": "5733bf85-e514-470c-ca34-127c69fa1d8d",
        "colab": {
          "base_uri": "https://localhost:8080/"
        }
      },
      "execution_count": null,
      "outputs": [
        {
          "output_type": "stream",
          "name": "stdout",
          "text": [
            "Epoch 1/15\n",
            "2400/2400 [==============================] - 23s 9ms/step - loss: 0.6491 - accuracy: 0.8750\n",
            "Epoch 2/15\n",
            "2400/2400 [==============================] - 16s 7ms/step - loss: 0.1983 - accuracy: 0.9476\n",
            "Epoch 3/15\n",
            "2400/2400 [==============================] - 15s 6ms/step - loss: 0.1380 - accuracy: 0.9618\n",
            "Epoch 4/15\n",
            "2400/2400 [==============================] - 15s 6ms/step - loss: 0.1161 - accuracy: 0.9682\n",
            "Epoch 5/15\n",
            "2400/2400 [==============================] - 15s 6ms/step - loss: 0.0986 - accuracy: 0.9736\n",
            "Epoch 6/15\n",
            "2400/2400 [==============================] - 16s 6ms/step - loss: 0.0807 - accuracy: 0.9786\n",
            "Epoch 7/15\n",
            "2400/2400 [==============================] - 16s 7ms/step - loss: 0.0738 - accuracy: 0.9803\n",
            "Epoch 8/15\n",
            "2400/2400 [==============================] - 15s 6ms/step - loss: 0.0704 - accuracy: 0.9822\n",
            "Epoch 9/15\n",
            "2400/2400 [==============================] - 16s 7ms/step - loss: 0.0672 - accuracy: 0.9834\n",
            "Epoch 10/15\n",
            "2400/2400 [==============================] - 16s 6ms/step - loss: 0.0613 - accuracy: 0.9860\n",
            "Epoch 11/15\n",
            "2400/2400 [==============================] - 15s 6ms/step - loss: 0.0555 - accuracy: 0.9867\n",
            "Epoch 12/15\n",
            "2400/2400 [==============================] - 16s 7ms/step - loss: 0.0517 - accuracy: 0.9873\n",
            "Epoch 13/15\n",
            "2400/2400 [==============================] - 16s 7ms/step - loss: 0.0452 - accuracy: 0.9892\n",
            "Epoch 14/15\n",
            "2400/2400 [==============================] - 16s 7ms/step - loss: 0.0481 - accuracy: 0.9891\n",
            "Epoch 15/15\n",
            "2400/2400 [==============================] - 15s 6ms/step - loss: 0.0459 - accuracy: 0.9897\n"
          ]
        }
      ]
    },
    {
      "cell_type": "code",
      "source": [
        "performance91 = model91.evaluate(x_test_reshaped, y_test_categorical, verbose=0)\n",
        "print(\"Loss of test partition:\", performance91[0])\n",
        "print(\"Accuracy of test partition:\", performance91[1])"
      ],
      "metadata": {
        "id": "fD1kUXsb-NCk",
        "outputId": "65ed1c76-261a-427a-e276-73fc673c1951",
        "colab": {
          "base_uri": "https://localhost:8080/"
        }
      },
      "execution_count": null,
      "outputs": [
        {
          "output_type": "stream",
          "name": "stdout",
          "text": [
            "Loss of test partition: 0.1492449790239334\n",
            "Accuracy of test partition: 0.974399983882904\n"
          ]
        }
      ]
    },
    {
      "cell_type": "code",
      "source": [
        "# summarize history for accuracy\n",
        "plt.plot(history91.history['accuracy'])\n",
        "plt.title('model accuracy')\n",
        "plt.ylabel('accuracy')\n",
        "plt.xlabel('epoch')\n",
        "plt.legend(['train'], loc='best')\n",
        "plt.show()\n",
        "\n",
        "# summarize history for loss\n",
        "plt.plot(history91.history['loss'])\n",
        "plt.title('model loss')\n",
        "plt.ylabel('loss')\n",
        "plt.xlabel('epoch')\n",
        "plt.legend(['train'], loc='best')\n",
        "plt.show()"
      ],
      "metadata": {
        "id": "VfE6Uay1-PvT",
        "outputId": "dba48d66-edf3-4de8-d146-c0b1c2dc23cf",
        "colab": {
          "base_uri": "https://localhost:8080/",
          "height": 573
        }
      },
      "execution_count": null,
      "outputs": [
        {
          "output_type": "display_data",
          "data": {
            "text/plain": [
              "<Figure size 432x288 with 1 Axes>"
            ],
            "image/png": "[encoded data removed]"
          },
          "metadata": {
            "needs_background": "light"
          }
        },
        {
          "output_type": "display_data",
          "data": {
            "text/plain": [
              "<Figure size 432x288 with 1 Axes>"
            ],
            "image/png": "[encoded data removed]"
          },
          "metadata": {
            "needs_background": "light"
          }
        }
      ]
    },
    {
      "cell_type": "markdown",
      "source": [
        "###Modelo Mejorado 2\n"
      ],
      "metadata": {
        "id": "Ya3sVIcLHkby"
      }
    },
    {
      "cell_type": "code",
      "source": [
        "model92 = tf.keras.Sequential([\n",
        "        tf.keras.Input(shape=(input_shape,)),\n",
        "        Dense(512, activation=\"relu\", name=\"Dense0\"),\n",
        "        Dropout(0.2),\n",
        "        Dense(256, activation=\"relu\", name=\"Dense1\"),\n",
        "        Dropout(0.2),\n",
        "        Dense(64, activation=\"relu\", name=\"Dense2\"),\n",
        "        Dropout(0.2),\n",
        "        Dense(32, activation=\"relu\", name=\"Dense3\"),\n",
        "        Dense(num_classes, activation=\"softmax\", name=\"Softmax\")\n",
        "], name=\"MNIST_2\")\n",
        "\n",
        "\n",
        "model92.compile(loss='categorical_crossentropy', optimizer='adam', metrics=['accuracy'])\n",
        "model92.summary()\n",
        "\n",
        "history92 = model92.fit(x_train_reshaped, y_train_categorical, \n",
        "          epochs=10, batch_size=25)"
      ],
      "metadata": {
        "colab": {
          "base_uri": "https://localhost:8080/"
        },
        "id": "X-N5Lrt8ImG9",
        "outputId": "a31174a0-ded1-4b4c-e734-da96fe5b6b90"
      },
      "execution_count": null,
      "outputs": [
        {
          "output_type": "stream",
          "name": "stdout",
          "text": [
            "Model: \"MNIST_2\"\n",
            "_________________________________________________________________\n",
            " Layer (type)                Output Shape              Param #   \n",
            "=================================================================\n",
            " Dense0 (Dense)              (None, 512)               401920    \n",
            "                                                                 \n",
            " dropout_3 (Dropout)         (None, 512)               0         \n",
            "                                                                 \n",
            " Dense1 (Dense)              (None, 256)               131328    \n",
            "                                                                 \n",
            " dropout_4 (Dropout)         (None, 256)               0         \n",
            "                                                                 \n",
            " Dense2 (Dense)              (None, 64)                16448     \n",
            "                                                                 \n",
            " dropout_5 (Dropout)         (None, 64)                0         \n",
            "                                                                 \n",
            " Dense3 (Dense)              (None, 32)                2080      \n",
            "                                                                 \n",
            " Softmax (Dense)             (None, 10)                330       \n",
            "                                                                 \n",
            "=================================================================\n",
            "Total params: 552,106\n",
            "Trainable params: 552,106\n",
            "Non-trainable params: 0\n",
            "_________________________________________________________________\n",
            "Epoch 1/10\n",
            "2400/2400 [==============================] - 16s 7ms/step - loss: 1.4998 - accuracy: 0.6480\n",
            "Epoch 2/10\n",
            "2400/2400 [==============================] - 16s 7ms/step - loss: 0.5332 - accuracy: 0.8457\n",
            "Epoch 3/10\n",
            "2400/2400 [==============================] - 16s 7ms/step - loss: 0.3848 - accuracy: 0.9015\n",
            "Epoch 4/10\n",
            "2400/2400 [==============================] - 16s 7ms/step - loss: 0.3160 - accuracy: 0.9197\n",
            "Epoch 5/10\n",
            "2400/2400 [==============================] - 16s 6ms/step - loss: 0.2684 - accuracy: 0.9329\n",
            "Epoch 6/10\n",
            "2400/2400 [==============================] - 16s 7ms/step - loss: 0.2368 - accuracy: 0.9416\n",
            "Epoch 7/10\n",
            "2400/2400 [==============================] - 16s 7ms/step - loss: 0.2151 - accuracy: 0.9486\n",
            "Epoch 8/10\n",
            "2400/2400 [==============================] - 16s 6ms/step - loss: 0.1801 - accuracy: 0.9578\n",
            "Epoch 9/10\n",
            "2400/2400 [==============================] - 15s 6ms/step - loss: 0.1724 - accuracy: 0.9596\n",
            "Epoch 10/10\n",
            "2400/2400 [==============================] - 15s 6ms/step - loss: 0.1527 - accuracy: 0.9633\n"
          ]
        }
      ]
    },
    {
      "cell_type": "code",
      "source": [
        "performance92 = model92.evaluate(x_test_reshaped, y_test_categorical, verbose=0)\n",
        "print(\"Loss of test partition:\", performance92[0])\n",
        "print(\"Accuracy of test partition:\", performance92[1])\n",
        "\n",
        "# summarize history for accuracy\n",
        "plt.plot(history92.history['accuracy'])\n",
        "plt.title('model accuracy')\n",
        "plt.ylabel('accuracy')\n",
        "plt.xlabel('epoch')\n",
        "plt.legend(['train'], loc='best')\n",
        "plt.show()\n",
        "\n",
        "# summarize history for loss\n",
        "plt.plot(history92.history['loss'])\n",
        "plt.title('model loss')\n",
        "plt.ylabel('loss')\n",
        "plt.xlabel('epoch')\n",
        "plt.legend(['train'], loc='best')\n",
        "plt.show()"
      ],
      "metadata": {
        "id": "1AshNKWZIs9l",
        "colab": {
          "base_uri": "https://localhost:8080/",
          "height": 608
        },
        "outputId": "160229bd-cc65-4443-c0b7-2dfb80376f06"
      },
      "execution_count": null,
      "outputs": [
        {
          "output_type": "stream",
          "name": "stdout",
          "text": [
            "Loss of test partition: 0.11791037768125534\n",
            "Accuracy of test partition: 0.970300018787384\n"
          ]
        },
        {
          "output_type": "display_data",
          "data": {
            "text/plain": [
              "<Figure size 432x288 with 1 Axes>"
            ],
            "image/png": "[encoded data removed]"
          },
          "metadata": {
            "needs_background": "light"
          }
        },
        {
          "output_type": "display_data",
          "data": {
            "text/plain": [
              "<Figure size 432x288 with 1 Axes>"
            ],
            "image/png": "[encoded data removed]"
          },
          "metadata": {
            "needs_background": "light"
          }
        }
      ]
    },
    {
      "cell_type": "markdown",
      "source": [
        "###Modelo Mejorado 3"
      ],
      "metadata": {
        "id": "gO2PGIE-Hm5m"
      }
    },
    {
      "cell_type": "code",
      "source": [
        "model93 = tf.keras.Sequential([\n",
        "        tf.keras.Input(shape=(input_shape,)),\n",
        "        Dense(25, activation=\"relu\", name=\"Dense0\"),\n",
        "        Dropout(0.3),\n",
        "        Dense(20, activation=\"relu\", name=\"Dense1\"),\n",
        "        Dropout(0.1),\n",
        "        Dense(15, activation=\"relu\", name=\"Dense2\"),\n",
        "        Dense(12, activation=\"relu\", name=\"Dense3\"),\n",
        "        Dropout(0.2),\n",
        "        Dense(num_classes, activation=\"softmax\", name=\"Softmax\")\n",
        "], name=\"MNIST_3\")\n",
        "\n",
        "\n",
        "model93.compile(loss='categorical_crossentropy', optimizer='adam', metrics=['accuracy'])\n",
        "model93.summary()\n",
        "\n",
        "history93 = model93.fit(x_train_reshaped, y_train_categorical, \n",
        "          epochs=10, batch_size=25)"
      ],
      "metadata": {
        "id": "xZCOLxfLI7x8",
        "colab": {
          "base_uri": "https://localhost:8080/"
        },
        "outputId": "38345fd1-4ab5-4046-a7eb-313c29f75c2b"
      },
      "execution_count": null,
      "outputs": [
        {
          "output_type": "stream",
          "name": "stdout",
          "text": [
            "Model: \"MNIST_3\"\n",
            "_________________________________________________________________\n",
            " Layer (type)                Output Shape              Param #   \n",
            "=================================================================\n",
            " Dense0 (Dense)              (None, 25)                19625     \n",
            "                                                                 \n",
            " dropout_6 (Dropout)         (None, 25)                0         \n",
            "                                                                 \n",
            " Dense1 (Dense)              (None, 20)                520       \n",
            "                                                                 \n",
            " dropout_7 (Dropout)         (None, 20)                0         \n",
            "                                                                 \n",
            " Dense2 (Dense)              (None, 15)                315       \n",
            "                                                                 \n",
            " Dense3 (Dense)              (None, 12)                192       \n",
            "                                                                 \n",
            " dropout_8 (Dropout)         (None, 12)                0         \n",
            "                                                                 \n",
            " Softmax (Dense)             (None, 10)                130       \n",
            "                                                                 \n",
            "=================================================================\n",
            "Total params: 20,782\n",
            "Trainable params: 20,782\n",
            "Non-trainable params: 0\n",
            "_________________________________________________________________\n",
            "Epoch 1/10\n",
            "2400/2400 [==============================] - 6s 2ms/step - loss: 2.0617 - accuracy: 0.3028\n",
            "Epoch 2/10\n",
            "2400/2400 [==============================] - 5s 2ms/step - loss: 1.4375 - accuracy: 0.4543\n",
            "Epoch 3/10\n",
            "2400/2400 [==============================] - 5s 2ms/step - loss: 1.2592 - accuracy: 0.5334\n",
            "Epoch 4/10\n",
            "2400/2400 [==============================] - 5s 2ms/step - loss: 1.1056 - accuracy: 0.6081\n",
            "Epoch 5/10\n",
            "2400/2400 [==============================] - 5s 2ms/step - loss: 1.0437 - accuracy: 0.6320\n",
            "Epoch 6/10\n",
            "2400/2400 [==============================] - 5s 2ms/step - loss: 0.9996 - accuracy: 0.6507\n",
            "Epoch 7/10\n",
            "2400/2400 [==============================] - 5s 2ms/step - loss: 0.9813 - accuracy: 0.6597\n",
            "Epoch 8/10\n",
            "2400/2400 [==============================] - 5s 2ms/step - loss: 0.9576 - accuracy: 0.6695\n",
            "Epoch 9/10\n",
            "2400/2400 [==============================] - 5s 2ms/step - loss: 0.9306 - accuracy: 0.6775\n",
            "Epoch 10/10\n",
            "2400/2400 [==============================] - 5s 2ms/step - loss: 0.9017 - accuracy: 0.6902\n"
          ]
        }
      ]
    },
    {
      "cell_type": "code",
      "source": [
        "performance93 = model93.evaluate(x_test_reshaped, y_test_categorical, verbose=0)\n",
        "print(\"Loss of test partition:\", performance93[0])\n",
        "print(\"Accuracy of test partition:\", performance93[1])\n",
        "\n",
        "# summarize history for accuracy\n",
        "plt.plot(history93.history['accuracy'])\n",
        "plt.title('model accuracy')\n",
        "plt.ylabel('accuracy')\n",
        "plt.xlabel('epoch')\n",
        "plt.legend(['train'], loc='best')\n",
        "plt.show()\n",
        "\n",
        "# summarize history for loss\n",
        "plt.plot(history93.history['loss'])\n",
        "plt.title('model loss')\n",
        "plt.ylabel('loss')\n",
        "plt.xlabel('epoch')\n",
        "plt.legend(['train'], loc='best')\n",
        "plt.show()"
      ],
      "metadata": {
        "id": "A6igRN_XI8BB",
        "colab": {
          "base_uri": "https://localhost:8080/",
          "height": 608
        },
        "outputId": "85c6d622-d8b1-4b0d-9137-16172ed3d773"
      },
      "execution_count": null,
      "outputs": [
        {
          "output_type": "stream",
          "name": "stdout",
          "text": [
            "Loss of test partition: 0.5053853988647461\n",
            "Accuracy of test partition: 0.8701000213623047\n"
          ]
        },
        {
          "output_type": "display_data",
          "data": {
            "text/plain": [
              "<Figure size 432x288 with 1 Axes>"
            ],
            "image/png": "[encoded data removed]"
          },
          "metadata": {
            "needs_background": "light"
          }
        },
        {
          "output_type": "display_data",
          "data": {
            "text/plain": [
              "<Figure size 432x288 with 1 Axes>"
            ],
            "image/png": "[encoded data removed]"
          },
          "metadata": {
            "needs_background": "light"
          }
        }
      ]
    },
    {
      "cell_type": "markdown",
      "source": [
        "###Resultados"
      ],
      "metadata": {
        "id": "3YYFZKEEHpTP"
      }
    },
    {
      "cell_type": "markdown",
      "source": [
        "Vamos a comprobar la perdida y la exactitud de cada uno de los modelos, para comprobar cual de todos es el mejor obtenido."
      ],
      "metadata": {
        "id": "c2uml0lDLRAO"
      }
    },
    {
      "cell_type": "code",
      "source": [
        "print(\"-------------------------------\")\n",
        "print(\"Modelo Inicial\")\n",
        "\n",
        "print(\"Loss of test partition:\", performance[0])\n",
        "print(\"Accuracy of test partition:\", performance[1])\n",
        "print(\"-------------------------------\")\n",
        "\n",
        "print(\"Modelo 1\")\n",
        "print(\"Loss of test partition:\", performance91[0])\n",
        "print(\"Accuracy of test partition:\", performance91[1])\n",
        "print(\"-------------------------------\")\n",
        "\n",
        "print(\"Modelo 2\")\n",
        "print(\"Loss of test partition:\", performance92[0])\n",
        "print(\"Accuracy of test partition:\", performance92[1])\n",
        "print(\"-------------------------------\")\n",
        "\n",
        "print(\"Modelo 3\")\n",
        "print(\"Loss of test partition:\", performance93[0])\n",
        "print(\"Accuracy of test partition:\", performance93[1])\n",
        "print(\"-------------------------------\")"
      ],
      "metadata": {
        "id": "vNkF9ptGLt5z",
        "colab": {
          "base_uri": "https://localhost:8080/"
        },
        "outputId": "f03435b6-984b-48c2-e931-dff3e8960917"
      },
      "execution_count": null,
      "outputs": [
        {
          "output_type": "stream",
          "name": "stdout",
          "text": [
            "-------------------------------\n",
            "Modelo Inicial\n",
            "Loss of test partition: 0.20875732600688934\n",
            "Accuracy of test partition: 0.9552000164985657\n",
            "-------------------------------\n",
            "Modelo 1\n",
            "Loss of test partition: 0.1492449790239334\n",
            "Accuracy of test partition: 0.974399983882904\n",
            "-------------------------------\n",
            "Modelo 2\n",
            "Loss of test partition: 0.11791037768125534\n",
            "Accuracy of test partition: 0.970300018787384\n",
            "-------------------------------\n",
            "Modelo 3\n",
            "Loss of test partition: 0.5053853988647461\n",
            "Accuracy of test partition: 0.8701000213623047\n",
            "-------------------------------\n"
          ]
        }
      ]
    },
    {
      "cell_type": "markdown",
      "source": [
        "Los resultados pueden variar con la ejecución, en este caso, la mayor exactitud nos la da el modelo 1 con un 0.9743, mientras que la menor perdida es dada por el modelo 2, con un 0.1179.\n",
        "Por tanto, el modelo 2 es el mejor obtenido ya que la exactitud apenas varía con respecto al modelo 1, pero hay una menor perdida."
      ],
      "metadata": {
        "id": "R4MH4TnBPCn9"
      }
    },
    {
      "cell_type": "markdown",
      "source": [
        "#Ejercicio 10\n"
      ],
      "metadata": {
        "id": "B19SQcZF1iy2"
      }
    },
    {
      "cell_type": "markdown",
      "source": [
        "Cargar datos"
      ],
      "metadata": {
        "id": "LSoDGLuC3f3W"
      }
    },
    {
      "cell_type": "code",
      "source": [
        "#path_file = '/content/gdrive/MyDrive/Colab Notebooks/IAA/Hyderabad.csv'\n",
        "path_file = '/content/gdrive/MyDrive/Uni/IAA/Hyderabad.csv'\n",
        "data = pd.read_csv(path_file,header=0)\n",
        "x= data.drop(['Price','Location'],axis=1)\n",
        "y = data['Price']\n",
        "x_numpy = np.asarray(x).astype(np.float32)\n",
        "y_numpy = np.asarray(y).astype(np.float32)\n",
        "\n",
        "x_train_10, x_test_10, y_train_10, y_test_10 = train_test_split(x_numpy, y_numpy, test_size=0.25, random_state=42)\n"
      ],
      "metadata": {
        "id": "pAyyIovv3f_V"
      },
      "execution_count": null,
      "outputs": []
    },
    {
      "cell_type": "markdown",
      "source": [
        "##Modelo Inicial\n"
      ],
      "metadata": {
        "id": "D8ePoFGk2dS3"
      }
    },
    {
      "cell_type": "code",
      "source": [
        "modelP2 = tf.keras.Sequential([\n",
        "        tf.keras.Input(shape=(38,)),\n",
        "        Dense(128, activation=\"relu\", name=\"Dense0\"),\n",
        "        Dropout(0.2),\n",
        "        Dense(64, activation=\"relu\", name=\"Dense2\"),\n",
        "        Dropout(0.2),\n",
        "        Dense(1, name=\"Salida\")\n",
        "], name=\"ModeloP2\")\n",
        "\n",
        "\n",
        "modelP2.compile(loss='mse', optimizer='adam', metrics=[tf.keras.metrics.MeanSquaredError()])\n",
        "modelP2.summary()"
      ],
      "metadata": {
        "colab": {
          "base_uri": "https://localhost:8080/"
        },
        "id": "bzjE3QcM1leW",
        "outputId": "066ac213-db91-4da2-e5c2-27dd79401618"
      },
      "execution_count": null,
      "outputs": [
        {
          "output_type": "stream",
          "name": "stdout",
          "text": [
            "Model: \"ModeloP2\"\n",
            "_________________________________________________________________\n",
            "Layer (type)                 Output Shape              Param #   \n",
            "=================================================================\n",
            "Dense0 (Dense)               (None, 128)               4992      \n",
            "_________________________________________________________________\n",
            "dropout_2 (Dropout)          (None, 128)               0         \n",
            "_________________________________________________________________\n",
            "Dense2 (Dense)               (None, 64)                8256      \n",
            "_________________________________________________________________\n",
            "dropout_3 (Dropout)          (None, 64)                0         \n",
            "_________________________________________________________________\n",
            "Salida (Dense)               (None, 1)                 65        \n",
            "=================================================================\n",
            "Total params: 13,313\n",
            "Trainable params: 13,313\n",
            "Non-trainable params: 0\n",
            "_________________________________________________________________\n"
          ]
        }
      ]
    },
    {
      "cell_type": "code",
      "source": [
        "historyP2 = modelP2.fit(x_train_10, y_train_10, \n",
        "          epochs=15, batch_size=1)"
      ],
      "metadata": {
        "colab": {
          "base_uri": "https://localhost:8080/"
        },
        "id": "mULKsciN5C65",
        "outputId": "0a6bef22-30a8-49f8-c9e8-e835e03fb5bc"
      },
      "execution_count": null,
      "outputs": [
        {
          "output_type": "stream",
          "name": "stdout",
          "text": [
            "Train on 1888 samples\n",
            "Epoch 1/15\n",
            "1888/1888 [==============================] - 4s 2ms/sample - loss: 138163930943596.3906 - mean_squared_error: 138163846643712.0000\n",
            "Epoch 2/15\n",
            "1888/1888 [==============================] - 3s 2ms/sample - loss: 40105251889566.5547 - mean_squared_error: 40105255370752.0000\n",
            "Epoch 3/15\n",
            "1888/1888 [==============================] - 3s 2ms/sample - loss: 34557986150873.1797 - mean_squared_error: 34557982146560.0000\n",
            "Epoch 4/15\n",
            "1888/1888 [==============================] - 3s 2ms/sample - loss: 35736760044293.8047 - mean_squared_error: 35736753537024.0000\n",
            "Epoch 5/15\n",
            "1888/1888 [==============================] - 3s 2ms/sample - loss: 35554090630251.0391 - mean_squared_error: 35554120957952.0000\n",
            "Epoch 6/15\n",
            "1888/1888 [==============================] - 3s 2ms/sample - loss: 35895491043707.9531 - mean_squared_error: 35895507943424.0000\n",
            "Epoch 7/15\n",
            "1888/1888 [==============================] - 3s 2ms/sample - loss: 34296616452667.0312 - mean_squared_error: 34296584732672.0000\n",
            "Epoch 8/15\n",
            "1888/1888 [==============================] - 3s 2ms/sample - loss: 34741002285496.3398 - mean_squared_error: 34740985921536.0000\n",
            "Epoch 9/15\n",
            "1888/1888 [==============================] - 3s 2ms/sample - loss: 34977600374798.7695 - mean_squared_error: 34977586610176.0000\n",
            "Epoch 10/15\n",
            "1888/1888 [==============================] - 3s 2ms/sample - loss: 34714050303284.3242 - mean_squared_error: 34714064781312.0000\n",
            "Epoch 11/15\n",
            "1888/1888 [==============================] - 3s 2ms/sample - loss: 34974398191435.6406 - mean_squared_error: 34974409424896.0000\n",
            "Epoch 12/15\n",
            "1888/1888 [==============================] - 3s 2ms/sample - loss: 34955262466009.9414 - mean_squared_error: 34955254038528.0000\n",
            "Epoch 13/15\n",
            "1888/1888 [==============================] - 3s 2ms/sample - loss: 34980956757650.0078 - mean_squared_error: 34980967219200.0000\n",
            "Epoch 14/15\n",
            "1888/1888 [==============================] - 3s 2ms/sample - loss: 34856518910108.5195 - mean_squared_error: 34856530608128.0000\n",
            "Epoch 15/15\n",
            "1888/1888 [==============================] - 3s 2ms/sample - loss: 35537844181090.5781 - mean_squared_error: 35537830281216.0000\n"
          ]
        }
      ]
    },
    {
      "cell_type": "code",
      "source": [
        "performanceP2 = modelP2.evaluate(x_test_10, y_test_10)\n",
        "\n",
        "print(\"\\nLoss of test partition:\", performanceP2[0])\n",
        "print(\"MSE:\", performanceP2[1])"
      ],
      "metadata": {
        "colab": {
          "base_uri": "https://localhost:8080/"
        },
        "id": "tFTBRkSa9TVq",
        "outputId": "5a81b41a-eda9-4edf-845f-a6f910ec0c64"
      },
      "execution_count": null,
      "outputs": [
        {
          "output_type": "stream",
          "name": "stdout",
          "text": [
            "\r630/1 [====================================================================================================================================================================================================================================================================================================================================================================================================================================================================================================================================================================================================================================================================================================================================================================================================================================================================================================================================================================================================================================================================================================================================================================================================================================================================================================================================================================================================================================================================================================================================================================================================================================================================================================================================================================================================================================================================================================================================================================================================================================================================================================================================================================================================================================================================================================================================================================================================================================================================================================================================================================================================================================================================================================================================================================================================================================================================================================================================================================================================================================================================================================================================================================================================================================================================================================================================================================================================================================================================================================================================================================================================================================================================================================================================================================================================================================================================================================================================================================================================================================================================================================================================================================================================================================================================================================================================================================================================================================================================================================================================================================================================================================================================================================================================================================================================================================================================================================================================================================================================================================================================================================================================================================================================================================================================================================================================================================================================================================================================================================================================================================================================================================================================================================================================================================================================================================================================================================================================================================================================================================================================================================================================================================================================================================================================================================================================================================================================================================================================================================================================================================================================================================================================================================================================================================================================================================================================================================================================================================================================================================================================================================================================================================================================================================================================================================================================================================================================================================================================================================================================================================================================================================================================================================================================================================================================================================================================================================================================================================================================================================================================================================================================================================================================================================================================================================================================================================================================================================================================================================================================================================================================================================================================================================================================================================================================================================================================================================================================================================================================================================================================================================================================================================================================================================================================================================================================================================================================================================================================================================================================================================================================================================================================================================================================================================================================================================================================================================================================================================================================================================================================================================================================================================================================================================================================================================================================================================================================================================================================================================================================================================================================================================================================================================================================================================================================================================================================================================================================================================================================================================================================================================================================================================================================================================================================================================================================================================================================================================================================================================================================================================================================================================================================================================================================================================================================================================================================================================================================================================================================================================================================================================================================================================================================================================================================================================================================================================================================================================================================================================================================================================================================================================================================================================================================================================================================================================================================================================================================================================================================================================================================================================================================================================================================================================================================================================================================================================================================================================================================================================================================================================================================================================================================================================================================================================================================================================================================================================================================================================================================================================================================================================================================================================================================================================================================================================================================================================================================================================================================================================================================================================================================================================================================================================================================================================================================================================================================================================================================================================================================================================================================================================================================================================================================================================================================================================================================================================================================================================================================================================================================================================================================================================================================================================================================================================================================================================================================================================================================================================================================================================================================================================================================================================================================================================================================================================================================================================================================================================================================================================================================================================================================================================================================================================================================================================================================================================================================================================================================================================================================================================================================================================================================================================================================================================================================================================================================================================================================================================================================================================================================================================================================================================================================================================================================================================================================================================================================================================================================================================================================================================================================================================================================================================================================================================================================================================================================================================================================================================================================================================================================================================================================================================================================================================================================================================================================================================================================================================================================================================================================================================================================================================================================================================================================================================================================================================================================================================================================================================================================================================================================================================================================================================================================================] - 0s 149us/sample - loss: 19608254828036.8750 - mean_squared_error: 22961425743872.0000\n",
            "\n",
            "Loss of test partition: 22961426832393.754\n",
            "MSE: 22961426000000.0\n"
          ]
        }
      ]
    },
    {
      "cell_type": "code",
      "source": [
        "# summarize history for accuracy\n",
        "print(historyP2)\n",
        "plt.plot(historyP2.history['mean_squared_error'])\n",
        "plt.title('model loss')\n",
        "plt.ylabel('loss')\n",
        "plt.xlabel('epoch')\n",
        "plt.legend(['train'], loc='best')\n",
        "plt.show()\n",
        "\n",
        "\n",
        "# summarize history for loss\n",
        "plt.plot(historyP2.history['loss'])\n",
        "plt.title('model loss')\n",
        "plt.ylabel('loss')\n",
        "plt.xlabel('epoch')\n",
        "plt.legend(['train'], loc='best')\n",
        "plt.show()"
      ],
      "metadata": {
        "colab": {
          "base_uri": "https://localhost:8080/",
          "height": 590
        },
        "id": "IbYVrE3D8gwi",
        "outputId": "eccaf8f9-7369-44d4-a591-f3faf79b20a9"
      },
      "execution_count": null,
      "outputs": [
        {
          "output_type": "stream",
          "name": "stdout",
          "text": [
            "<tensorflow.python.keras.callbacks.History object at 0x7f7353af5c10>\n"
          ]
        },
        {
          "output_type": "display_data",
          "data": {
            "text/plain": [
              "<Figure size 432x288 with 1 Axes>"
            ],
            "image/png": "[encoded data removed]"
          },
          "metadata": {
            "needs_background": "light"
          }
        },
        {
          "output_type": "display_data",
          "data": {
            "text/plain": [
              "<Figure size 432x288 with 1 Axes>"
            ],
            "image/png": "[encoded data removed]"
          },
          "metadata": {
            "needs_background": "light"
          }
        }
      ]
    },
    {
      "cell_type": "markdown",
      "source": [
        "##Modelo Mejorado 1\n"
      ],
      "metadata": {
        "id": "PvZHU77gVFvH"
      }
    },
    {
      "cell_type": "code",
      "source": [
        "model101 = tf.keras.Sequential([\n",
        "        tf.keras.Input(shape=(38,)),\n",
        "        Dense(128, activation=\"relu\", name=\"Dense0\"),\n",
        "        Dropout(0.2),\n",
        "        Dense(64, activation=\"relu\", name=\"Dense1\"),\n",
        "        Dropout(0.2),\n",
        "        Dense(32, activation=\"relu\", name=\"Dense2\"),\n",
        "        Dropout(0.2),\n",
        "        Dense(1, name=\"Salida\")\n",
        "], name=\"Modelo101\")\n",
        "\n",
        "\n",
        "model101.compile(loss='mse', optimizer='adam', metrics=[tf.keras.metrics.MeanSquaredError()])\n",
        "model101.summary()"
      ],
      "metadata": {
        "colab": {
          "base_uri": "https://localhost:8080/"
        },
        "outputId": "dbad2c34-03e1-4fd4-b202-0306f3553ae7",
        "id": "CzyJ_vhuVFvH"
      },
      "execution_count": null,
      "outputs": [
        {
          "output_type": "stream",
          "name": "stdout",
          "text": [
            "Model: \"Modelo101\"\n",
            "_________________________________________________________________\n",
            "Layer (type)                 Output Shape              Param #   \n",
            "=================================================================\n",
            "Dense0 (Dense)               (None, 128)               4992      \n",
            "_________________________________________________________________\n",
            "dropout_4 (Dropout)          (None, 128)               0         \n",
            "_________________________________________________________________\n",
            "Dense1 (Dense)               (None, 64)                8256      \n",
            "_________________________________________________________________\n",
            "dropout_5 (Dropout)          (None, 64)                0         \n",
            "_________________________________________________________________\n",
            "Dense2 (Dense)               (None, 32)                2080      \n",
            "_________________________________________________________________\n",
            "dropout_6 (Dropout)          (None, 32)                0         \n",
            "_________________________________________________________________\n",
            "Salida (Dense)               (None, 1)                 33        \n",
            "=================================================================\n",
            "Total params: 15,361\n",
            "Trainable params: 15,361\n",
            "Non-trainable params: 0\n",
            "_________________________________________________________________\n"
          ]
        }
      ]
    },
    {
      "cell_type": "code",
      "source": [
        "history101 = model101.fit(x_train_10, y_train_10, \n",
        "          epochs=15, batch_size=1)"
      ],
      "metadata": {
        "colab": {
          "base_uri": "https://localhost:8080/"
        },
        "outputId": "e07a7f98-c707-4c44-c717-b45656823b8f",
        "id": "xyARPQqpVFvH"
      },
      "execution_count": null,
      "outputs": [
        {
          "output_type": "stream",
          "name": "stdout",
          "text": [
            "Train on 1888 samples\n",
            "Epoch 1/15\n",
            "1888/1888 [==============================] - 4s 2ms/sample - loss: 77770557643810.4219 - mean_squared_error: 77770516332544.0000\n",
            "Epoch 2/15\n",
            "1888/1888 [==============================] - 4s 2ms/sample - loss: 38547788818045.3906 - mean_squared_error: 38547767689216.0000\n",
            "Epoch 3/15\n",
            "1888/1888 [==============================] - 4s 2ms/sample - loss: 37505354075415.7188 - mean_squared_error: 37505369899008.0000\n",
            "Epoch 4/15\n",
            "1888/1888 [==============================] - 4s 2ms/sample - loss: 36816743738640.6875 - mean_squared_error: 36816686153728.0000\n",
            "Epoch 5/15\n",
            "1888/1888 [==============================] - 4s 2ms/sample - loss: 38478007216246.0469 - mean_squared_error: 38478008025088.0000\n",
            "Epoch 6/15\n",
            "1888/1888 [==============================] - 4s 2ms/sample - loss: 36007471917560.6250 - mean_squared_error: 36007487471616.0000\n",
            "Epoch 7/15\n",
            "1888/1888 [==============================] - 4s 2ms/sample - loss: 38115406516539.3203 - mean_squared_error: 38115410444288.0000\n",
            "Epoch 8/15\n",
            "1888/1888 [==============================] - 4s 2ms/sample - loss: 37018679546625.1719 - mean_squared_error: 37018704805888.0000\n",
            "Epoch 9/15\n",
            "1888/1888 [==============================] - 4s 2ms/sample - loss: 37334989363558.8906 - mean_squared_error: 37335009853440.0000\n",
            "Epoch 10/15\n",
            "1888/1888 [==============================] - 4s 2ms/sample - loss: 37422679833478.0156 - mean_squared_error: 37422687584256.0000\n",
            "Epoch 11/15\n",
            "1888/1888 [==============================] - 6s 3ms/sample - loss: 39634245758920.0469 - mean_squared_error: 39634302140416.0000\n",
            "Epoch 12/15\n",
            "1888/1888 [==============================] - 4s 2ms/sample - loss: 37426185614457.4844 - mean_squared_error: 37426194022400.0000\n",
            "Epoch 13/15\n",
            "1888/1888 [==============================] - 4s 2ms/sample - loss: 37076854376831.9922 - mean_squared_error: 37076837859328.0000\n",
            "Epoch 14/15\n",
            "1888/1888 [==============================] - 4s 2ms/sample - loss: 36482617256325.9922 - mean_squared_error: 36482639200256.0000\n",
            "Epoch 15/15\n",
            "1888/1888 [==============================] - 4s 2ms/sample - loss: 37969622945363.4688 - mean_squared_error: 37969624825856.0000\n"
          ]
        }
      ]
    },
    {
      "cell_type": "code",
      "source": [
        "performance101 = model101.evaluate(x_test_10, y_test_10)\n",
        "\n",
        "print(\"\\nLoss of test partition:\", performance101[0])\n",
        "print(\"MSE:\", performance101[1])"
      ],
      "metadata": {
        "colab": {
          "base_uri": "https://localhost:8080/"
        },
        "outputId": "202fe6e7-d7a3-444a-8f26-4cb48d7f2aea",
        "id": "QMkrongkVFvI"
      },
      "execution_count": null,
      "outputs": [
        {
          "output_type": "stream",
          "name": "stdout",
          "text": [
            "\r630/1 [====================================================================================================================================================================================================================================================================================================================================================================================================================================================================================================================================================================================================================================================================================================================================================================================================================================================================================================================================================================================================================================================================================================================================================================================================================================================================================================================================================================================================================================================================================================================================================================================================================================================================================================================================================================================================================================================================================================================================================================================================================================================================================================================================================================================================================================================================================================================================================================================================================================================================================================================================================================================================================================================================================================================================================================================================================================================================================================================================================================================================================================================================================================================================================================================================================================================================================================================================================================================================================================================================================================================================================================================================================================================================================================================================================================================================================================================================================================================================================================================================================================================================================================================================================================================================================================================================================================================================================================================================================================================================================================================================================================================================================================================================================================================================================================================================================================================================================================================================================================================================================================================================================================================================================================================================================================================================================================================================================================================================================================================================================================================================================================================================================================================================================================================================================================================================================================================================================================================================================================================================================================================================================================================================================================================================================================================================================================================================================================================================================================================================================================================================================================================================================================================================================================================================================================================================================================================================================================================================================================================================================================================================================================================================================================================================================================================================================================================================================================================================================================================================================================================================================================================================================================================================================================================================================================================================================================================================================================================================================================================================================================================================================================================================================================================================================================================================================================================================================================================================================================================================================================================================================================================================================================================================================================================================================================================================================================================================================================================================================================================================================================================================================================================================================================================================================================================================================================================================================================================================================================================================================================================================================================================================================================================================================================================================================================================================================================================================================================================================================================================================================================================================================================================================================================================================================================================================================================================================================================================================================================================================================================================================================================================================================================================================================================================================================================================================================================================================================================================================================================================================================================================================================================================================================================================================================================================================================================================================================================================================================================================================================================================================================================================================================================================================================================================================================================================================================================================================================================================================================================================================================================================================================================================================================================================================================================================================================================================================================================================================================================================================================================================================================================================================================================================================================================================================================================================================================================================================================================================================================================================================================================================================================================================================================================================================================================================================================================================================================================================================================================================================================================================================================================================================================================================================================================================================================================================================================================================================================================================================================================================================================================================================================================================================================================================================================================================================================================================================================================================================================================================================================================================================================================================================================================================================================================================================================================================================================================================================================================================================================================================================================================================================================================================================================================================================================================================================================================================================================================================================================================================================================================================================================================================================================================================================================================================================================================================================================================================================================================================================================================================================================================================================================================================================================================================================================================================================================================================================================================================================================================================================================================================================================================================================================================================================================================================================================================================================================================================================================================================================================================================================================================================================================================================================================================================================================================================================================================================================================================================================================================================================================================================================================================================================================================================================================================================================================================================================================================================================================================================================================================================================================================================================================================================================================================================================================================================================================================================================================================================================================================================================================================================================================================================================================================================================================================================================================================================================================================================================================================================================================================================================================================================================================================================================================================================================================================================================================================================================================================================================================================================================================================================================================================================================================================================================================] - 0s 686us/sample - loss: 20212195899931.6328 - mean_squared_error: 23479862689792.0000\n",
            "\n",
            "Loss of test partition: 23479862916151.26\n",
            "MSE: 23479863000000.0\n"
          ]
        }
      ]
    },
    {
      "cell_type": "code",
      "source": [
        "# summarize history for accuracy\n",
        "print(history101)\n",
        "plt.plot(history101.history['mean_squared_error'])\n",
        "plt.title('model loss')\n",
        "plt.ylabel('loss')\n",
        "plt.xlabel('epoch')\n",
        "plt.legend(['train'], loc='best')\n",
        "plt.show()\n",
        "\n",
        "\n",
        "# summarize history for loss\n",
        "plt.plot(history101.history['loss'])\n",
        "plt.title('model loss')\n",
        "plt.ylabel('loss')\n",
        "plt.xlabel('epoch')\n",
        "plt.legend(['train'], loc='best')\n",
        "plt.show()"
      ],
      "metadata": {
        "colab": {
          "base_uri": "https://localhost:8080/",
          "height": 590
        },
        "outputId": "ff7f1162-dadd-4997-be81-cc3b064cf479",
        "id": "Ouf6Bwe9VFvI"
      },
      "execution_count": null,
      "outputs": [
        {
          "output_type": "stream",
          "name": "stdout",
          "text": [
            "<tensorflow.python.keras.callbacks.History object at 0x7f7353101cd0>\n"
          ]
        },
        {
          "output_type": "display_data",
          "data": {
            "text/plain": [
              "<Figure size 432x288 with 1 Axes>"
            ],
            "image/png": "[encoded data removed]"
          },
          "metadata": {
            "needs_background": "light"
          }
        },
        {
          "output_type": "display_data",
          "data": {
            "text/plain": [
              "<Figure size 432x288 with 1 Axes>"
            ],
            "image/png": "[encoded data removed]"
          },
          "metadata": {
            "needs_background": "light"
          }
        }
      ]
    },
    {
      "cell_type": "markdown",
      "source": [
        "##Modelo Mejorado 2\n"
      ],
      "metadata": {
        "id": "jLsZDYAXVMLP"
      }
    },
    {
      "cell_type": "code",
      "source": [
        "model102 = tf.keras.Sequential([\n",
        "        tf.keras.Input(shape=(38,)),\n",
        "        Dense(128, activation=\"sigmoid\", name=\"Dense0\"),\n",
        "        Dropout(0.2),\n",
        "        Dense(64, activation=\"relu\", name=\"Dense2\"),\n",
        "        Dropout(0.2),\n",
        "        Dense(1, name=\"Salida\")\n",
        "], name=\"Modelo102\")\n",
        "\n",
        "\n",
        "model102.compile(loss='mse', optimizer='adam', metrics=[tf.keras.metrics.MeanSquaredError()])\n",
        "model102.summary()"
      ],
      "metadata": {
        "colab": {
          "base_uri": "https://localhost:8080/"
        },
        "outputId": "ff11e4b6-9ee9-4fbc-a62b-bc2c45a32e66",
        "id": "mubwRf-LVMLP"
      },
      "execution_count": null,
      "outputs": [
        {
          "output_type": "stream",
          "name": "stdout",
          "text": [
            "Model: \"Modelo102\"\n",
            "_________________________________________________________________\n",
            "Layer (type)                 Output Shape              Param #   \n",
            "=================================================================\n",
            "Dense0 (Dense)               (None, 128)               4992      \n",
            "_________________________________________________________________\n",
            "dropout_7 (Dropout)          (None, 128)               0         \n",
            "_________________________________________________________________\n",
            "Dense2 (Dense)               (None, 64)                8256      \n",
            "_________________________________________________________________\n",
            "dropout_8 (Dropout)          (None, 64)                0         \n",
            "_________________________________________________________________\n",
            "Salida (Dense)               (None, 1)                 65        \n",
            "=================================================================\n",
            "Total params: 13,313\n",
            "Trainable params: 13,313\n",
            "Non-trainable params: 0\n",
            "_________________________________________________________________\n"
          ]
        }
      ]
    },
    {
      "cell_type": "code",
      "source": [
        "history102 = model102.fit(x_train_10, y_train_10, \n",
        "          epochs=15, batch_size=1)"
      ],
      "metadata": {
        "colab": {
          "base_uri": "https://localhost:8080/"
        },
        "outputId": "21218dd5-3cd5-4508-ce29-0f01db193dad",
        "id": "yhZlzS4LVMLP"
      },
      "execution_count": null,
      "outputs": [
        {
          "output_type": "stream",
          "name": "stdout",
          "text": [
            "Train on 1888 samples\n",
            "Epoch 1/15\n",
            "1888/1888 [==============================] - 5s 3ms/sample - loss: 179614977838618.0312 - mean_squared_error: 179615012225024.0000\n",
            "Epoch 2/15\n",
            "1888/1888 [==============================] - 4s 2ms/sample - loss: 179361848658787.8125 - mean_squared_error: 179361860812800.0000\n",
            "Epoch 3/15\n",
            "1888/1888 [==============================] - 7s 3ms/sample - loss: 178923872682678.2500 - mean_squared_error: 178923975475200.0000\n",
            "Epoch 4/15\n",
            "1888/1888 [==============================] - 4s 2ms/sample - loss: 178352126246356.5938 - mean_squared_error: 178352207953920.0000\n",
            "Epoch 5/15\n",
            "1888/1888 [==============================] - 5s 3ms/sample - loss: 177633885184694.2500 - mean_squared_error: 177633824342016.0000\n",
            "Epoch 6/15\n",
            "1888/1888 [==============================] - 5s 2ms/sample - loss: 176801046396789.1562 - mean_squared_error: 176801171111936.0000\n",
            "Epoch 7/15\n",
            "1888/1888 [==============================] - 3s 2ms/sample - loss: 175834159799486.9062 - mean_squared_error: 175834249822208.0000\n",
            "Epoch 8/15\n",
            "1888/1888 [==============================] - 3s 2ms/sample - loss: 174761467607560.6875 - mean_squared_error: 174761481076736.0000\n",
            "Epoch 9/15\n",
            "1888/1888 [==============================] - 3s 2ms/sample - loss: 173554050134085.4062 - mean_squared_error: 173554058395648.0000\n",
            "Epoch 10/15\n",
            "1888/1888 [==============================] - 3s 2ms/sample - loss: 172312293358505.2188 - mean_squared_error: 172312242421760.0000\n",
            "Epoch 11/15\n",
            "1888/1888 [==============================] - 3s 2ms/sample - loss: 170887592105116.1875 - mean_squared_error: 170887739342848.0000\n",
            "Epoch 12/15\n",
            "1888/1888 [==============================] - 3s 2ms/sample - loss: 169309692768741.9688 - mean_squared_error: 169309707960320.0000\n",
            "Epoch 13/15\n",
            "1888/1888 [==============================] - 4s 2ms/sample - loss: 167777730207744.0000 - mean_squared_error: 167777528709120.0000\n",
            "Epoch 14/15\n",
            "1888/1888 [==============================] - 3s 2ms/sample - loss: 166044303518910.9062 - mean_squared_error: 166044324855808.0000\n",
            "Epoch 15/15\n",
            "1888/1888 [==============================] - 3s 2ms/sample - loss: 164383730816781.0000 - mean_squared_error: 164383716016128.0000\n"
          ]
        }
      ]
    },
    {
      "cell_type": "code",
      "source": [
        "performance102 = model102.evaluate(x_test_10, y_test_10)\n",
        "\n",
        "print(\"\\nLoss of test partition:\", performance102[0])\n",
        "print(\"MSE:\", performance102[1])"
      ],
      "metadata": {
        "colab": {
          "base_uri": "https://localhost:8080/"
        },
        "outputId": "2b014ca0-c767-4739-e10c-4baaa0003b8f",
        "id": "RbT7xbR2VMLQ"
      },
      "execution_count": null,
      "outputs": [
        {
          "output_type": "stream",
          "name": "stdout",
          "text": [
            "\r630/1 [====================================================================================================================================================================================================================================================================================================================================================================================================================================================================================================================================================================================================================================================================================================================================================================================================================================================================================================================================================================================================================================================================================================================================================================================================================================================================================================================================================================================================================================================================================================================================================================================================================================================================================================================================================================================================================================================================================================================================================================================================================================================================================================================================================================================================================================================================================================================================================================================================================================================================================================================================================================================================================================================================================================================================================================================================================================================================================================================================================================================================================================================================================================================================================================================================================================================================================================================================================================================================================================================================================================================================================================================================================================================================================================================================================================================================================================================================================================================================================================================================================================================================================================================================================================================================================================================================================================================================================================================================================================================================================================================================================================================================================================================================================================================================================================================================================================================================================================================================================================================================================================================================================================================================================================================================================================================================================================================================================================================================================================================================================================================================================================================================================================================================================================================================================================================================================================================================================================================================================================================================================================================================================================================================================================================================================================================================================================================================================================================================================================================================================================================================================================================================================================================================================================================================================================================================================================================================================================================================================================================================================================================================================================================================================================================================================================================================================================================================================================================================================================================================================================================================================================================================================================================================================================================================================================================================================================================================================================================================================================================================================================================================================================================================================================================================================================================================================================================================================================================================================================================================================================================================================================================================================================================================================================================================================================================================================================================================================================================================================================================================================================================================================================================================================================================================================================================================================================================================================================================================================================================================================================================================================================================================================================================================================================================================================================================================================================================================================================================================================================================================================================================================================================================================================================================================================================================================================================================================================================================================================================================================================================================================================================================================================================================================================================================================================================================================================================================================================================================================================================================================================================================================================================================================================================================================================================================================================================================================================================================================================================================================================================================================================================================================================================================================================================================================================================================================================================================================================================================================================================================================================================================================================================================================================================================================================================================================================================================================================================================================================================================================================================================================================================================================================================================================================================================================================================================================================================================================================================================================================================================================================================================================================================================================================================================================================================================================================================================================================================================================================================================================================================================================================================================================================================================================================================================================================================================================================================================================================================================================================================================================================================================================================================================================================================================================================================================================================================================================================================================================================================================================================================================================================================================================================================================================================================================================================================================================================================================================================================================================================================================================================================================================================================================================================================================================================================================================================================================================================================================================================================================================================================================================================================================================================================================================================================================================================================================================================================================================================================================================================================================================================================================================================================================================================================================================================================================================================================================================================================================================================================================================================================================================================================================================================================================================================================================================================================================================================================================================================================================================================================================================================================================================================================================================================================================================================================================================================================================================================================================================================================================================================================================================================================================================================================================================================================================================================================================================================================================================================================================================================================================================================================================================================================================================================================================================================================================================================================================================================================================================================================================================================================================================================================================================================================================================================================================================================================================================================================================================================================================================================================================================================================================================================================================================================================================================================================================================================================================================================================================================================================================================================================================================================================================================================================================================================] - 0s 135us/sample - loss: 112653867111349.2344 - mean_squared_error: 138804836958208.0000\n",
            "\n",
            "Loss of test partition: 138804802791274.47\n",
            "MSE: 138804840000000.0\n"
          ]
        }
      ]
    },
    {
      "cell_type": "code",
      "source": [
        "# summarize history for accuracy\n",
        "print(history102)\n",
        "plt.plot(history102.history['mean_squared_error'])\n",
        "plt.title('model loss')\n",
        "plt.ylabel('loss')\n",
        "plt.xlabel('epoch')\n",
        "plt.legend(['train'], loc='best')\n",
        "plt.show()\n",
        "\n",
        "\n",
        "# summarize history for loss\n",
        "plt.plot(history102.history['loss'])\n",
        "plt.title('model loss')\n",
        "plt.ylabel('loss')\n",
        "plt.xlabel('epoch')\n",
        "plt.legend(['train'], loc='best')\n",
        "plt.show()"
      ],
      "metadata": {
        "colab": {
          "base_uri": "https://localhost:8080/",
          "height": 590
        },
        "outputId": "d74928ce-e9b8-4239-8ca3-5518dd328389",
        "id": "uTIL66zrVMLQ"
      },
      "execution_count": null,
      "outputs": [
        {
          "output_type": "stream",
          "name": "stdout",
          "text": [
            "<tensorflow.python.keras.callbacks.History object at 0x7f734f9f6750>\n"
          ]
        },
        {
          "output_type": "display_data",
          "data": {
            "text/plain": [
              "<Figure size 432x288 with 1 Axes>"
            ],
            "image/png": "[encoded data removed]"
          },
          "metadata": {
            "needs_background": "light"
          }
        },
        {
          "output_type": "display_data",
          "data": {
            "text/plain": [
              "<Figure size 432x288 with 1 Axes>"
            ],
            "image/png": "[encoded data removed]"
          },
          "metadata": {
            "needs_background": "light"
          }
        }
      ]
    },
    {
      "cell_type": "markdown",
      "source": [
        "##Modelo Mejorado 3\n"
      ],
      "metadata": {
        "id": "Z6YGGy_xVRT2"
      }
    },
    {
      "cell_type": "code",
      "source": [
        "model103 = tf.keras.Sequential([\n",
        "        tf.keras.Input(shape=(38,)),\n",
        "        Dense(256, activation=\"relu\", name=\"Dense0\"),\n",
        "        Dropout(0.2),\n",
        "        Dense(128, activation=\"relu\", name=\"Dense1\"),\n",
        "        Dropout(0.2),\n",
        "        Dense(64, activation=\"relu\", name=\"Dense2\"),\n",
        "        Dropout(0.2),\n",
        "        Dense(1, name=\"Salida\")\n",
        "], name=\"Modelo103\")\n",
        "\n",
        "\n",
        "model103.compile(loss='mse', optimizer='adam', metrics=[tf.keras.metrics.MeanSquaredError()])\n",
        "model103.summary()"
      ],
      "metadata": {
        "colab": {
          "base_uri": "https://localhost:8080/"
        },
        "outputId": "685ef9f9-2b82-4892-ad79-21f1a6efc440",
        "id": "smTN1-piVRT2"
      },
      "execution_count": null,
      "outputs": [
        {
          "output_type": "stream",
          "name": "stdout",
          "text": [
            "Model: \"Modelo103\"\n",
            "_________________________________________________________________\n",
            "Layer (type)                 Output Shape              Param #   \n",
            "=================================================================\n",
            "Dense0 (Dense)               (None, 256)               9984      \n",
            "_________________________________________________________________\n",
            "dropout_12 (Dropout)         (None, 256)               0         \n",
            "_________________________________________________________________\n",
            "Dense1 (Dense)               (None, 128)               32896     \n",
            "_________________________________________________________________\n",
            "dropout_13 (Dropout)         (None, 128)               0         \n",
            "_________________________________________________________________\n",
            "Dense2 (Dense)               (None, 64)                8256      \n",
            "_________________________________________________________________\n",
            "dropout_14 (Dropout)         (None, 64)                0         \n",
            "_________________________________________________________________\n",
            "Salida (Dense)               (None, 1)                 65        \n",
            "=================================================================\n",
            "Total params: 51,201\n",
            "Trainable params: 51,201\n",
            "Non-trainable params: 0\n",
            "_________________________________________________________________\n"
          ]
        }
      ]
    },
    {
      "cell_type": "code",
      "source": [
        "history103 = model103.fit(x_train_10, y_train_10, \n",
        "          epochs=15, batch_size=1)"
      ],
      "metadata": {
        "colab": {
          "base_uri": "https://localhost:8080/"
        },
        "outputId": "c680c49a-d2a7-45e7-f771-b41daaff343e",
        "id": "1iWS9iRIVRT2"
      },
      "execution_count": null,
      "outputs": [
        {
          "output_type": "stream",
          "name": "stdout",
          "text": [
            "Train on 1888 samples\n",
            "Epoch 1/15\n",
            "1888/1888 [==============================] - 4s 2ms/sample - loss: 53146730095821.8984 - mean_squared_error: 53146848067584.0000\n",
            "Epoch 2/15\n",
            "1888/1888 [==============================] - 4s 2ms/sample - loss: 35712439284454.2188 - mean_squared_error: 35712447545344.0000\n",
            "Epoch 3/15\n",
            "1888/1888 [==============================] - 4s 2ms/sample - loss: 35962272346369.3203 - mean_squared_error: 35962260291584.0000\n",
            "Epoch 4/15\n",
            "1888/1888 [==============================] - 4s 2ms/sample - loss: 35195587323264.4297 - mean_squared_error: 35195583463424.0000\n",
            "Epoch 5/15\n",
            "1888/1888 [==============================] - 4s 2ms/sample - loss: 36351683887840.1641 - mean_squared_error: 36351697223680.0000\n",
            "Epoch 6/15\n",
            "1888/1888 [==============================] - 4s 2ms/sample - loss: 35091470071314.3242 - mean_squared_error: 35091478740992.0000\n",
            "Epoch 7/15\n",
            "1888/1888 [==============================] - 4s 2ms/sample - loss: 36499478313518.3125 - mean_squared_error: 36499433193472.0000\n",
            "Epoch 8/15\n",
            "1888/1888 [==============================] - 6s 3ms/sample - loss: 33736367829127.9375 - mean_squared_error: 33736353644544.0000\n",
            "Epoch 9/15\n",
            "1888/1888 [==============================] - 4s 2ms/sample - loss: 35901178332002.6250 - mean_squared_error: 35901191225344.0000\n",
            "Epoch 10/15\n",
            "1888/1888 [==============================] - 4s 2ms/sample - loss: 35435581203806.1797 - mean_squared_error: 35435598315520.0000\n",
            "Epoch 11/15\n",
            "1888/1888 [==============================] - 4s 2ms/sample - loss: 36012702997135.9453 - mean_squared_error: 36012717768704.0000\n",
            "Epoch 12/15\n",
            "1888/1888 [==============================] - 4s 2ms/sample - loss: 34763337659787.1992 - mean_squared_error: 34763331076096.0000\n",
            "Epoch 13/15\n",
            "1888/1888 [==============================] - 4s 2ms/sample - loss: 34333862995694.2500 - mean_squared_error: 34333865803776.0000\n",
            "Epoch 14/15\n",
            "1888/1888 [==============================] - 4s 2ms/sample - loss: 35254427998602.7422 - mean_squared_error: 35254437937152.0000\n",
            "Epoch 15/15\n",
            "1888/1888 [==============================] - 4s 2ms/sample - loss: 35148938650715.3203 - mean_squared_error: 35148917637120.0000\n"
          ]
        }
      ]
    },
    {
      "cell_type": "code",
      "source": [
        "performance103 = model103.evaluate(x_test_10, y_test_10)\n",
        "\n",
        "print(\"\\nLoss of test partition:\", performance103[0])\n",
        "print(\"MSE:\", performance103[1])"
      ],
      "metadata": {
        "colab": {
          "base_uri": "https://localhost:8080/"
        },
        "outputId": "169ac805-ed5b-4205-8a01-649d896cbf75",
        "id": "Sf5LIqb1VRT3"
      },
      "execution_count": null,
      "outputs": [
        {
          "output_type": "stream",
          "name": "stdout",
          "text": [
            "\r630/1 [====================================================================================================================================================================================================================================================================================================================================================================================================================================================================================================================================================================================================================================================================================================================================================================================================================================================================================================================================================================================================================================================================================================================================================================================================================================================================================================================================================================================================================================================================================================================================================================================================================================================================================================================================================================================================================================================================================================================================================================================================================================================================================================================================================================================================================================================================================================================================================================================================================================================================================================================================================================================================================================================================================================================================================================================================================================================================================================================================================================================================================================================================================================================================================================================================================================================================================================================================================================================================================================================================================================================================================================================================================================================================================================================================================================================================================================================================================================================================================================================================================================================================================================================================================================================================================================================================================================================================================================================================================================================================================================================================================================================================================================================================================================================================================================================================================================================================================================================================================================================================================================================================================================================================================================================================================================================================================================================================================================================================================================================================================================================================================================================================================================================================================================================================================================================================================================================================================================================================================================================================================================================================================================================================================================================================================================================================================================================================================================================================================================================================================================================================================================================================================================================================================================================================================================================================================================================================================================================================================================================================================================================================================================================================================================================================================================================================================================================================================================================================================================================================================================================================================================================================================================================================================================================================================================================================================================================================================================================================================================================================================================================================================================================================================================================================================================================================================================================================================================================================================================================================================================================================================================================================================================================================================================================================================================================================================================================================================================================================================================================================================================================================================================================================================================================================================================================================================================================================================================================================================================================================================================================================================================================================================================================================================================================================================================================================================================================================================================================================================================================================================================================================================================================================================================================================================================================================================================================================================================================================================================================================================================================================================================================================================================================================================================================================================================================================================================================================================================================================================================================================================================================================================================================================================================================================================================================================================================================================================================================================================================================================================================================================================================================================================================================================================================================================================================================================================================================================================================================================================================================================================================================================================================================================================================================================================================================================================================================================================================================================================================================================================================================================================================================================================================================================================================================================================================================================================================================================================================================================================================================================================================================================================================================================================================================================================================================================================================================================================================================================================================================================================================================================================================================================================================================================================================================================================================================================================================================================================================================================================================================================================================================================================================================================================================================================================================================================================================================================================================================================================================================================================================================================================================================================================================================================================================================================================================================================================================================================================================================================================================================================================================================================================================================================================================================================================================================================================================================================================================================================================================================================================================================================================================================================================================================================================================================================================================================================================================================================================================================================================================================================================================================================================================================================================================================================================================================================================================================================================================================================================================================================================================================================================================================================================================================================================================================================================================================================================================================================================================================================================================================================================================================================================================================================================================================================================================================================================================================================================================================================================================================================================================================================================================================================================================================================================================================================================================================================================================================================================================================================================================================================================================================================================================================================================================================================================================================================================================================================================================================================================================================================================================================================================================================================================================================================================================================================================================================================================================================================================================================================================================================================================================================================================================================================================================================================================================================================================================================================================================================================================================================================================================================================================================================================================================================================================] - 0s 159us/sample - loss: 18907734394028.2930 - mean_squared_error: 22740318814208.0000\n",
            "\n",
            "Loss of test partition: 22740322322776.586\n",
            "MSE: 22740319000000.0\n"
          ]
        }
      ]
    },
    {
      "cell_type": "code",
      "source": [
        "# summarize history for accuracy\n",
        "print(history103)\n",
        "plt.plot(history103.history['mean_squared_error'])\n",
        "plt.title('model loss')\n",
        "plt.ylabel('loss')\n",
        "plt.xlabel('epoch')\n",
        "plt.legend(['train'], loc='best')\n",
        "plt.show()\n",
        "\n",
        "\n",
        "# summarize history for loss\n",
        "plt.plot(history103.history['loss'])\n",
        "plt.title('model loss')\n",
        "plt.ylabel('loss')\n",
        "plt.xlabel('epoch')\n",
        "plt.legend(['train'], loc='best')\n",
        "plt.show()"
      ],
      "metadata": {
        "colab": {
          "base_uri": "https://localhost:8080/",
          "height": 590
        },
        "outputId": "578c95c1-499b-4da0-b254-a9e2a719b434",
        "id": "qqtPk9IaVRT3"
      },
      "execution_count": null,
      "outputs": [
        {
          "output_type": "stream",
          "name": "stdout",
          "text": [
            "<tensorflow.python.keras.callbacks.History object at 0x7f734dff5ed0>\n"
          ]
        },
        {
          "output_type": "display_data",
          "data": {
            "text/plain": [
              "<Figure size 432x288 with 1 Axes>"
            ],
            "image/png": "[encoded data removed]"
          },
          "metadata": {
            "needs_background": "light"
          }
        },
        {
          "output_type": "display_data",
          "data": {
            "text/plain": [
              "<Figure size 432x288 with 1 Axes>"
            ],
            "image/png": "[encoded data removed]"
          },
          "metadata": {
            "needs_background": "light"
          }
        }
      ]
    },
    {
      "cell_type": "markdown",
      "source": [
        "##Resultados"
      ],
      "metadata": {
        "id": "xxT9pOwfWis7"
      }
    },
    {
      "cell_type": "markdown",
      "source": [
        "Vamos a comprobar la perdida y la exactitud de cada uno de los modelos, para comprobar cual de todos es el mejor obtenido."
      ],
      "metadata": {
        "id": "zXAzzCklWltZ"
      }
    },
    {
      "cell_type": "code",
      "source": [
        "print(\"-------------------------------\")\n",
        "print(\"Modelo Inicial\")\n",
        "\n",
        "print(\"Loss of test partition:\", performanceP2[0])\n",
        "print(\"MSE of test partition:\", performanceP2[1])\n",
        "print(\"-------------------------------\")\n",
        "\n",
        "print(\"Modelo 1\")\n",
        "print(\"Loss of test partition:\", performance101[0])\n",
        "print(\"MSE of test partition:\", performance101[1])\n",
        "print(\"-------------------------------\")\n",
        "\n",
        "print(\"Modelo 2\")\n",
        "print(\"Loss of test partition:\", performance102[0])\n",
        "print(\"MSE of test partition:\", performance102[1])\n",
        "print(\"-------------------------------\")\n",
        "\n",
        "print(\"Modelo 3\")\n",
        "print(\"Loss of test partition:\", performance103[0])\n",
        "print(\"MSE of test partition:\", performance103[1])\n",
        "print(\"-------------------------------\")"
      ],
      "metadata": {
        "colab": {
          "base_uri": "https://localhost:8080/"
        },
        "outputId": "566eece9-d999-4126-be99-85fe661e0ba5",
        "id": "ocTmd29aWltZ"
      },
      "execution_count": null,
      "outputs": [
        {
          "output_type": "stream",
          "name": "stdout",
          "text": [
            "-------------------------------\n",
            "Modelo Inicial\n",
            "Loss of test partition: 22961426832393.754\n",
            "MSE of test partition: 22961426000000.0\n",
            "-------------------------------\n",
            "Modelo 1\n",
            "Loss of test partition: 23479862916151.26\n",
            "MSE of test partition: 23479863000000.0\n",
            "-------------------------------\n",
            "Modelo 2\n",
            "Loss of test partition: 138804802791274.47\n",
            "MSE of test partition: 138804840000000.0\n",
            "-------------------------------\n",
            "Modelo 3\n",
            "Loss of test partition: 22740322322776.586\n",
            "MSE of test partition: 22740319000000.0\n",
            "-------------------------------\n"
          ]
        }
      ]
    }
  ]
}