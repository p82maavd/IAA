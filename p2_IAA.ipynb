{
  "nbformat": 4,
  "nbformat_minor": 0,
  "metadata": {
    "colab": {
      "provenance": [],
      "toc_visible": true
    },
    "kernelspec": {
      "name": "python3",
      "display_name": "Python 3"
    },
    "language_info": {
      "name": "python"
    }
  },
  "cells": [
    {
      "cell_type": "markdown",
      "source": [
        "# P2 IAA: Regresión Lineal Múltiple"
      ],
      "metadata": {
        "id": "ACf2hd0C4ktf"
      }
    },
    {
      "cell_type": "code",
      "source": [
        "!pip install turicreate"
      ],
      "metadata": {
        "id": "XUbD964bcNAt"
      },
      "execution_count": null,
      "outputs": []
    },
    {
      "cell_type": "code",
      "source": [
        "\n",
        "import pandas as pd\n",
        "from sklearn import linear_model,datasets\n",
        "from sklearn.utils import Bunch\n",
        "import csv\n",
        "import time\n",
        "import numpy as np\n",
        "import random as rd\n",
        "import turicreate as tc\n",
        "import matplotlib.pyplot as plt\n",
        "\n",
        "# Connect to GDrive\n",
        "from google.colab import drive\n",
        "drive.mount('/content/gdrive')\n"
      ],
      "metadata": {
        "colab": {
          "base_uri": "https://localhost:8080/"
        },
        "id": "KBGAYgqP0s9q",
        "outputId": "7f356639-f829-4499-f948-a1c4bce0a764"
      },
      "execution_count": null,
      "outputs": [
        {
          "output_type": "stream",
          "name": "stdout",
          "text": [
            "Mounted at /content/gdrive\n"
          ]
        }
      ]
    },
    {
      "cell_type": "code",
      "source": [
        "path = '/content/gdrive/MyDrive/ColabNotebooks/IAA/smallDataSet.csv'\n",
        "# path = '/content/gdrive/MyDrive/Uni/IAA/smallDataset.csv'\n",
        "df = pd.read_csv(path)\n",
        "\n",
        "x = df.iloc[:,:-1].to_numpy()\n",
        "y = df.iloc[:,-1].to_numpy()\n",
        "\n",
        "df.head()"
      ],
      "metadata": {
        "colab": {
          "base_uri": "https://localhost:8080/",
          "height": 206
        },
        "id": "38a31HE55hq6",
        "outputId": "dfd3628d-6884-43d3-be42-2238264b7731"
      },
      "execution_count": null,
      "outputs": [
        {
          "output_type": "execute_result",
          "data": {
            "text/plain": [
              "   x1  x2      y\n",
              "0   1   2   1.03\n",
              "1   1   3  -1.44\n",
              "2   2   3   4.53\n",
              "3   2   4   2.24\n",
              "4   3   2  13.27"
            ],
            "text/html": [
              "\n",
              "  <div id=\"df-8a356e47-7013-4195-b137-a9cc79463713\">\n",
              "    <div class=\"colab-df-container\">\n",
              "      <div>\n",
              "<style scoped>\n",
              "    .dataframe tbody tr th:only-of-type {\n",
              "        vertical-align: middle;\n",
              "    }\n",
              "\n",
              "    .dataframe tbody tr th {\n",
              "        vertical-align: top;\n",
              "    }\n",
              "\n",
              "    .dataframe thead th {\n",
              "        text-align: right;\n",
              "    }\n",
              "</style>\n",
              "<table border=\"1\" class=\"dataframe\">\n",
              "  <thead>\n",
              "    <tr style=\"text-align: right;\">\n",
              "      <th></th>\n",
              "      <th>x1</th>\n",
              "      <th>x2</th>\n",
              "      <th>y</th>\n",
              "    </tr>\n",
              "  </thead>\n",
              "  <tbody>\n",
              "    <tr>\n",
              "      <th>0</th>\n",
              "      <td>1</td>\n",
              "      <td>2</td>\n",
              "      <td>1.03</td>\n",
              "    </tr>\n",
              "    <tr>\n",
              "      <th>1</th>\n",
              "      <td>1</td>\n",
              "      <td>3</td>\n",
              "      <td>-1.44</td>\n",
              "    </tr>\n",
              "    <tr>\n",
              "      <th>2</th>\n",
              "      <td>2</td>\n",
              "      <td>3</td>\n",
              "      <td>4.53</td>\n",
              "    </tr>\n",
              "    <tr>\n",
              "      <th>3</th>\n",
              "      <td>2</td>\n",
              "      <td>4</td>\n",
              "      <td>2.24</td>\n",
              "    </tr>\n",
              "    <tr>\n",
              "      <th>4</th>\n",
              "      <td>3</td>\n",
              "      <td>2</td>\n",
              "      <td>13.27</td>\n",
              "    </tr>\n",
              "  </tbody>\n",
              "</table>\n",
              "</div>\n",
              "      <button class=\"colab-df-convert\" onclick=\"convertToInteractive('df-8a356e47-7013-4195-b137-a9cc79463713')\"\n",
              "              title=\"Convert this dataframe to an interactive table.\"\n",
              "              style=\"display:none;\">\n",
              "        \n",
              "  <svg xmlns=\"http://www.w3.org/2000/svg\" height=\"24px\"viewBox=\"0 0 24 24\"\n",
              "       width=\"24px\">\n",
              "    <path d=\"M0 0h24v24H0V0z\" fill=\"none\"/>\n",
              "    <path d=\"M18.56 5.44l.94 2.06.94-2.06 2.06-.94-2.06-.94-.94-2.06-.94 2.06-2.06.94zm-11 1L8.5 8.5l.94-2.06 2.06-.94-2.06-.94L8.5 2.5l-.94 2.06-2.06.94zm10 10l.94 2.06.94-2.06 2.06-.94-2.06-.94-.94-2.06-.94 2.06-2.06.94z\"/><path d=\"M17.41 7.96l-1.37-1.37c-.4-.4-.92-.59-1.43-.59-.52 0-1.04.2-1.43.59L10.3 9.45l-7.72 7.72c-.78.78-.78 2.05 0 2.83L4 21.41c.39.39.9.59 1.41.59.51 0 1.02-.2 1.41-.59l7.78-7.78 2.81-2.81c.8-.78.8-2.07 0-2.86zM5.41 20L4 18.59l7.72-7.72 1.47 1.35L5.41 20z\"/>\n",
              "  </svg>\n",
              "      </button>\n",
              "      \n",
              "  <style>\n",
              "    .colab-df-container {\n",
              "      display:flex;\n",
              "      flex-wrap:wrap;\n",
              "      gap: 12px;\n",
              "    }\n",
              "\n",
              "    .colab-df-convert {\n",
              "      background-color: #E8F0FE;\n",
              "      border: none;\n",
              "      border-radius: 50%;\n",
              "      cursor: pointer;\n",
              "      display: none;\n",
              "      fill: #1967D2;\n",
              "      height: 32px;\n",
              "      padding: 0 0 0 0;\n",
              "      width: 32px;\n",
              "    }\n",
              "\n",
              "    .colab-df-convert:hover {\n",
              "      background-color: #E2EBFA;\n",
              "      box-shadow: 0px 1px 2px rgba(60, 64, 67, 0.3), 0px 1px 3px 1px rgba(60, 64, 67, 0.15);\n",
              "      fill: #174EA6;\n",
              "    }\n",
              "\n",
              "    [theme=dark] .colab-df-convert {\n",
              "      background-color: #3B4455;\n",
              "      fill: #D2E3FC;\n",
              "    }\n",
              "\n",
              "    [theme=dark] .colab-df-convert:hover {\n",
              "      background-color: #434B5C;\n",
              "      box-shadow: 0px 1px 3px 1px rgba(0, 0, 0, 0.15);\n",
              "      filter: drop-shadow(0px 1px 2px rgba(0, 0, 0, 0.3));\n",
              "      fill: #FFFFFF;\n",
              "    }\n",
              "  </style>\n",
              "\n",
              "      <script>\n",
              "        const buttonEl =\n",
              "          document.querySelector('#df-8a356e47-7013-4195-b137-a9cc79463713 button.colab-df-convert');\n",
              "        buttonEl.style.display =\n",
              "          google.colab.kernel.accessAllowed ? 'block' : 'none';\n",
              "\n",
              "        async function convertToInteractive(key) {\n",
              "          const element = document.querySelector('#df-8a356e47-7013-4195-b137-a9cc79463713');\n",
              "          const dataTable =\n",
              "            await google.colab.kernel.invokeFunction('convertToInteractive',\n",
              "                                                     [key], {});\n",
              "          if (!dataTable) return;\n",
              "\n",
              "          const docLinkHtml = 'Like what you see? Visit the ' +\n",
              "            '<a target=\"_blank\" href=https://colab.research.google.com/notebooks/data_table.ipynb>data table notebook</a>'\n",
              "            + ' to learn more about interactive tables.';\n",
              "          element.innerHTML = '';\n",
              "          dataTable['output_type'] = 'display_data';\n",
              "          await google.colab.output.renderOutput(dataTable, element);\n",
              "          const docLink = document.createElement('div');\n",
              "          docLink.innerHTML = docLinkHtml;\n",
              "          element.appendChild(docLink);\n",
              "        }\n",
              "      </script>\n",
              "    </div>\n",
              "  </div>\n",
              "  "
            ]
          },
          "metadata": {},
          "execution_count": 5
        }
      ]
    },
    {
      "cell_type": "markdown",
      "source": [
        "# Implementacion propia - Regresion Lineal\n"
      ],
      "metadata": {
        "id": "LhXpetBY0i4_"
      }
    },
    {
      "cell_type": "markdown",
      "source": [
        "## Usando epocas\n"
      ],
      "metadata": {
        "id": "7FY6aC7M3fRy"
      }
    },
    {
      "cell_type": "code",
      "source": [
        "def MAE(x,y,weights,bias):\n",
        "  coste = np.sum(abs((x.dot(weights) + bias) - y) / (len(y)))\n",
        "  return coste\n",
        "\n",
        "def MSE(x,y,weights,bias):\n",
        "  coste = np.sum((((x.dot(weights) + bias) - y) ** 2) / (len(y)))\n",
        "  return coste\n",
        "\n",
        "def gradienteDescMAE(x,y,weights,bias,lr,epochs,maxError):\n",
        "    listaErrorMAE = []\n",
        "    listaErrorMSE = []\n",
        "    coste = 10\n",
        "    epoch=0\n",
        "\n",
        "    while coste > maxError and epoch < epochs:\n",
        "      yEst = x.dot(weights) + bias\n",
        "      loss = yEst - y\n",
        "      \n",
        "      for l in range(len(loss)):\n",
        "        if loss[l] < 0:\n",
        "          loss[l]=-1\n",
        "        else:\n",
        "          loss[l]=1\n",
        "      \n",
        "      \n",
        "      weight_gradient = x.T.dot(loss) / len(y)\n",
        "      bias_gradient = np.sum(loss) / len(y)\n",
        "      \n",
        "      weights = weights - lr*weight_gradient\n",
        "      bias = bias - lr*bias_gradient\n",
        "\n",
        "      listaErrorMAE.append(MAE(x, y, weights, bias))\n",
        "      listaErrorMSE.append(MSE(x, y, weights, bias))\n",
        "      epoch += 1\n",
        "\n",
        "    #return weights, bias, error MAE y MSE a lo largo del entrenamiento\n",
        "    return weights, bias, listaErrorMAE, listaErrorMSE\n",
        "\n",
        "def gradienteDescMSE(x,y,weights,bias,lr,epochs,maxError):\n",
        "    listaErrorMAE = []\n",
        "    listaErrorMSE = []\n",
        "    coste = 10\n",
        "    epoch = 0\n",
        "\n",
        "    while coste > maxError and epoch < epochs:\n",
        "      yEst = x.dot(weights) + bias\n",
        "      loss = yEst - y\n",
        "      \n",
        "      weight_gradient = x.T.dot(loss) / len(y)\n",
        "      bias_gradient = np.sum(loss) / len(y)\n",
        "      \n",
        "      weights = weights - lr * weight_gradient\n",
        "      bias = bias - lr * bias_gradient\n",
        "\n",
        "      listaErrorMAE.append(MAE(x, y, weights, bias))\n",
        "      listaErrorMSE.append(MSE(x, y, weights, bias))\n",
        "      epoch += 1\n",
        "\n",
        "    #return weights, bias, error MAE y MSE a lo largo de entrenamiento\n",
        "    return weights, bias, listaErrorMAE, listaErrorMSE\n"
      ],
      "metadata": {
        "id": "gYWwvM6_8DHN"
      },
      "execution_count": null,
      "outputs": []
    },
    {
      "cell_type": "markdown",
      "source": [
        "\n",
        "### Error absoluto\n",
        "Ejecutamos 100 iteraciones para calcular el tiempo de ejecución medio"
      ],
      "metadata": {
        "id": "M7UYzfH03YAI"
      }
    },
    {
      "cell_type": "code",
      "source": [
        "if __name__ == \"__main__\":\n",
        "    ## Fija el learning rate\n",
        "    lr = 0.01\n",
        "    ## Fija las epocas\n",
        "    epochs = 1000\n",
        "    ## Umbral de error permitido\n",
        "    maxError = 0.001\n",
        "    ## Variable para medir el tiempo de ejecucion\n",
        "    tiempo = 0\n",
        "\n",
        "    for i in range(100):\n",
        "      tinicio=time.time()\n",
        "      w, b, costMAE, costMSE = gradienteDescMAE(x, y, np.zeros(x.shape[1]), 0, lr,epochs,maxError)\n",
        "      tfinal= time.time()\n",
        "      tiempo +=tfinal-tinicio\n",
        "      \n",
        "    tiempo /= 100\n",
        "    print(\"------------------------------------------------------------------\")\n",
        "    print(\"Modelo: \", w , b)\n",
        "    print(\"------------------------------------------------------------------\")\n",
        "    print(\"Tiempo medio de ejecucion:\",f'{tiempo:0.6f}s')\n",
        "    print(\"Error Absoluto final:\",f'{costMAE[-1]:0.6f}')\n",
        "    print(\"Error Cuadratico final:\",f'{costMSE[-1]:0.6f}')\n",
        "    print(\"------------------------------------------------------------------\")\n",
        "\n",
        "    plt.plot(costMAE)\n",
        "    plt.show()\n",
        "    plt.plot(costMSE)\n",
        "    plt.show()\n"
      ],
      "metadata": {
        "id": "Foud2uYA3yY1",
        "colab": {
          "base_uri": "https://localhost:8080/",
          "height": 635
        },
        "outputId": "2b3f0ed1-7a8b-45bb-a6fb-ab1866c5080f"
      },
      "execution_count": null,
      "outputs": [
        {
          "output_type": "stream",
          "name": "stdout",
          "text": [
            "------------------------------------------------------------------\n",
            "Modelo:  [ 6.00285714 -2.48285714] -0.03142857142857196\n",
            "------------------------------------------------------------------\n",
            "Tiempo medio de ejecucion: 0.049841s\n",
            "Error Absoluto final: 0.087347\n",
            "Error Cuadratico final: 0.016008\n",
            "------------------------------------------------------------------\n"
          ]
        },
        {
          "output_type": "display_data",
          "data": {
            "text/plain": [
              "<Figure size 432x288 with 1 Axes>"
            ],
            "image/png": "[encoded data removed]"
          },
          "metadata": {
            "needs_background": "light"
          }
        },
        {
          "output_type": "display_data",
          "data": {
            "text/plain": [
              "<Figure size 432x288 with 1 Axes>"
            ],
            "image/png": "[encoded data removed]"
          },
          "metadata": {
            "needs_background": "light"
          }
        }
      ]
    },
    {
      "cell_type": "markdown",
      "source": [
        "### Error cuadratico\n",
        "Realizamos 100 iteraciones para calcular el tiempo de ejecución medio"
      ],
      "metadata": {
        "id": "Vmj4lbUY3bPl"
      }
    },
    {
      "cell_type": "code",
      "source": [
        "if __name__ == \"__main__\":\n",
        "    ## Fija el learning rate\n",
        "    lr = 0.1\n",
        "    ## Fija las epocas\n",
        "    epochs = 100\n",
        "    ## Umbral de error permitido\n",
        "    maxError = 0.001\n",
        "    ## Variable para medir el tiempo de ejecucion\n",
        "    tiempo = 0\n",
        "\n",
        "    for i in range(100):\n",
        "      tinicio=time.time()\n",
        "      w, b, costMAE, costMSE = gradienteDescMSE(x, y, np.zeros(x.shape[1]), 0, lr,epochs,maxError)\n",
        "      tfinal = time.time()\n",
        "      tiempo +=tfinal-tinicio\n",
        "      \n",
        "    tiempo /= 100\n",
        "\n",
        "    print(\"------------------------------------------------------------------\")\n",
        "    print(\"Modelo: \", w , b)\n",
        "    print(\"------------------------------------------------------------------\")\n",
        "    print(\"Tiempo medio de ejecucion:\",f'{tiempo:0.6f}s')\n",
        "    print(\"Error Absoluto final:\",f'{costMAE[-1]:0.6f}')\n",
        "    print(\"Error Cuadratico final:\",f'{costMSE[-1]:0.6f}')\n",
        "    print(\"------------------------------------------------------------------\")\n",
        "\n",
        "    plt.plot(costMAE)\n",
        "    plt.show()\n",
        "    plt.plot(costMSE)\n",
        "    plt.show()\n"
      ],
      "metadata": {
        "colab": {
          "base_uri": "https://localhost:8080/",
          "height": 635
        },
        "id": "eTzfMtn63WbU",
        "outputId": "7614f2e8-8630-4dc2-fd7f-fd0e8622cb52"
      },
      "execution_count": null,
      "outputs": [
        {
          "output_type": "stream",
          "name": "stdout",
          "text": [
            "------------------------------------------------------------------\n",
            "Modelo:  [ 5.94845784 -2.53781562] 0.36344615092203264\n",
            "------------------------------------------------------------------\n",
            "Tiempo medio de ejecucion: 0.007423s\n",
            "Error Absoluto final: 0.131297\n",
            "Error Cuadratico final: 0.018471\n",
            "------------------------------------------------------------------\n"
          ]
        },
        {
          "output_type": "display_data",
          "data": {
            "text/plain": [
              "<Figure size 432x288 with 1 Axes>"
            ],
            "image/png": "[encoded data removed]"
          },
          "metadata": {
            "needs_background": "light"
          }
        },
        {
          "output_type": "display_data",
          "data": {
            "text/plain": [
              "<Figure size 432x288 with 1 Axes>"
            ],
            "image/png": "[encoded data removed]"
          },
          "metadata": {
            "needs_background": "light"
          }
        }
      ]
    },
    {
      "cell_type": "markdown",
      "source": [
        "Como podemos ver, si usamos el MSE como funcion de error en el gradiente descendiente, obtenemos resultados parecidos en muchisimas menos epocas (evidentemente el lr de ambos es diferente)"
      ],
      "metadata": {
        "id": "c5M33l0jJ2UB"
      }
    },
    {
      "cell_type": "markdown",
      "source": [
        "## TuriCreate"
      ],
      "metadata": {
        "id": "8qSR9AmwZwAj"
      }
    },
    {
      "cell_type": "code",
      "source": [
        "from turicreate.toolkits.regression.linear_regression import LinearRegression\n",
        "# Load the data\n",
        "data =  tc.SFrame(path)\n",
        "\n",
        "## Fijar el numero maximo de iteraciones\n",
        "maxiterations=1000\n",
        "\n",
        "# Automatically picks the right model based on your data.\n",
        "model = tc.linear_regression.create(data, target='y', features = ['x1','x2'], max_iterations=maxiterations)\n",
        "print(model.coefficients)\n"
      ],
      "metadata": {
        "colab": {
          "base_uri": "https://localhost:8080/",
          "height": 625
        },
        "id": "Kf4z-Cx4Z3O_",
        "outputId": "b5a93702-0113-4c0b-8502-95da405e8a0e"
      },
      "execution_count": null,
      "outputs": [
        {
          "output_type": "display_data",
          "data": {
            "text/plain": [
              "Read 7 lines. Lines per second: 203.838"
            ],
            "text/html": [
              "<pre>Read 7 lines. Lines per second: 203.838</pre>"
            ]
          },
          "metadata": {}
        },
        {
          "output_type": "display_data",
          "data": {
            "text/plain": [
              "Finished parsing file /content/gdrive/MyDrive/ColabNotebooks/IAA/smallDataSet.csv"
            ],
            "text/html": [
              "<pre>Finished parsing file /content/gdrive/MyDrive/ColabNotebooks/IAA/smallDataSet.csv</pre>"
            ]
          },
          "metadata": {}
        },
        {
          "output_type": "display_data",
          "data": {
            "text/plain": [
              "Parsing completed. Parsed 7 lines in 0.03475 secs."
            ],
            "text/html": [
              "<pre>Parsing completed. Parsed 7 lines in 0.03475 secs.</pre>"
            ]
          },
          "metadata": {}
        },
        {
          "output_type": "stream",
          "name": "stdout",
          "text": [
            "------------------------------------------------------\n",
            "Inferred types from first 100 line(s) of file as \n",
            "column_type_hints=[int,int,float]\n",
            "If parsing fails due to incorrect types, you can correct\n",
            "the inferred type list above and pass it to read_csv in\n",
            "the column_type_hints argument\n",
            "------------------------------------------------------\n"
          ]
        },
        {
          "output_type": "display_data",
          "data": {
            "text/plain": [
              "Finished parsing file /content/gdrive/MyDrive/ColabNotebooks/IAA/smallDataSet.csv"
            ],
            "text/html": [
              "<pre>Finished parsing file /content/gdrive/MyDrive/ColabNotebooks/IAA/smallDataSet.csv</pre>"
            ]
          },
          "metadata": {}
        },
        {
          "output_type": "display_data",
          "data": {
            "text/plain": [
              "Parsing completed. Parsed 7 lines in 0.013826 secs."
            ],
            "text/html": [
              "<pre>Parsing completed. Parsed 7 lines in 0.013826 secs.</pre>"
            ]
          },
          "metadata": {}
        },
        {
          "output_type": "stream",
          "name": "stdout",
          "text": [
            "+-------------+-------+---------------------+---------------------+\n",
            "|     name    | index |        value        |        stderr       |\n",
            "+-------------+-------+---------------------+---------------------+\n",
            "| (intercept) |  None | 0.05240794104558599 |  0.193992579593948  |\n",
            "|      x1     |  None |  5.975723751721802  | 0.05204271620406507 |\n",
            "|      x2     |  None |  -2.459921780743396 | 0.04304818354787499 |\n",
            "+-------------+-------+---------------------+---------------------+\n",
            "[3 rows x 4 columns]\n",
            "\n"
          ]
        },
        {
          "output_type": "display_data",
          "data": {
            "text/plain": [
              "Linear regression:"
            ],
            "text/html": [
              "<pre>Linear regression:</pre>"
            ]
          },
          "metadata": {}
        },
        {
          "output_type": "display_data",
          "data": {
            "text/plain": [
              "--------------------------------------------------------"
            ],
            "text/html": [
              "<pre>--------------------------------------------------------</pre>"
            ]
          },
          "metadata": {}
        },
        {
          "output_type": "display_data",
          "data": {
            "text/plain": [
              "Number of examples          : 7"
            ],
            "text/html": [
              "<pre>Number of examples          : 7</pre>"
            ]
          },
          "metadata": {}
        },
        {
          "output_type": "display_data",
          "data": {
            "text/plain": [
              "Number of features          : 2"
            ],
            "text/html": [
              "<pre>Number of features          : 2</pre>"
            ]
          },
          "metadata": {}
        },
        {
          "output_type": "display_data",
          "data": {
            "text/plain": [
              "Number of unpacked features : 2"
            ],
            "text/html": [
              "<pre>Number of unpacked features : 2</pre>"
            ]
          },
          "metadata": {}
        },
        {
          "output_type": "display_data",
          "data": {
            "text/plain": [
              "Number of coefficients    : 3"
            ],
            "text/html": [
              "<pre>Number of coefficients    : 3</pre>"
            ]
          },
          "metadata": {}
        },
        {
          "output_type": "display_data",
          "data": {
            "text/plain": [
              "Starting Newton Method"
            ],
            "text/html": [
              "<pre>Starting Newton Method</pre>"
            ]
          },
          "metadata": {}
        },
        {
          "output_type": "display_data",
          "data": {
            "text/plain": [
              "--------------------------------------------------------"
            ],
            "text/html": [
              "<pre>--------------------------------------------------------</pre>"
            ]
          },
          "metadata": {}
        },
        {
          "output_type": "display_data",
          "data": {
            "text/plain": [
              "+-----------+----------+--------------+--------------------+---------------------------------+"
            ],
            "text/html": [
              "<pre>+-----------+----------+--------------+--------------------+---------------------------------+</pre>"
            ]
          },
          "metadata": {}
        },
        {
          "output_type": "display_data",
          "data": {
            "text/plain": [
              "| Iteration | Passes   | Elapsed Time | Training Max Error | Training Root-Mean-Square Error |"
            ],
            "text/html": [
              "<pre>| Iteration | Passes   | Elapsed Time | Training Max Error | Training Root-Mean-Square Error |</pre>"
            ]
          },
          "metadata": {}
        },
        {
          "output_type": "display_data",
          "data": {
            "text/plain": [
              "+-----------+----------+--------------+--------------------+---------------------------------+"
            ],
            "text/html": [
              "<pre>+-----------+----------+--------------+--------------------+---------------------------------+</pre>"
            ]
          },
          "metadata": {}
        },
        {
          "output_type": "display_data",
          "data": {
            "text/plain": [
              "| 1         | 2        | 0.000227     | 0.210264           | 0.105253                        |"
            ],
            "text/html": [
              "<pre>| 1         | 2        | 0.000227     | 0.210264           | 0.105253                        |</pre>"
            ]
          },
          "metadata": {}
        },
        {
          "output_type": "display_data",
          "data": {
            "text/plain": [
              "+-----------+----------+--------------+--------------------+---------------------------------+"
            ],
            "text/html": [
              "<pre>+-----------+----------+--------------+--------------------+---------------------------------+</pre>"
            ]
          },
          "metadata": {}
        },
        {
          "output_type": "display_data",
          "data": {
            "text/plain": [
              "SUCCESS: Optimal solution found."
            ],
            "text/html": [
              "<pre>SUCCESS: Optimal solution found.</pre>"
            ]
          },
          "metadata": {}
        },
        {
          "output_type": "display_data",
          "data": {
            "text/plain": [
              ""
            ],
            "text/html": [
              "<pre></pre>"
            ]
          },
          "metadata": {}
        }
      ]
    },
    {
      "cell_type": "markdown",
      "source": [
        "## Scikit learn\n"
      ],
      "metadata": {
        "id": "bhZ_THz_Z1cj"
      }
    },
    {
      "cell_type": "code",
      "source": [
        "def load_my_dataset(path):\n",
        "    with open(file=path) as csv_file:\n",
        "        data_reader = csv.reader(csv_file)\n",
        "        feature_names = next(data_reader)[:-1]\n",
        "        data = []\n",
        "        target = []\n",
        "        for row in data_reader:\n",
        "            features = row[:-1]\n",
        "            label = row[-1]\n",
        "            data.append([float(num) for num in features])\n",
        "            target.append(float(label))\n",
        "        \n",
        "        data = np.array(data)\n",
        "        target = np.array(target)\n",
        "    return Bunch(data=data, target=target, feature_names=feature_names)"
      ],
      "metadata": {
        "id": "Ybu72Nfxq69t"
      },
      "execution_count": null,
      "outputs": []
    },
    {
      "cell_type": "code",
      "source": [
        "from sklearn.metrics import mean_absolute_error\n",
        "from sklearn.metrics import mean_squared_error\n",
        "\n",
        "data = load_my_dataset(path)\n",
        "SKdataX = data.data\n",
        "SKdataY = data.target\n",
        "\n",
        "modelSK = linear_model.LinearRegression()\n",
        "modelSK.fit(SKdataX,SKdataY)\n",
        "\n",
        "print(\"------------------------------------------------------------------\")\n",
        "print(\"Modelo de Scikit-Learn: \",modelSK.coef_,modelSK.intercept_)\n",
        "print(\"------------------------------------------------------------------\")\n",
        "print(\"MAE: \",mean_absolute_error(SKdataY, modelSK.predict(SKdataX)))\n",
        "print(\"MSE: \",mean_squared_error(SKdataY, modelSK.predict(SKdataX)))\n",
        "print(\"------------------------------------------------------------------\")\n"
      ],
      "metadata": {
        "id": "vX8ZEX_PZ3tP",
        "colab": {
          "base_uri": "https://localhost:8080/"
        },
        "outputId": "b08b8ca7-d8be-468b-bbf5-f8206fc4e2fb"
      },
      "execution_count": null,
      "outputs": [
        {
          "output_type": "stream",
          "name": "stdout",
          "text": [
            "------------------------------------------------------------------\n",
            "Modelo de Scikit-Learn:  [ 6.02426471 -2.47485294] -0.01588235294117979\n",
            "------------------------------------------------------------------\n",
            "MAE:  0.07701680672268878\n",
            "MSE:  0.007876890756302438\n",
            "------------------------------------------------------------------\n"
          ]
        }
      ]
    },
    {
      "cell_type": "markdown",
      "source": [
        "# Regresion Lineal con Diabetes Dataset"
      ],
      "metadata": {
        "id": "PMQHJL4qJx24"
      }
    },
    {
      "cell_type": "markdown",
      "source": [
        "Lectura Dataset"
      ],
      "metadata": {
        "id": "QLBWUntyTfFg"
      }
    },
    {
      "cell_type": "code",
      "source": [
        "\n",
        "path_diabetes = '/content/gdrive/MyDrive/ColabNotebooks/IAA/diabetes.csv'\n",
        "#path_diabetes = '/content/gdrive/MyDrive/Uni/IAA/diabetes.csv'\n",
        "data = pd.read_csv(path_diabetes,header=0)\n",
        "x= data.drop(['Y'],axis=1)\n",
        "y = data['Y']\n"
      ],
      "metadata": {
        "id": "g587rKDITeT1"
      },
      "execution_count": null,
      "outputs": []
    },
    {
      "cell_type": "markdown",
      "source": [
        "## Implementacion Propia "
      ],
      "metadata": {
        "id": "Hpzk0igRKeln"
      }
    },
    {
      "cell_type": "markdown",
      "source": [
        "### Gradiente descendiente usando el MAE\n",
        "\n",
        "Volvemos a definir una funcion para el gradiente descendiente usando el MAE como función de error para incorporar mini-batches, pues sin ellos como está en la primero implementación que codificamos para el dataset de juguete el algoritmo no podía ser ejecutado.\n",
        "\n",
        "Debemos usar un learning rate extremadamente pequeño para que el modelo tenga un error aceptable."
      ],
      "metadata": {
        "id": "ayHBKdlOgykS"
      }
    },
    {
      "cell_type": "code",
      "source": [
        "def gradienteDescMAE(dataset,weights,bias,lr,epochs,maxError):\n",
        "    \n",
        "    listaErrorMAE = []\n",
        "    listaErrorMSE = []\n",
        "    coste = 10\n",
        "    epoch=0\n",
        "    x_test= dataset.drop(['Y'],axis=1)\n",
        "    y_test = dataset['Y']\n",
        "    sizeBatch=dataset.shape[0]/100\n",
        "    while coste > maxError and epoch < epochs:\n",
        "      for i in range(0,100):\n",
        "        \n",
        "        data_sample=dataset.iloc[int(i*sizeBatch):int((i+1)*sizeBatch)]\n",
        "        x=data_sample.drop(['Y'],axis=1).to_numpy()\n",
        "        y = data_sample['Y'].to_numpy()\n",
        "        yEst = x.dot(weights) + bias\n",
        "        loss = yEst - y\n",
        "        \n",
        "        for l in range(len(loss)):\n",
        "          if loss[l] < 0:\n",
        "            loss[l]=-1\n",
        "          else:\n",
        "            loss[l]=1\n",
        "        \n",
        "        \n",
        "        weight_gradient = x.T.dot(loss) / len(y)\n",
        "        bias_gradient = np.sum(loss) / len(y)\n",
        "        \n",
        "        weights = weights - lr*weight_gradient\n",
        "        bias = bias - lr*bias_gradient\n",
        "\n",
        "      \n",
        "      listaErrorMAE.append(MAE(x_test, y_test, weights, bias))\n",
        "      listaErrorMSE.append(MSE(x_test, y_test, weights, bias))\n",
        "      epoch += 1\n",
        "\n",
        "    return weights, bias, listaErrorMAE, listaErrorMSE\n",
        "\n",
        "if __name__ == \"__main__\":\n",
        "    ## Fija el learning rate\n",
        "    lr = 0.00001\n",
        "    ## Fija las epocas\n",
        "    epochs = 3000\n",
        "    ## Umbral de error permitido\n",
        "    maxError = 0.1\n",
        "    ## Variable para medir el tiempo de ejecución\n",
        "    tiempo = 0\n",
        "\n",
        "    \n",
        "    tinicio=time.time()\n",
        "    model=np.zeros(x.shape[1])  \n",
        "    for weight in range(len(model)):\n",
        "      model[weight]=rd.randint(-10,10)\n",
        "    w, b, costMAE, costMSE = gradienteDescMAE(data, model, rd.randint(-10,10), lr,epochs,maxError)\n",
        "\n",
        "    tfinal= time.time()\n",
        "    tiempo+=tfinal-tinicio\n",
        "      \n",
        "    print(\"------------------------------------------------------------------\")\n",
        "    print(\"Modelo: \", w , b)\n",
        "    print(\"------------------------------------------------------------------\")\n",
        "    print(\"Tiempo de ejecucion:\",f'{tiempo:0.6f}')\n",
        "    print(\"Error Absoluto final:\",f'{costMAE[-1]:0.6f}')\n",
        "    print(\"Error Cuadratico final:\",f'{costMSE[-1]:0.6f}')\n",
        "    print(\"------------------------------------------------------------------\")\n",
        "    \n",
        "    print(\"---MAE del entrenamiento---\")\n",
        "    print(\"------------------------------------------------------------------\")\n",
        "    plt.plot(costMAE)\n",
        "    plt.show()\n",
        "    print(\"------------------------------------------------------------------\")\n",
        "    print(\"---MSE del entrenamiento---\")\n",
        "    print(\"------------------------------------------------------------------\")\n",
        "    plt.plot(costMSE)\n",
        "    plt.show()\n",
        "    print(\"------------------------------------------------------------------\")"
      ],
      "metadata": {
        "id": "XGmiYBgMKhXj",
        "colab": {
          "base_uri": "https://localhost:8080/",
          "height": 786
        },
        "outputId": "139b659e-a91b-4b82-b80f-596bc4fd6b3d"
      },
      "execution_count": null,
      "outputs": [
        {
          "output_type": "stream",
          "name": "stdout",
          "text": [
            "------------------------------------------------------------------\n",
            "Modelo:  [ 1.70950000e-01  4.83653000e+00  2.67610920e+00  1.19875735e+00\n",
            "  1.75179700e+00 -1.79649470e+00 -3.45431750e+00 -7.82603119e+00\n",
            "  7.09033180e-03  2.49264000e-01] 7.05305099999449\n",
            "------------------------------------------------------------------\n",
            "Tiempo de ejecucion: 251.796597\n",
            "Error Absoluto final: 47.610124\n",
            "Error Cuadratico final: 3431.008924\n",
            "------------------------------------------------------------------\n",
            "---MAE del entrenamiento---\n",
            "------------------------------------------------------------------\n"
          ]
        },
        {
          "output_type": "display_data",
          "data": {
            "text/plain": [
              "<Figure size 432x288 with 1 Axes>"
            ],
            "image/png": "[encoded data removed]"
          },
          "metadata": {
            "needs_background": "light"
          }
        },
        {
          "output_type": "stream",
          "name": "stdout",
          "text": [
            "------------------------------------------------------------------\n",
            "---MSE del entrenamiento---\n",
            "------------------------------------------------------------------\n"
          ]
        },
        {
          "output_type": "display_data",
          "data": {
            "text/plain": [
              "<Figure size 432x288 with 1 Axes>"
            ],
            "image/png": "[encoded data removed]"
          },
          "metadata": {
            "needs_background": "light"
          }
        },
        {
          "output_type": "stream",
          "name": "stdout",
          "text": [
            "------------------------------------------------------------------\n"
          ]
        }
      ]
    },
    {
      "cell_type": "markdown",
      "source": [
        "Como podemos ver obtenemos un modelo mejor que el propuesto por las librerías aunque en más tiempo. El learning rate debe ser muy pequeño para que los pesos se ajusten correctamente. El MSE es tan elevado porque hay instancias del dataset que no se ajustan bien al modelo con lo que al sumar los cuadrados el error se dispara (además estamos usando como funcion de error el MAE, el MSE es meramente ilustrativo)"
      ],
      "metadata": {
        "id": "JrsHN6ZIbjt-"
      }
    },
    {
      "cell_type": "markdown",
      "source": [
        "### Gradiente descendiente usando el MSE\n",
        "\n",
        "Volvemos a definir una funcion para el gradiente descendiente usando el MSE como función de error para incorporar mini-batches, pues sin ellos como está en la primero implementación que codificamos para el dataset de juguete el algoritmo no podía ser ejecutado. \n",
        "\n",
        "Debemos usar un learning rate extremadamente pequeño para que el modelo tenga un error aceptable."
      ],
      "metadata": {
        "id": "Px4_wv6iTweS"
      }
    },
    {
      "cell_type": "code",
      "source": [
        "def gradienteDescMSE(dataset,weights,bias,lr,epochs,maxError):\n",
        "    listaErrorMAE = []\n",
        "    listaErrorMSE = []\n",
        "    coste = 10\n",
        "    epoch=0\n",
        "    x_test= dataset.drop(['Y'],axis=1)\n",
        "    y_test = dataset['Y']\n",
        "    sizeBatch=dataset.shape[0]/100\n",
        "\n",
        "    while coste > maxError and epoch < epochs:\n",
        "      for i in range(0,100):\n",
        "        \n",
        "        data_sample=dataset.iloc[int(i*sizeBatch):int((i+1)*sizeBatch)]\n",
        "        x=data_sample.drop(['Y'],axis=1).to_numpy()\n",
        "        y = data_sample['Y'].to_numpy()\n",
        "        yEst = x.dot(weights) + bias\n",
        "        loss = yEst - y\n",
        "        \n",
        "        weight_gradient = x.T.dot(loss) / len(y)\n",
        "        bias_gradient = np.sum(loss) / len(y)\n",
        "        \n",
        "        weights = weights - lr*weight_gradient\n",
        "        bias = bias - lr*bias_gradient\n",
        "\n",
        "      \n",
        "      listaErrorMAE.append(MAE(x_test, y_test, weights, bias))\n",
        "      listaErrorMSE.append(MSE(x_test, y_test, weights, bias))\n",
        "      epoch += 1\n",
        "\n",
        "    return weights, bias, listaErrorMAE, listaErrorMSE\n",
        "\n",
        "\n",
        "if __name__ == \"__main__\":\n",
        "    ## Fija el learning rate\n",
        "    lr = 0.00000005\n",
        "    ## Fija las epocas\n",
        "    epochs = 4000\n",
        "    ## Umbral de error permitido\n",
        "    maxError = 0.1\n",
        "    ## Variable para medir el tiempo de ejecución\n",
        "    tiempo = 0   \n",
        "\n",
        "    tinicio=time.time()\n",
        "    model=np.zeros(x.shape[1])  \n",
        "    for weight in range(len(model)):\n",
        "      model[weight]=rd.randint(-10,10)\n",
        "    w, b, costMAE, costMSE = gradienteDescMSE(data, model, rd.randint(-10,10), lr,epochs,maxError)\n",
        "\n",
        "    tfinal= time.time()\n",
        "    tiempo+=tfinal-tinicio\n",
        "    \n",
        "    print(\"------------------------------------------------------------------\")\n",
        "    print(\"Modelo: \", w , b)\n",
        "    print(\"------------------------------------------------------------------\")\n",
        "    print(\"Tiempo de ejecucion:\",f'{tiempo:0.6f}')\n",
        "    print(\"Error Absoluto final:\",f'{costMAE[-1]:0.6f}')\n",
        "    print(\"Error Cuadratico final:\",f'{costMSE[-1]:0.6f}')\n",
        "    print(\"------------------------------------------------------------------\")\n",
        "    \n",
        "    print(\"---MAE del entrenamiento---\")\n",
        "    print(\"------------------------------------------------------------------\")\n",
        "    plt.plot(costMAE)\n",
        "    plt.show()\n",
        "    print(\"------------------------------------------------------------------\")\n",
        "    print(\"---MSE del entrenamiento---\")\n",
        "    print(\"------------------------------------------------------------------\")\n",
        "    plt.plot(costMSE)\n",
        "    plt.show()\n",
        "    print(\"------------------------------------------------------------------\")"
      ],
      "metadata": {
        "id": "ZGuDZk_n-lfa",
        "colab": {
          "base_uri": "https://localhost:8080/",
          "height": 773
        },
        "outputId": "0bcab429-29fe-4ef2-c02c-989e7d218d7b"
      },
      "execution_count": null,
      "outputs": [
        {
          "output_type": "stream",
          "name": "stdout",
          "text": [
            "------------------------------------------------------------------\n",
            "Modelo:  [ 4.10988600e-01  5.64918391e+00  8.15059195e-01  1.78732790e+00\n",
            "  1.48768243e-01  9.73089189e-02 -2.16969875e+00 -9.41004462e+00\n",
            "  8.30394128e-03  3.62333173e-01] 6.000430342219042\n",
            "------------------------------------------------------------------\n",
            "Tiempo de ejecucion: 336.257510\n",
            "Error Absoluto final: 52.298921\n",
            "Error Cuadratico final: 4111.920344\n",
            "------------------------------------------------------------------\n",
            "---MAE del entrenamiento---\n",
            "------------------------------------------------------------------\n"
          ]
        },
        {
          "output_type": "display_data",
          "data": {
            "text/plain": [
              "<Figure size 432x288 with 1 Axes>"
            ],
            "image/png": "[encoded data removed]"
          },
          "metadata": {
            "needs_background": "light"
          }
        },
        {
          "output_type": "stream",
          "name": "stdout",
          "text": [
            "------------------------------------------------------------------\n",
            "---MSE del entrenamiento---\n",
            "------------------------------------------------------------------\n"
          ]
        },
        {
          "output_type": "display_data",
          "data": {
            "text/plain": [
              "<Figure size 432x288 with 1 Axes>"
            ],
            "image/png": "[encoded data removed]"
          },
          "metadata": {
            "needs_background": "light"
          }
        },
        {
          "output_type": "stream",
          "name": "stdout",
          "text": [
            "------------------------------------------------------------------\n"
          ]
        }
      ]
    },
    {
      "cell_type": "markdown",
      "source": [
        "De igual manera que en gradiente descendiente usando el MAE como funcion de error, aquí debemos usar un learning rate minúsculo para que los pesos se ajusten correctamente y el modelo converja. De igual forma, nuestra implementación necesita muchas más epocas que las librerías para obtener un resultado ligeramente mejor. "
      ],
      "metadata": {
        "id": "w6cqHMgGemZD"
      }
    },
    {
      "cell_type": "markdown",
      "source": [
        "## Turi Create"
      ],
      "metadata": {
        "id": "Mv6AEvzeGVWc"
      }
    },
    {
      "cell_type": "code",
      "source": [
        "\n",
        "dataTC =  tc.SFrame(data)\n",
        "model = tc.linear_regression.create(dataTC, target='Y', features = list(x),max_iterations=maxiterations)\n",
        "print(model.coefficients)\n"
      ],
      "metadata": {
        "id": "vsw8Lab3Ga6L",
        "colab": {
          "base_uri": "https://localhost:8080/",
          "height": 607
        },
        "outputId": "5d5f5579-d256-43fa-9ec4-65a1f353d1a4"
      },
      "execution_count": null,
      "outputs": [
        {
          "output_type": "stream",
          "name": "stdout",
          "text": [
            "PROGRESS: Creating a validation set from 5 percent of training data. This may take a while.\n",
            "          You can set ``validation_set=None`` to disable validation tracking.\n",
            "\n"
          ]
        },
        {
          "output_type": "display_data",
          "data": {
            "text/plain": [
              "Linear regression:"
            ],
            "text/html": [
              "<pre>Linear regression:</pre>"
            ]
          },
          "metadata": {}
        },
        {
          "output_type": "display_data",
          "data": {
            "text/plain": [
              "--------------------------------------------------------"
            ],
            "text/html": [
              "<pre>--------------------------------------------------------</pre>"
            ]
          },
          "metadata": {}
        },
        {
          "output_type": "display_data",
          "data": {
            "text/plain": [
              "Number of examples          : 419"
            ],
            "text/html": [
              "<pre>Number of examples          : 419</pre>"
            ]
          },
          "metadata": {}
        },
        {
          "output_type": "display_data",
          "data": {
            "text/plain": [
              "Number of features          : 10"
            ],
            "text/html": [
              "<pre>Number of features          : 10</pre>"
            ]
          },
          "metadata": {}
        },
        {
          "output_type": "display_data",
          "data": {
            "text/plain": [
              "Number of unpacked features : 10"
            ],
            "text/html": [
              "<pre>Number of unpacked features : 10</pre>"
            ]
          },
          "metadata": {}
        },
        {
          "output_type": "display_data",
          "data": {
            "text/plain": [
              "Number of coefficients    : 11"
            ],
            "text/html": [
              "<pre>Number of coefficients    : 11</pre>"
            ]
          },
          "metadata": {}
        },
        {
          "output_type": "display_data",
          "data": {
            "text/plain": [
              "Starting Newton Method"
            ],
            "text/html": [
              "<pre>Starting Newton Method</pre>"
            ]
          },
          "metadata": {}
        },
        {
          "output_type": "display_data",
          "data": {
            "text/plain": [
              "--------------------------------------------------------"
            ],
            "text/html": [
              "<pre>--------------------------------------------------------</pre>"
            ]
          },
          "metadata": {}
        },
        {
          "output_type": "display_data",
          "data": {
            "text/plain": [
              "+-----------+----------+--------------+--------------------+----------------------+---------------------------------+-----------------------------------+"
            ],
            "text/html": [
              "<pre>+-----------+----------+--------------+--------------------+----------------------+---------------------------------+-----------------------------------+</pre>"
            ]
          },
          "metadata": {}
        },
        {
          "output_type": "display_data",
          "data": {
            "text/plain": [
              "| Iteration | Passes   | Elapsed Time | Training Max Error | Validation Max Error | Training Root-Mean-Square Error | Validation Root-Mean-Square Error |"
            ],
            "text/html": [
              "<pre>| Iteration | Passes   | Elapsed Time | Training Max Error | Validation Max Error | Training Root-Mean-Square Error | Validation Root-Mean-Square Error |</pre>"
            ]
          },
          "metadata": {}
        },
        {
          "output_type": "display_data",
          "data": {
            "text/plain": [
              "+-----------+----------+--------------+--------------------+----------------------+---------------------------------+-----------------------------------+"
            ],
            "text/html": [
              "<pre>+-----------+----------+--------------+--------------------+----------------------+---------------------------------+-----------------------------------+</pre>"
            ]
          },
          "metadata": {}
        },
        {
          "output_type": "display_data",
          "data": {
            "text/plain": [
              "| 1         | 2        | 0.003306     | 145.631830         | 92.098148            | 54.997586                       | 45.123190                         |"
            ],
            "text/html": [
              "<pre>| 1         | 2        | 0.003306     | 145.631830         | 92.098148            | 54.997586                       | 45.123190                         |</pre>"
            ]
          },
          "metadata": {}
        },
        {
          "output_type": "display_data",
          "data": {
            "text/plain": [
              "+-----------+----------+--------------+--------------------+----------------------+---------------------------------+-----------------------------------+"
            ],
            "text/html": [
              "<pre>+-----------+----------+--------------+--------------------+----------------------+---------------------------------+-----------------------------------+</pre>"
            ]
          },
          "metadata": {}
        },
        {
          "output_type": "display_data",
          "data": {
            "text/plain": [
              "SUCCESS: Optimal solution found."
            ],
            "text/html": [
              "<pre>SUCCESS: Optimal solution found.</pre>"
            ]
          },
          "metadata": {}
        },
        {
          "output_type": "display_data",
          "data": {
            "text/plain": [
              ""
            ],
            "text/html": [
              "<pre></pre>"
            ]
          },
          "metadata": {}
        },
        {
          "output_type": "stream",
          "name": "stdout",
          "text": [
            "+-------------+-------+-----------------------+-----------------------+\n",
            "|     name    | index |         value         |         stderr        |\n",
            "+-------------+-------+-----------------------+-----------------------+\n",
            "| (intercept) |  None |   -94.16668970678957  |   42.07025373138806   |\n",
            "|     AGE     |  None |  0.037625740574591574 |  0.22870448025277113  |\n",
            "|     SEX     |  None |  -22.634249119795367  |   6.149634776692398   |\n",
            "|     BMI     |  None |   6.260071026816952   |   0.7652066528228906  |\n",
            "|      BP     |  None |   1.1599665341622365  |   0.2358158738128965  |\n",
            "|      S1     |  None |   1.0389395541387048  |   0.2776722277195638  |\n",
            "|      S2     |  None |  -1.2071358784278692  |  0.25229884391536533  |\n",
            "|      S3     |  None |   -2.055236656110563  |   0.5806697127766871  |\n",
            "|      S4     |  None |   4.017951438265353   |   6.248955844717162   |\n",
            "|      S5     |  None | 0.0024036967788501513 | 0.0017889910304169437 |\n",
            "+-------------+-------+-----------------------+-----------------------+\n",
            "[11 rows x 4 columns]\n",
            "Note: Only the head of the SFrame is printed.\n",
            "You can use print_rows(num_rows=m, num_columns=n) to print more rows and columns.\n"
          ]
        }
      ]
    },
    {
      "cell_type": "markdown",
      "source": [
        "## Scikit-Learn"
      ],
      "metadata": {
        "id": "3wJqGz73KZRe"
      }
    },
    {
      "cell_type": "code",
      "source": [
        "\n",
        "modelSK = linear_model.LinearRegression()\n",
        "modelSK.fit(x,y)\n",
        "\n",
        "print(\"------------------------------------------------------------------\")\n",
        "print(\"Modelo de Scikit-Learn: \",modelSK.coef_,modelSK.intercept_)\n",
        "print(\"------------------------------------------------------------------\")\n",
        "print(\"MAE: \",mean_absolute_error(y, modelSK.predict(x)))\n",
        "print(\"MSE: \",mean_squared_error(y, modelSK.predict(x)))\n",
        "print(\"------------------------------------------------------------------\")"
      ],
      "metadata": {
        "id": "TVUEcO1BKb4d",
        "colab": {
          "base_uri": "https://localhost:8080/"
        },
        "outputId": "3a321539-57a6-48e4-c361-9002e3558187"
      },
      "execution_count": null,
      "outputs": [
        {
          "output_type": "stream",
          "name": "stdout",
          "text": [
            "------------------------------------------------------------------\n",
            "Modelo de Scikit-Learn:  [ 3.95824222e-02 -2.31526529e+01  6.08003322e+00  1.18478471e+00\n",
            "  1.07425010e+00 -1.28664482e+00 -1.98032326e+00  4.80684966e+00\n",
            "  2.72768617e-03  3.67761457e-01] -98.967228105016\n",
            "------------------------------------------------------------------\n",
            "MAE:  44.33674816846333\n",
            "MSE:  2969.647450778031\n",
            "------------------------------------------------------------------\n"
          ]
        }
      ]
    },
    {
      "cell_type": "markdown",
      "source": [
        "# Error Lasso y Ridge"
      ],
      "metadata": {
        "id": "lsY7Yx7zKuck"
      }
    },
    {
      "cell_type": "markdown",
      "source": [
        "## Implementacion Propia"
      ],
      "metadata": {
        "id": "vYBliLZWIGX2"
      }
    },
    {
      "cell_type": "code",
      "source": [
        "def errorLasso(weights):\n",
        "  suma=0.0\n",
        "  for x in weights:\n",
        "    suma += abs(x)\n",
        "  return suma\n",
        "\n",
        "def errorRidge(model):\n",
        "  suma=0.0\n",
        "  for x in model:\n",
        "    suma += x*x\n",
        "  return suma\n"
      ],
      "metadata": {
        "id": "_BizvG8YH1xy"
      },
      "execution_count": null,
      "outputs": []
    },
    {
      "cell_type": "markdown",
      "source": [
        "### Gradiente descentiente usando el MAE - Lasso / Ridge"
      ],
      "metadata": {
        "id": "Mbj4B2tNLwch"
      }
    },
    {
      "cell_type": "code",
      "source": [
        "\n",
        "def gradienteDescMAELasso(dataset,weights,bias,lr,epochs,maxError,regularizacion):\n",
        "    \n",
        "    listaErrorMAE = []\n",
        "    listaErrorMSE = []\n",
        "    coste = 10\n",
        "    epoch=0\n",
        "    x_test= dataset.drop(['Y'],axis=1)\n",
        "    y_test = dataset['Y']\n",
        "    sizeBatch=dataset.shape[0]/100\n",
        "    while coste > maxError and epoch < epochs:        \n",
        "      yEst = x.dot(weights) + bias\n",
        "      loss = yEst - y\n",
        "      \n",
        "      for l in range(len(loss)):\n",
        "        if loss[l] < 0:\n",
        "          loss[l]=-1\n",
        "        else:\n",
        "          loss[l]=1\n",
        "      \n",
        "      weight_gradient = x.T.dot(loss) / len(y) + regularizacion*errorLasso(weights)\n",
        "      bias_gradient = np.sum(loss) / len(y) \n",
        "\n",
        "      weights = weights - lr*weight_gradient \n",
        "      bias = bias - lr*bias_gradient\n",
        "      \n",
        "      listaErrorMAE.append(MAE(x_test, y_test, weights, bias))\n",
        "      listaErrorMSE.append(MSE(x_test, y_test, weights, bias))\n",
        "      epoch += 1\n",
        "\n",
        "    return weights, bias, listaErrorMAE, listaErrorMSE\n",
        "\n",
        "def gradienteDescMAERidge(dataset,weights,bias,lr,epochs,maxError,regularizacion):\n",
        "    \n",
        "    listaErrorMAE = []\n",
        "    listaErrorMSE = []\n",
        "    coste = 10\n",
        "    epoch=0\n",
        "    x_test= dataset.drop(['Y'],axis=1)\n",
        "    y_test = dataset['Y']\n",
        "    sizeBatch=dataset.shape[0]/100\n",
        "    while coste > maxError and epoch < epochs:\n",
        "      yEst = x.dot(weights) + bias\n",
        "      loss = yEst - y\n",
        "      \n",
        "      for l in range(len(loss)):\n",
        "        if loss[l] < 0:\n",
        "          loss[l]=-1\n",
        "        else:\n",
        "          loss[l]=1\n",
        "      \n",
        "      weight_gradient = x.T.dot(loss) / len(y) + regularizacion*errorRidge(weights)\n",
        "      bias_gradient = np.sum(loss) / len(y) \n",
        "      \n",
        "      weights = weights - lr*weight_gradient \n",
        "      bias = bias - lr*bias_gradient\n",
        "\n",
        "      listaErrorMAE.append(MAE(x_test, y_test, weights, bias))\n",
        "      listaErrorMSE.append(MSE(x_test, y_test, weights, bias))\n",
        "      epoch += 1\n",
        "\n",
        "    return weights, bias, listaErrorMAE, listaErrorMSE\n",
        "\n",
        "if __name__ == \"__main__\":\n",
        "    ## Fija el learning rate\n",
        "    lr = 0.00001\n",
        "    ## Fija las epocas\n",
        "    epochs = 5000\n",
        "    ## Umbral de error permitido\n",
        "    maxError = 0.01\n",
        "    ## Termino de regularizacion\n",
        "    regularizacion = 1\n",
        "\n",
        "    #Lasso\n",
        "\n",
        "    w, b, costMAE, costMSE = gradienteDescMAELasso(data, np.zeros(x.shape[1]), 0, lr,epochs,maxError,regularizacion)\n",
        "\n",
        "    print(\"------------------------------------------------------------------\")\n",
        "    print(\"Modelo MAE Lasso: \", w , b)\n",
        "    print(\"------------------------------------------------------------------\")\n",
        "    print(\"Error Absoluto final:\",f'{costMAE[-1]:0.6f}')\n",
        "    print(\"Error Cuadratico final:\",f'{costMSE[-1]:0.6f}')\n",
        "    print(\"------------------------------------------------------------------\")\n",
        "    \n",
        "    print(\"---MAE del entrenamiento---\")\n",
        "    print(\"------------------------------------------------------------------\")\n",
        "    plt.plot(costMAE)\n",
        "    plt.show()\n",
        "    print(\"------------------------------------------------------------------\")\n",
        "    print(\"---MSE del entrenamiento---\")\n",
        "    print(\"------------------------------------------------------------------\")\n",
        "    plt.plot(costMSE)\n",
        "    plt.show()\n",
        "    print(\"------------------------------------------------------------------\")\n",
        "\n",
        "    #Ridge\n",
        "    w, b, costMAE, costMSE = gradienteDescMAERidge(data, np.zeros(x.shape[1]), 0, lr,epochs,maxError,regularizacion)\n",
        "    print(\"------------------------------------------------------------------\")\n",
        "    print(\"Modelo MAE Ridge: \", w , b)\n",
        "    print(\"------------------------------------------------------------------\")\n",
        "    print(\"Error Absoluto final:\",f'{costMAE[-1]:0.6f}')\n",
        "    print(\"Error Cuadratico final:\",f'{costMSE[-1]:0.6f}')\n",
        "    print(\"------------------------------------------------------------------\")\n",
        "    \n",
        "    print(\"---MAE del entrenamiento---\")\n",
        "    print(\"------------------------------------------------------------------\")\n",
        "    plt.plot(costMAE)\n",
        "    plt.show()\n",
        "    print(\"------------------------------------------------------------------\")\n",
        "    print(\"---MSE del entrenamiento---\")\n",
        "    print(\"------------------------------------------------------------------\")\n",
        "    plt.plot(costMSE)\n",
        "    plt.show()\n",
        "    print(\"------------------------------------------------------------------\")"
      ],
      "metadata": {
        "colab": {
          "base_uri": "https://localhost:8080/",
          "height": 1000
        },
        "id": "QRQnZ0BEGEM0",
        "outputId": "4994aa07-9bec-4c17-ae30-4a7ab3815e2b"
      },
      "execution_count": null,
      "outputs": [
        {
          "output_type": "stream",
          "name": "stdout",
          "text": [
            "------------------------------------------------------------------\n",
            "Modelo MAE Lasso:  AGE    0.097077\n",
            "SEX   -0.060240\n",
            "BMI    0.078969\n",
            "BP     0.331892\n",
            "S1     0.358491\n",
            "S2     0.168288\n",
            "S3    -0.173117\n",
            "S4    -0.038393\n",
            "S5     0.005476\n",
            "S6     0.243322\n",
            "dtype: float64 0.002095746606334659\n",
            "------------------------------------------------------------------\n",
            "Error Absoluto final: 60.133832\n",
            "Error Cuadratico final: 5227.694361\n",
            "------------------------------------------------------------------\n",
            "---MAE del entrenamiento---\n",
            "------------------------------------------------------------------\n"
          ]
        },
        {
          "output_type": "display_data",
          "data": {
            "text/plain": [
              "<Figure size 432x288 with 1 Axes>"
            ],
            "image/png": "[encoded data removed]"
          },
          "metadata": {
            "needs_background": "light"
          }
        },
        {
          "output_type": "stream",
          "name": "stdout",
          "text": [
            "------------------------------------------------------------------\n",
            "---MSE del entrenamiento---\n",
            "------------------------------------------------------------------\n"
          ]
        },
        {
          "output_type": "display_data",
          "data": {
            "text/plain": [
              "<Figure size 432x288 with 1 Axes>"
            ],
            "image/png": "[encoded data removed]"
          },
          "metadata": {
            "needs_background": "light"
          }
        },
        {
          "output_type": "stream",
          "name": "stdout",
          "text": [
            "------------------------------------------------------------------\n",
            "------------------------------------------------------------------\n",
            "Modelo MAE Ridge:  AGE    0.125289\n",
            "SEX   -0.012238\n",
            "BMI    0.117196\n",
            "BP     0.343285\n",
            "S1     0.332690\n",
            "S2     0.170315\n",
            "S3    -0.143363\n",
            "S4     0.008569\n",
            "S5     0.005661\n",
            "S6     0.253470\n",
            "dtype: float64 0.0016651131221719787\n",
            "------------------------------------------------------------------\n",
            "Error Absoluto final: 60.098817\n",
            "Error Cuadratico final: 5182.655954\n",
            "------------------------------------------------------------------\n",
            "---MAE del entrenamiento---\n",
            "------------------------------------------------------------------\n"
          ]
        },
        {
          "output_type": "display_data",
          "data": {
            "text/plain": [
              "<Figure size 432x288 with 1 Axes>"
            ],
            "image/png": "[encoded data removed]"
          },
          "metadata": {
            "needs_background": "light"
          }
        },
        {
          "output_type": "stream",
          "name": "stdout",
          "text": [
            "------------------------------------------------------------------\n",
            "---MSE del entrenamiento---\n",
            "------------------------------------------------------------------\n"
          ]
        },
        {
          "output_type": "display_data",
          "data": {
            "text/plain": [
              "<Figure size 432x288 with 1 Axes>"
            ],
            "image/png": "[encoded data removed]"
          },
          "metadata": {
            "needs_background": "light"
          }
        },
        {
          "output_type": "stream",
          "name": "stdout",
          "text": [
            "------------------------------------------------------------------\n"
          ]
        }
      ]
    },
    {
      "cell_type": "markdown",
      "source": [
        "### Gradiente descendiente usando el MSE - Lasso / Ridge"
      ],
      "metadata": {
        "id": "ziT96U_VGulf"
      }
    },
    {
      "cell_type": "code",
      "source": [
        "\n",
        "def gradienteDescMSELasso(data,weights,bias,lr,epochs,maxError,regularizacion):\n",
        "    \n",
        "    listaErrorMAE = []\n",
        "    listaErrorMSE = []\n",
        "    coste = 10\n",
        "    epoch = 0\n",
        "    while coste > maxError and epoch < epochs:\n",
        "      yEst = x.dot(weights) + bias\n",
        "      loss = yEst - y\n",
        "\n",
        "      weight_gradient = x.T.dot(loss) / len(y) + regularizacion*errorLasso(weights)\n",
        "      bias_gradient = np.sum(loss) / len(y)\n",
        "      \n",
        "      weights = weights - lr * weight_gradient\n",
        "      bias = bias - lr * bias_gradient \n",
        "\n",
        "      listaErrorMAE.append(MAE(x, y, weights, bias))\n",
        "      listaErrorMSE.append(MSE(x, y, weights, bias))\n",
        "      epoch += 1\n",
        "\n",
        "    return weights, bias, listaErrorMAE, listaErrorMSE\n",
        "\n",
        "def gradienteDescMSERidge(data,weights,bias,lr,epochs,maxError,regularizacion):\n",
        "    \n",
        "    listaErrorMAE = []\n",
        "    listaErrorMSE = []\n",
        "    coste = 10\n",
        "    epoch = 0\n",
        "    while coste > maxError and epoch < epochs:\n",
        "      yEst = x.dot(weights) + bias\n",
        "      loss = yEst - y\n",
        "\n",
        "      weight_gradient = x.T.dot(loss) / len(y) + regularizacion*errorRidge(weights)\n",
        "      bias_gradient = np.sum(loss) / len(y)\n",
        "      \n",
        "      weights = weights - lr * weight_gradient \n",
        "      bias = bias - lr * bias_gradient \n",
        "\n",
        "      listaErrorMAE.append(MAE(x, y, weights, bias))\n",
        "      listaErrorMSE.append(MSE(x, y, weights, bias))\n",
        "      epoch += 1\n",
        "\n",
        "    return weights, bias, listaErrorMAE, listaErrorMSE\n",
        "\n",
        "if __name__ == \"__main__\":\n",
        "    ## Fija el learning rate\n",
        "    lr = 0.0000001\n",
        "    ## Fija las epocas\n",
        "    epochs = 5000\n",
        "    ## Umbral de error permitido\n",
        "    maxError = 0.01\n",
        "    ## Termino de regularizacion\n",
        "    regularizacion = 1\n",
        "\n",
        "    #Lasso\n",
        "\n",
        "    w, b, costMAE, costMSE = gradienteDescMSELasso(data, np.zeros(x.shape[1]), 0, lr, epochs, maxError, regularizacion)\n",
        "\n",
        "    print(\"------------------------------------------------------------------\")\n",
        "    print(\"Modelo MAE Lasso: \", w , b)\n",
        "    print(\"------------------------------------------------------------------\")\n",
        "    print(\"Error Absoluto final:\",f'{costMAE[-1]:0.6f}')\n",
        "    print(\"Error Cuadratico final:\",f'{costMSE[-1]:0.6f}')\n",
        "    print(\"------------------------------------------------------------------\")\n",
        "    \n",
        "    print(\"---MAE del entrenamiento---\")\n",
        "    print(\"------------------------------------------------------------------\")\n",
        "    plt.plot(costMAE)\n",
        "    plt.show()\n",
        "    print(\"------------------------------------------------------------------\")\n",
        "    print(\"---MSE del entrenamiento---\")\n",
        "    print(\"------------------------------------------------------------------\")\n",
        "    plt.plot(costMSE)\n",
        "    plt.show()\n",
        "    print(\"------------------------------------------------------------------\")\n",
        "\n",
        "    #Ridge\n",
        "    w, b, costMAE, costMSE = gradienteDescMSERidge(data, np.zeros(x.shape[1]), 0, lr, epochs, maxError, regularizacion)\n",
        "    print(\"------------------------------------------------------------------\")\n",
        "    print(\"Modelo MAE Ridge: \", w , b)\n",
        "    print(\"------------------------------------------------------------------\")\n",
        "    print(\"Error Absoluto final:\",f'{costMAE[-1]:0.6f}')\n",
        "    print(\"Error Cuadratico final:\",f'{costMSE[-1]:0.6f}')\n",
        "    print(\"------------------------------------------------------------------\")\n",
        "    \n",
        "    print(\"---MAE del entrenamiento---\")\n",
        "    print(\"------------------------------------------------------------------\")\n",
        "    plt.plot(costMAE)\n",
        "    plt.show()\n",
        "    print(\"------------------------------------------------------------------\")\n",
        "    print(\"---MSE del entrenamiento---\")\n",
        "    print(\"------------------------------------------------------------------\")\n",
        "    plt.plot(costMSE)\n",
        "    plt.show()\n",
        "    print(\"------------------------------------------------------------------\")"
      ],
      "metadata": {
        "id": "gki1b5-GLsO8",
        "colab": {
          "base_uri": "https://localhost:8080/",
          "height": 1000
        },
        "outputId": "079e66a1-5373-4093-b813-f586c03bb003"
      },
      "execution_count": null,
      "outputs": [
        {
          "output_type": "stream",
          "name": "stdout",
          "text": [
            "------------------------------------------------------------------\n",
            "Modelo MAE Lasso:  AGE    0.144278\n",
            "SEX    0.002485\n",
            "BMI    0.137427\n",
            "BP     0.368487\n",
            "S1     0.331572\n",
            "S2     0.157160\n",
            "S3    -0.074570\n",
            "S4     0.020606\n",
            "S5     0.003889\n",
            "S6     0.298992\n",
            "dtype: float64 0.002127633683068306\n",
            "------------------------------------------------------------------\n",
            "Error Absoluto final: 60.517761\n",
            "Error Cuadratico final: 5095.938561\n",
            "------------------------------------------------------------------\n",
            "---MAE del entrenamiento---\n",
            "------------------------------------------------------------------\n"
          ]
        },
        {
          "output_type": "display_data",
          "data": {
            "text/plain": [
              "<Figure size 432x288 with 1 Axes>"
            ],
            "image/png": "[encoded data removed]"
          },
          "metadata": {
            "needs_background": "light"
          }
        },
        {
          "output_type": "stream",
          "name": "stdout",
          "text": [
            "------------------------------------------------------------------\n",
            "---MSE del entrenamiento---\n",
            "------------------------------------------------------------------\n"
          ]
        },
        {
          "output_type": "display_data",
          "data": {
            "text/plain": [
              "<Figure size 432x288 with 1 Axes>"
            ],
            "image/png": "[encoded data removed]"
          },
          "metadata": {
            "needs_background": "light"
          }
        },
        {
          "output_type": "stream",
          "name": "stdout",
          "text": [
            "------------------------------------------------------------------\n",
            "------------------------------------------------------------------\n",
            "Modelo MAE Ridge:  AGE    0.144561\n",
            "SEX    0.002982\n",
            "BMI    0.137816\n",
            "BP     0.368573\n",
            "S1     0.331297\n",
            "S2     0.157200\n",
            "S3    -0.074286\n",
            "S4     0.021094\n",
            "S5     0.003887\n",
            "S6     0.299098\n",
            "dtype: float64 0.002123282137254545\n",
            "------------------------------------------------------------------\n",
            "Error Absoluto final: 60.518116\n",
            "Error Cuadratico final: 5095.801029\n",
            "------------------------------------------------------------------\n",
            "---MAE del entrenamiento---\n",
            "------------------------------------------------------------------\n"
          ]
        },
        {
          "output_type": "display_data",
          "data": {
            "text/plain": [
              "<Figure size 432x288 with 1 Axes>"
            ],
            "image/png": "[encoded data removed]"
          },
          "metadata": {
            "needs_background": "light"
          }
        },
        {
          "output_type": "stream",
          "name": "stdout",
          "text": [
            "------------------------------------------------------------------\n",
            "---MSE del entrenamiento---\n",
            "------------------------------------------------------------------\n"
          ]
        },
        {
          "output_type": "display_data",
          "data": {
            "text/plain": [
              "<Figure size 432x288 with 1 Axes>"
            ],
            "image/png": "[encoded data removed]"
          },
          "metadata": {
            "needs_background": "light"
          }
        },
        {
          "output_type": "stream",
          "name": "stdout",
          "text": [
            "------------------------------------------------------------------\n"
          ]
        }
      ]
    },
    {
      "cell_type": "markdown",
      "source": [
        "##Turi Create"
      ],
      "metadata": {
        "id": "bgjTEKUYiQyO"
      }
    },
    {
      "cell_type": "code",
      "source": [
        "dataTC =  tc.SFrame(data)\n",
        "\n",
        "model_ridge = tc.linear_regression.create(dataTC, target='Y', features = list(x), verbose=False, l2_penalty=0.5)\n",
        "model_lasso = tc.linear_regression.create(dataTC, target='Y', features = list(x), verbose=False, l1_penalty=0.5)\n",
        "model_enet  = tc.linear_regression.create(dataTC, target='Y', features = list(x), verbose=False, l2_penalty=0.5, l1_penalty=0.5)\n",
        "\n",
        "print(\"------------------------------------------------------------------\")\n",
        "print(\"Modelo Ridge Turi Create:\")\n",
        "print(model_ridge.coefficients)\n",
        "print(\"------------------------------------------------------------------\")\n",
        "print(\"------------------------------------------------------------------\")\n",
        "print(\"Modelo Lasso Turi Create:\")\n",
        "print(model_lasso.coefficients)\n",
        "print(\"------------------------------------------------------------------\")\n",
        "print(\"------------------------------------------------------------------\")\n",
        "print(\"Modelo ElasticNet Turi Create:\")\n",
        "print(model_enet.coefficients)\n",
        "print(\"------------------------------------------------------------------\")\n"
      ],
      "metadata": {
        "id": "3lsoiqupiQTQ",
        "colab": {
          "base_uri": "https://localhost:8080/"
        },
        "outputId": "6f26e11f-946c-40bb-988b-6a9163464a84"
      },
      "execution_count": null,
      "outputs": [
        {
          "output_type": "stream",
          "name": "stdout",
          "text": [
            "------------------------------------------------------------------\n",
            "Modelo Ridge Turi Create:\n",
            "+-------------+-------+-----------------------+-----------------------+\n",
            "|     name    | index |         value         |         stderr        |\n",
            "+-------------+-------+-----------------------+-----------------------+\n",
            "| (intercept) |  None |  -108.71118103658773  |   41.24929753458036   |\n",
            "|     AGE     |  None |  0.06095441008143381  |  0.22706575070253598  |\n",
            "|     SEX     |  None |  -22.907596605627827  |   6.122401698628652   |\n",
            "|     BMI     |  None |   5.7395643030630845  |   0.7370490316099005  |\n",
            "|      BP     |  None |   1.2172267954455698  |  0.23562184417278767  |\n",
            "|      S1     |  None |   0.5921287644013719  |   0.2794046528675885  |\n",
            "|      S2     |  None |  -0.8989972794912278  |  0.25169259031952046  |\n",
            "|      S3     |  None |  -1.3569666695228813  |   0.5749445697130239  |\n",
            "|      S4     |  None |   10.184995042124822  |   6.233608652953595   |\n",
            "|      S5     |  None | 0.0029470552172909358 | 0.0018020880503569917 |\n",
            "+-------------+-------+-----------------------+-----------------------+\n",
            "[11 rows x 4 columns]\n",
            "Note: Only the head of the SFrame is printed.\n",
            "You can use print_rows(num_rows=m, num_columns=n) to print more rows and columns.\n",
            "------------------------------------------------------------------\n",
            "------------------------------------------------------------------\n",
            "Modelo Lasso Turi Create:\n",
            "+-------------+-------+----------------------+--------+\n",
            "|     name    | index |        value         | stderr |\n",
            "+-------------+-------+----------------------+--------+\n",
            "| (intercept) |  None |  13.717074983006167  |  None  |\n",
            "|     AGE     |  None | 0.31409444588554014  |  None  |\n",
            "|     SEX     |  None |   7.35533699487827   |  None  |\n",
            "|     BMI     |  None |  0.8328528642593473  |  None  |\n",
            "|      BP     |  None |  0.1965137528413674  |  None  |\n",
            "|      S1     |  None | 0.07818393889144633  |  None  |\n",
            "|      S2     |  None | 0.11917167594309287  |  None  |\n",
            "|      S3     |  None |  0.093655125306283   |  None  |\n",
            "|      S4     |  None |  5.233100927972841   |  None  |\n",
            "|      S5     |  None | 0.004239272389424183 |  None  |\n",
            "+-------------+-------+----------------------+--------+\n",
            "[11 rows x 4 columns]\n",
            "Note: Only the head of the SFrame is printed.\n",
            "You can use print_rows(num_rows=m, num_columns=n) to print more rows and columns.\n",
            "------------------------------------------------------------------\n",
            "------------------------------------------------------------------\n",
            "Modelo ElasticNet Turi Create:\n",
            "+-------------+-------+----------------------+--------+\n",
            "|     name    | index |        value         | stderr |\n",
            "+-------------+-------+----------------------+--------+\n",
            "| (intercept) |  None |  13.891495683933591  |  None  |\n",
            "|     AGE     |  None |  0.3146033385173324  |  None  |\n",
            "|     SEX     |  None |  7.007256224849099   |  None  |\n",
            "|     BMI     |  None |  0.8491519677792165  |  None  |\n",
            "|      BP     |  None | 0.19941245244146522  |  None  |\n",
            "|      S1     |  None | 0.07673049940519862  |  None  |\n",
            "|      S2     |  None | 0.11446350136005203  |  None  |\n",
            "|      S3     |  None | 0.09061784501880252  |  None  |\n",
            "|      S4     |  None |  5.203445186558445   |  None  |\n",
            "|      S5     |  None | 0.004244557769013668 |  None  |\n",
            "+-------------+-------+----------------------+--------+\n",
            "[11 rows x 4 columns]\n",
            "Note: Only the head of the SFrame is printed.\n",
            "You can use print_rows(num_rows=m, num_columns=n) to print more rows and columns.\n",
            "------------------------------------------------------------------\n"
          ]
        }
      ]
    },
    {
      "cell_type": "markdown",
      "source": [
        "##Scikit-Learn"
      ],
      "metadata": {
        "id": "1OqTp429i5Wd"
      }
    },
    {
      "cell_type": "code",
      "source": [
        "regrLasso = linear_model.Lasso(alpha=0.5)\n",
        "regrRidge= linear_model.Ridge(alpha=0.5)\n",
        "regrEnet=linear_model.ElasticNet(alpha=0.5, l1_ratio=0.5)\n",
        "\n",
        "regrLasso.fit(x, y)\n",
        "regrRidge.fit(x, y)\n",
        "regrEnet.fit(x, y)\n",
        "\n",
        "print(\"------------------------------------------------------------------\")\n",
        "print(\"Modelo SKlearn Lasso: \")\n",
        "print(regrLasso.coef_, regrLasso.intercept_)\n",
        "print(\"------------------------------------------------------------------\")\n",
        "print(\"MAE: \",mean_absolute_error(y, regrLasso.predict(x)))\n",
        "print(\"MSE: \",mean_squared_error(y, regrLasso.predict(x)))\n",
        "print(\"------------------------------------------------------------------\")\n",
        "print(\"------------------------------------------------------------------\")\n",
        "print(\"Modelo SKlearn Ridge: \")\n",
        "print(regrRidge.coef_, regrRidge.intercept_)\n",
        "print(\"------------------------------------------------------------------\")\n",
        "print(\"MAE: \",mean_absolute_error(y, regrRidge.predict(x)))\n",
        "print(\"MSE: \",mean_squared_error(y, regrRidge.predict(x)))\n",
        "print(\"------------------------------------------------------------------\")\n",
        "print(\"------------------------------------------------------------------\")\n",
        "print(\"Modelo SKlearn Enet: \")\n",
        "print(regrEnet.coef_, regrEnet.intercept_)\n",
        "print(\"------------------------------------------------------------------\")\n",
        "print(\"MAE: \",mean_absolute_error(y, regrEnet.predict(x)))\n",
        "print(\"MSE: \",mean_squared_error(y, regrEnet.predict(x)))\n",
        "print(\"------------------------------------------------------------------\")"
      ],
      "metadata": {
        "id": "u9cGo9_ujCHG",
        "colab": {
          "base_uri": "https://localhost:8080/"
        },
        "outputId": "aa26961d-c037-4672-ffb7-48c866ea4be8"
      },
      "execution_count": null,
      "outputs": [
        {
          "output_type": "stream",
          "name": "stdout",
          "text": [
            "------------------------------------------------------------------\n",
            "Modelo SKlearn Lasso: \n",
            "[ 2.62381170e-02 -2.03924211e+01  6.08904727e+00  1.15941147e+00\n",
            "  1.14394186e+00 -1.30175314e+00 -2.15032993e+00  2.20551835e+00\n",
            "  2.67554241e-03  3.67479798e-01] -92.53977519841385\n",
            "------------------------------------------------------------------\n",
            "MAE:  44.43535669325782\n",
            "MSE:  2972.2151228800185\n",
            "------------------------------------------------------------------\n",
            "------------------------------------------------------------------\n",
            "Modelo SKlearn Ridge: \n",
            "[ 3.90691133e-02 -2.30172572e+01  6.08177750e+00  1.18374605e+00\n",
            "  1.07570079e+00 -1.28736708e+00 -1.98183543e+00  4.76789807e+00\n",
            "  2.72668274e-03  3.67439741e-01] -99.01609811444052\n",
            "------------------------------------------------------------------\n",
            "MAE:  44.34016777661671\n",
            "MSE:  2969.6511695872946\n",
            "------------------------------------------------------------------\n",
            "------------------------------------------------------------------\n",
            "Modelo SKlearn Enet: \n",
            "[-9.00967691e-03 -9.54211578e+00  6.18561479e+00  1.08598723e+00\n",
            "  1.20805683e+00 -1.35085686e+00 -2.10974406e+00  1.16505821e+00\n",
            "  2.63531674e-03  3.39328247e-01] -104.01199020549919\n",
            "------------------------------------------------------------------\n",
            "MAE:  44.99710841594898\n",
            "MSE:  3007.1358968931345\n",
            "------------------------------------------------------------------\n"
          ]
        }
      ]
    }
  ]
}